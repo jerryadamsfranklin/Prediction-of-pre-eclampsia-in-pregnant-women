{
  "nbformat": 4,
  "nbformat_minor": 0,
  "metadata": {
    "colab": {
      "name": "DS5500 Project_ SMOTE_ManaswiniNagaraj.ipynb",
      "provenance": [],
      "collapsed_sections": [],
      "authorship_tag": "ABX9TyPEm26C7kjjkrM2cv/n0lue",
      "include_colab_link": true
    },
    "kernelspec": {
      "name": "python3",
      "display_name": "Python 3"
    },
    "language_info": {
      "name": "python"
    }
  },
  "cells": [
    {
      "cell_type": "markdown",
      "metadata": {
        "id": "view-in-github",
        "colab_type": "text"
      },
      "source": [
        "<a href=\"https://colab.research.google.com/github/jerryadamsfranklin/Prediction-of-pre-eclampsia-in-pregnant-women/blob/main/DS5500_Project__SMOTE_ManaswiniNagaraj.ipynb\" target=\"_parent\"><img src=\"https://colab.research.google.com/assets/colab-badge.svg\" alt=\"Open In Colab\"/></a>"
      ]
    },
    {
      "cell_type": "code",
      "metadata": {
        "colab": {
          "base_uri": "https://localhost:8080/"
        },
        "id": "PZUtY68wg-SC",
        "outputId": "d41894bd-5d2b-4abe-ea44-00c144d0fd19"
      },
      "source": [
        "from google.colab import drive\n",
        "drive.mount('gDrive')"
      ],
      "execution_count": 1,
      "outputs": [
        {
          "output_type": "stream",
          "name": "stdout",
          "text": [
            "Mounted at gDrive\n"
          ]
        }
      ]
    },
    {
      "cell_type": "code",
      "metadata": {
        "id": "Lrml7oOYz6Bq"
      },
      "source": [
        "import pandas as pd\n",
        "import numpy as np\n",
        "import matplotlib.pyplot as plt\n",
        "import seaborn as sns\n",
        "from sklearn.model_selection import train_test_split\n",
        "from sklearn.linear_model import LogisticRegression\n",
        "from sklearn.metrics import roc_curve, auc, confusion_matrix\n",
        "from sklearn.metrics import roc_auc_score"
      ],
      "execution_count": 2,
      "outputs": []
    },
    {
      "cell_type": "code",
      "metadata": {
        "id": "wttfzCJp1WGr"
      },
      "source": [
        "#read the dataset\n",
        "protect = pd.read_csv(\"gDrive/MyDrive/Moi_kaggle/DS5500_dataset.csv\", engine = \"python\")"
      ],
      "execution_count": 3,
      "outputs": []
    },
    {
      "cell_type": "code",
      "metadata": {
        "id": "6pEisHnG3FKS",
        "colab": {
          "base_uri": "https://localhost:8080/",
          "height": 223
        },
        "outputId": "b5f81286-50c1-4ad4-d7c8-58f04e1699c5"
      },
      "source": [
        "#take a look at the dataset\n",
        "protect.head()"
      ],
      "execution_count": 4,
      "outputs": [
        {
          "output_type": "execute_result",
          "data": {
            "text/html": [
              "<div>\n",
              "<style scoped>\n",
              "    .dataframe tbody tr th:only-of-type {\n",
              "        vertical-align: middle;\n",
              "    }\n",
              "\n",
              "    .dataframe tbody tr th {\n",
              "        vertical-align: top;\n",
              "    }\n",
              "\n",
              "    .dataframe thead th {\n",
              "        text-align: right;\n",
              "    }\n",
              "</style>\n",
              "<table border=\"1\" class=\"dataframe\">\n",
              "  <thead>\n",
              "    <tr style=\"text-align: right;\">\n",
              "      <th></th>\n",
              "      <th>SYS_LOC_CODE</th>\n",
              "      <th>obdiffcard</th>\n",
              "      <th>obdiffhbp</th>\n",
              "      <th>obdiffkidney</th>\n",
              "      <th>obdiffliver</th>\n",
              "      <th>RACE__1</th>\n",
              "      <th>RACE__2</th>\n",
              "      <th>RACE__3</th>\n",
              "      <th>RACE__4</th>\n",
              "      <th>RACE__5</th>\n",
              "      <th>RACE__6</th>\n",
              "      <th>RACE__97</th>\n",
              "      <th>RACE__888</th>\n",
              "      <th>RACE__999</th>\n",
              "      <th>race97</th>\n",
              "      <th>hisp</th>\n",
              "      <th>smkever</th>\n",
              "      <th>alcdays</th>\n",
              "      <th>marijuse</th>\n",
              "      <th>druguse</th>\n",
              "      <th>fvcurrht_foot</th>\n",
              "      <th>fvcurrht_inch</th>\n",
              "      <th>wtprepreg</th>\n",
              "      <th>prembirthnum</th>\n",
              "      <th>pregnum</th>\n",
              "      <th>prevpreeclmp</th>\n",
              "      <th>preveclmp</th>\n",
              "      <th>currpreeclmp</th>\n",
              "      <th>curreclmp</th>\n",
              "      <th>currhd</th>\n",
              "      <th>currgd</th>\n",
              "      <th>prevhyp</th>\n",
              "      <th>preghyp_durante</th>\n",
              "      <th>prevdiab</th>\n",
              "      <th>pregdiab_durante</th>\n",
              "      <th>preglup_durante</th>\n",
              "      <th>prevlup</th>\n",
              "      <th>tvcurrpreeclmp</th>\n",
              "      <th>tvcurreclmp</th>\n",
              "      <th>tvcurrgd</th>\n",
              "      <th>ivf</th>\n",
              "      <th>MULTIFETUS</th>\n",
              "      <th>pptypelabor</th>\n",
              "      <th>ppinduct</th>\n",
              "      <th>pppretlabw</th>\n",
              "      <th>pppreeclampsia</th>\n",
              "      <th>vitd</th>\n",
              "      <th>vitdfreq</th>\n",
              "      <th>cal</th>\n",
              "      <th>calfreq</th>\n",
              "    </tr>\n",
              "  </thead>\n",
              "  <tbody>\n",
              "    <tr>\n",
              "      <th>0</th>\n",
              "      <td>1001</td>\n",
              "      <td>NaN</td>\n",
              "      <td>NaN</td>\n",
              "      <td>NaN</td>\n",
              "      <td>NaN</td>\n",
              "      <td>1</td>\n",
              "      <td>0</td>\n",
              "      <td>0</td>\n",
              "      <td>0</td>\n",
              "      <td>0</td>\n",
              "      <td>0</td>\n",
              "      <td>0</td>\n",
              "      <td>0</td>\n",
              "      <td>0</td>\n",
              "      <td>NaN</td>\n",
              "      <td>1.0</td>\n",
              "      <td>0.0</td>\n",
              "      <td>1.0</td>\n",
              "      <td>0.0</td>\n",
              "      <td>0.0</td>\n",
              "      <td>5.0</td>\n",
              "      <td>1.0</td>\n",
              "      <td>85.0</td>\n",
              "      <td>0.0</td>\n",
              "      <td>1.0</td>\n",
              "      <td>NaN</td>\n",
              "      <td>NaN</td>\n",
              "      <td>0.0</td>\n",
              "      <td>0.0</td>\n",
              "      <td>0.0</td>\n",
              "      <td>0.0</td>\n",
              "      <td>0.0</td>\n",
              "      <td>0.0</td>\n",
              "      <td>0.0</td>\n",
              "      <td>0.0</td>\n",
              "      <td>0.0</td>\n",
              "      <td>0.0</td>\n",
              "      <td>0.0</td>\n",
              "      <td>0.0</td>\n",
              "      <td>0.0</td>\n",
              "      <td>0.0</td>\n",
              "      <td>0</td>\n",
              "      <td>1.0</td>\n",
              "      <td>NaN</td>\n",
              "      <td>NaN</td>\n",
              "      <td>NaN</td>\n",
              "      <td>0.0</td>\n",
              "      <td>NaN</td>\n",
              "      <td>0.0</td>\n",
              "      <td>NaN</td>\n",
              "    </tr>\n",
              "    <tr>\n",
              "      <th>1</th>\n",
              "      <td>1006</td>\n",
              "      <td>NaN</td>\n",
              "      <td>NaN</td>\n",
              "      <td>NaN</td>\n",
              "      <td>NaN</td>\n",
              "      <td>1</td>\n",
              "      <td>1</td>\n",
              "      <td>0</td>\n",
              "      <td>0</td>\n",
              "      <td>0</td>\n",
              "      <td>0</td>\n",
              "      <td>1</td>\n",
              "      <td>0</td>\n",
              "      <td>0</td>\n",
              "      <td>India</td>\n",
              "      <td>1.0</td>\n",
              "      <td>0.0</td>\n",
              "      <td>NaN</td>\n",
              "      <td>0.0</td>\n",
              "      <td>0.0</td>\n",
              "      <td>5.0</td>\n",
              "      <td>5.0</td>\n",
              "      <td>155.0</td>\n",
              "      <td>0.0</td>\n",
              "      <td>1.0</td>\n",
              "      <td>NaN</td>\n",
              "      <td>NaN</td>\n",
              "      <td>0.0</td>\n",
              "      <td>0.0</td>\n",
              "      <td>0.0</td>\n",
              "      <td>0.0</td>\n",
              "      <td>0.0</td>\n",
              "      <td>0.0</td>\n",
              "      <td>0.0</td>\n",
              "      <td>0.0</td>\n",
              "      <td>0.0</td>\n",
              "      <td>0.0</td>\n",
              "      <td>0.0</td>\n",
              "      <td>0.0</td>\n",
              "      <td>0.0</td>\n",
              "      <td>0.0</td>\n",
              "      <td>0</td>\n",
              "      <td>1.0</td>\n",
              "      <td>NaN</td>\n",
              "      <td>NaN</td>\n",
              "      <td>NaN</td>\n",
              "      <td>0.0</td>\n",
              "      <td>NaN</td>\n",
              "      <td>0.0</td>\n",
              "      <td>NaN</td>\n",
              "    </tr>\n",
              "    <tr>\n",
              "      <th>2</th>\n",
              "      <td>1009</td>\n",
              "      <td>NaN</td>\n",
              "      <td>NaN</td>\n",
              "      <td>NaN</td>\n",
              "      <td>NaN</td>\n",
              "      <td>0</td>\n",
              "      <td>0</td>\n",
              "      <td>1</td>\n",
              "      <td>0</td>\n",
              "      <td>0</td>\n",
              "      <td>0</td>\n",
              "      <td>0</td>\n",
              "      <td>0</td>\n",
              "      <td>0</td>\n",
              "      <td>NaN</td>\n",
              "      <td>1.0</td>\n",
              "      <td>1.0</td>\n",
              "      <td>1.0</td>\n",
              "      <td>0.0</td>\n",
              "      <td>0.0</td>\n",
              "      <td>5.0</td>\n",
              "      <td>3.0</td>\n",
              "      <td>200.0</td>\n",
              "      <td>1.0</td>\n",
              "      <td>2.0</td>\n",
              "      <td>1.0</td>\n",
              "      <td>1.0</td>\n",
              "      <td>0.0</td>\n",
              "      <td>0.0</td>\n",
              "      <td>0.0</td>\n",
              "      <td>0.0</td>\n",
              "      <td>NaN</td>\n",
              "      <td>NaN</td>\n",
              "      <td>NaN</td>\n",
              "      <td>NaN</td>\n",
              "      <td>NaN</td>\n",
              "      <td>NaN</td>\n",
              "      <td>NaN</td>\n",
              "      <td>NaN</td>\n",
              "      <td>NaN</td>\n",
              "      <td>0.0</td>\n",
              "      <td>0</td>\n",
              "      <td>1.0</td>\n",
              "      <td>NaN</td>\n",
              "      <td>NaN</td>\n",
              "      <td>NaN</td>\n",
              "      <td>NaN</td>\n",
              "      <td>NaN</td>\n",
              "      <td>NaN</td>\n",
              "      <td>NaN</td>\n",
              "    </tr>\n",
              "    <tr>\n",
              "      <th>3</th>\n",
              "      <td>1012</td>\n",
              "      <td>NaN</td>\n",
              "      <td>NaN</td>\n",
              "      <td>NaN</td>\n",
              "      <td>NaN</td>\n",
              "      <td>1</td>\n",
              "      <td>0</td>\n",
              "      <td>0</td>\n",
              "      <td>0</td>\n",
              "      <td>0</td>\n",
              "      <td>0</td>\n",
              "      <td>0</td>\n",
              "      <td>0</td>\n",
              "      <td>0</td>\n",
              "      <td>NaN</td>\n",
              "      <td>1.0</td>\n",
              "      <td>1.0</td>\n",
              "      <td>1.0</td>\n",
              "      <td>0.0</td>\n",
              "      <td>0.0</td>\n",
              "      <td>5.0</td>\n",
              "      <td>2.0</td>\n",
              "      <td>152.0</td>\n",
              "      <td>1.0</td>\n",
              "      <td>2.0</td>\n",
              "      <td>0.0</td>\n",
              "      <td>0.0</td>\n",
              "      <td>0.0</td>\n",
              "      <td>0.0</td>\n",
              "      <td>0.0</td>\n",
              "      <td>0.0</td>\n",
              "      <td>0.0</td>\n",
              "      <td>0.0</td>\n",
              "      <td>0.0</td>\n",
              "      <td>0.0</td>\n",
              "      <td>0.0</td>\n",
              "      <td>0.0</td>\n",
              "      <td>0.0</td>\n",
              "      <td>0.0</td>\n",
              "      <td>0.0</td>\n",
              "      <td>0.0</td>\n",
              "      <td>0</td>\n",
              "      <td>1.0</td>\n",
              "      <td>NaN</td>\n",
              "      <td>NaN</td>\n",
              "      <td>0.0</td>\n",
              "      <td>0.0</td>\n",
              "      <td>NaN</td>\n",
              "      <td>0.0</td>\n",
              "      <td>NaN</td>\n",
              "    </tr>\n",
              "    <tr>\n",
              "      <th>4</th>\n",
              "      <td>1013</td>\n",
              "      <td>NaN</td>\n",
              "      <td>NaN</td>\n",
              "      <td>NaN</td>\n",
              "      <td>NaN</td>\n",
              "      <td>1</td>\n",
              "      <td>0</td>\n",
              "      <td>0</td>\n",
              "      <td>0</td>\n",
              "      <td>0</td>\n",
              "      <td>0</td>\n",
              "      <td>0</td>\n",
              "      <td>0</td>\n",
              "      <td>0</td>\n",
              "      <td>NaN</td>\n",
              "      <td>1.0</td>\n",
              "      <td>0.0</td>\n",
              "      <td>1.0</td>\n",
              "      <td>0.0</td>\n",
              "      <td>0.0</td>\n",
              "      <td>5.0</td>\n",
              "      <td>5.0</td>\n",
              "      <td>130.0</td>\n",
              "      <td>0.0</td>\n",
              "      <td>2.0</td>\n",
              "      <td>0.0</td>\n",
              "      <td>0.0</td>\n",
              "      <td>0.0</td>\n",
              "      <td>0.0</td>\n",
              "      <td>0.0</td>\n",
              "      <td>0.0</td>\n",
              "      <td>0.0</td>\n",
              "      <td>0.0</td>\n",
              "      <td>0.0</td>\n",
              "      <td>0.0</td>\n",
              "      <td>0.0</td>\n",
              "      <td>0.0</td>\n",
              "      <td>0.0</td>\n",
              "      <td>0.0</td>\n",
              "      <td>0.0</td>\n",
              "      <td>0.0</td>\n",
              "      <td>0</td>\n",
              "      <td>1.0</td>\n",
              "      <td>NaN</td>\n",
              "      <td>NaN</td>\n",
              "      <td>NaN</td>\n",
              "      <td>0.0</td>\n",
              "      <td>NaN</td>\n",
              "      <td>0.0</td>\n",
              "      <td>NaN</td>\n",
              "    </tr>\n",
              "  </tbody>\n",
              "</table>\n",
              "</div>"
            ],
            "text/plain": [
              "   SYS_LOC_CODE  obdiffcard  obdiffhbp  ...  vitdfreq  cal  calfreq\n",
              "0          1001         NaN        NaN  ...       NaN  0.0      NaN\n",
              "1          1006         NaN        NaN  ...       NaN  0.0      NaN\n",
              "2          1009         NaN        NaN  ...       NaN  NaN      NaN\n",
              "3          1012         NaN        NaN  ...       NaN  0.0      NaN\n",
              "4          1013         NaN        NaN  ...       NaN  0.0      NaN\n",
              "\n",
              "[5 rows x 50 columns]"
            ]
          },
          "metadata": {},
          "execution_count": 4
        }
      ]
    },
    {
      "cell_type": "markdown",
      "metadata": {
        "id": "kLzz6BW7smlS"
      },
      "source": [
        "Dataset Dimensions and Statistics"
      ]
    },
    {
      "cell_type": "code",
      "metadata": {
        "colab": {
          "base_uri": "https://localhost:8080/"
        },
        "id": "QPNJ2vTHPMrz",
        "outputId": "003b0b3b-0695-4a53-846a-af7f0d7d60fd"
      },
      "source": [
        "protect.shape"
      ],
      "execution_count": 5,
      "outputs": [
        {
          "output_type": "execute_result",
          "data": {
            "text/plain": [
              "(1859, 50)"
            ]
          },
          "metadata": {},
          "execution_count": 5
        }
      ]
    },
    {
      "cell_type": "code",
      "metadata": {
        "colab": {
          "base_uri": "https://localhost:8080/"
        },
        "id": "8o3p9uxt4Y6p",
        "outputId": "8007bff4-7188-4f1d-e643-37b6cbf49085"
      },
      "source": [
        "protect[1: ].isna().sum()"
      ],
      "execution_count": 6,
      "outputs": [
        {
          "output_type": "execute_result",
          "data": {
            "text/plain": [
              "SYS_LOC_CODE           0\n",
              "obdiffcard          1856\n",
              "obdiffhbp           1856\n",
              "obdiffkidney        1856\n",
              "obdiffliver         1856\n",
              "RACE__1                0\n",
              "RACE__2                0\n",
              "RACE__3                0\n",
              "RACE__4                0\n",
              "RACE__5                0\n",
              "RACE__6                0\n",
              "RACE__97               0\n",
              "RACE__888              0\n",
              "RACE__999              0\n",
              "race97              1842\n",
              "hisp                 128\n",
              "smkever                3\n",
              "alcdays             1060\n",
              "marijuse               4\n",
              "druguse               10\n",
              "fvcurrht_foot         59\n",
              "fvcurrht_inch         70\n",
              "wtprepreg             12\n",
              "prembirthnum         433\n",
              "pregnum                6\n",
              "prevpreeclmp         848\n",
              "preveclmp            849\n",
              "currpreeclmp          25\n",
              "curreclmp             23\n",
              "currhd                27\n",
              "currgd                24\n",
              "prevhyp              235\n",
              "preghyp_durante      237\n",
              "prevdiab             235\n",
              "pregdiab_durante     236\n",
              "preglup_durante      235\n",
              "prevlup              233\n",
              "tvcurrpreeclmp       153\n",
              "tvcurreclmp          153\n",
              "tvcurrgd             155\n",
              "ivf                    1\n",
              "MULTIFETUS             0\n",
              "pptypelabor          916\n",
              "ppinduct            1776\n",
              "pppretlabw          1822\n",
              "pppreeclampsia      1752\n",
              "vitd                  97\n",
              "vitdfreq            1848\n",
              "cal                   98\n",
              "calfreq             1831\n",
              "dtype: int64"
            ]
          },
          "metadata": {},
          "execution_count": 6
        }
      ]
    },
    {
      "cell_type": "code",
      "metadata": {
        "colab": {
          "base_uri": "https://localhost:8080/",
          "height": 1000
        },
        "id": "Jv5izR4H8N5g",
        "outputId": "601ba9b2-7544-4d5e-a665-e2588364e0a0"
      },
      "source": [
        "total = protect.isna().sum().sort_values(ascending=False)\n",
        "percent = ((protect.isna().sum()/protect.isna().count())*100).sort_values(ascending=False)\n",
        "missing_data = pd.concat([total, percent], axis=1, keys=['Total', 'Percent'])\n",
        "missing_data"
      ],
      "execution_count": 7,
      "outputs": [
        {
          "output_type": "execute_result",
          "data": {
            "text/html": [
              "<div>\n",
              "<style scoped>\n",
              "    .dataframe tbody tr th:only-of-type {\n",
              "        vertical-align: middle;\n",
              "    }\n",
              "\n",
              "    .dataframe tbody tr th {\n",
              "        vertical-align: top;\n",
              "    }\n",
              "\n",
              "    .dataframe thead th {\n",
              "        text-align: right;\n",
              "    }\n",
              "</style>\n",
              "<table border=\"1\" class=\"dataframe\">\n",
              "  <thead>\n",
              "    <tr style=\"text-align: right;\">\n",
              "      <th></th>\n",
              "      <th>Total</th>\n",
              "      <th>Percent</th>\n",
              "    </tr>\n",
              "  </thead>\n",
              "  <tbody>\n",
              "    <tr>\n",
              "      <th>obdiffliver</th>\n",
              "      <td>1857</td>\n",
              "      <td>99.892415</td>\n",
              "    </tr>\n",
              "    <tr>\n",
              "      <th>obdiffcard</th>\n",
              "      <td>1857</td>\n",
              "      <td>99.892415</td>\n",
              "    </tr>\n",
              "    <tr>\n",
              "      <th>obdiffhbp</th>\n",
              "      <td>1857</td>\n",
              "      <td>99.892415</td>\n",
              "    </tr>\n",
              "    <tr>\n",
              "      <th>obdiffkidney</th>\n",
              "      <td>1857</td>\n",
              "      <td>99.892415</td>\n",
              "    </tr>\n",
              "    <tr>\n",
              "      <th>vitdfreq</th>\n",
              "      <td>1849</td>\n",
              "      <td>99.462076</td>\n",
              "    </tr>\n",
              "    <tr>\n",
              "      <th>race97</th>\n",
              "      <td>1843</td>\n",
              "      <td>99.139322</td>\n",
              "    </tr>\n",
              "    <tr>\n",
              "      <th>calfreq</th>\n",
              "      <td>1832</td>\n",
              "      <td>98.547606</td>\n",
              "    </tr>\n",
              "    <tr>\n",
              "      <th>pppretlabw</th>\n",
              "      <td>1823</td>\n",
              "      <td>98.063475</td>\n",
              "    </tr>\n",
              "    <tr>\n",
              "      <th>ppinduct</th>\n",
              "      <td>1777</td>\n",
              "      <td>95.589026</td>\n",
              "    </tr>\n",
              "    <tr>\n",
              "      <th>pppreeclampsia</th>\n",
              "      <td>1753</td>\n",
              "      <td>94.298010</td>\n",
              "    </tr>\n",
              "    <tr>\n",
              "      <th>alcdays</th>\n",
              "      <td>1060</td>\n",
              "      <td>57.019903</td>\n",
              "    </tr>\n",
              "    <tr>\n",
              "      <th>pptypelabor</th>\n",
              "      <td>916</td>\n",
              "      <td>49.273803</td>\n",
              "    </tr>\n",
              "    <tr>\n",
              "      <th>preveclmp</th>\n",
              "      <td>850</td>\n",
              "      <td>45.723507</td>\n",
              "    </tr>\n",
              "    <tr>\n",
              "      <th>prevpreeclmp</th>\n",
              "      <td>849</td>\n",
              "      <td>45.669715</td>\n",
              "    </tr>\n",
              "    <tr>\n",
              "      <th>prembirthnum</th>\n",
              "      <td>433</td>\n",
              "      <td>23.292093</td>\n",
              "    </tr>\n",
              "    <tr>\n",
              "      <th>preghyp_durante</th>\n",
              "      <td>237</td>\n",
              "      <td>12.748790</td>\n",
              "    </tr>\n",
              "    <tr>\n",
              "      <th>pregdiab_durante</th>\n",
              "      <td>236</td>\n",
              "      <td>12.694997</td>\n",
              "    </tr>\n",
              "    <tr>\n",
              "      <th>prevdiab</th>\n",
              "      <td>235</td>\n",
              "      <td>12.641205</td>\n",
              "    </tr>\n",
              "    <tr>\n",
              "      <th>prevhyp</th>\n",
              "      <td>235</td>\n",
              "      <td>12.641205</td>\n",
              "    </tr>\n",
              "    <tr>\n",
              "      <th>preglup_durante</th>\n",
              "      <td>235</td>\n",
              "      <td>12.641205</td>\n",
              "    </tr>\n",
              "    <tr>\n",
              "      <th>prevlup</th>\n",
              "      <td>233</td>\n",
              "      <td>12.533620</td>\n",
              "    </tr>\n",
              "    <tr>\n",
              "      <th>tvcurrgd</th>\n",
              "      <td>155</td>\n",
              "      <td>8.337816</td>\n",
              "    </tr>\n",
              "    <tr>\n",
              "      <th>tvcurreclmp</th>\n",
              "      <td>153</td>\n",
              "      <td>8.230231</td>\n",
              "    </tr>\n",
              "    <tr>\n",
              "      <th>tvcurrpreeclmp</th>\n",
              "      <td>153</td>\n",
              "      <td>8.230231</td>\n",
              "    </tr>\n",
              "    <tr>\n",
              "      <th>hisp</th>\n",
              "      <td>128</td>\n",
              "      <td>6.885422</td>\n",
              "    </tr>\n",
              "    <tr>\n",
              "      <th>cal</th>\n",
              "      <td>98</td>\n",
              "      <td>5.271651</td>\n",
              "    </tr>\n",
              "    <tr>\n",
              "      <th>vitd</th>\n",
              "      <td>97</td>\n",
              "      <td>5.217859</td>\n",
              "    </tr>\n",
              "    <tr>\n",
              "      <th>fvcurrht_inch</th>\n",
              "      <td>70</td>\n",
              "      <td>3.765465</td>\n",
              "    </tr>\n",
              "    <tr>\n",
              "      <th>fvcurrht_foot</th>\n",
              "      <td>59</td>\n",
              "      <td>3.173749</td>\n",
              "    </tr>\n",
              "    <tr>\n",
              "      <th>currhd</th>\n",
              "      <td>27</td>\n",
              "      <td>1.452394</td>\n",
              "    </tr>\n",
              "    <tr>\n",
              "      <th>currpreeclmp</th>\n",
              "      <td>25</td>\n",
              "      <td>1.344809</td>\n",
              "    </tr>\n",
              "    <tr>\n",
              "      <th>currgd</th>\n",
              "      <td>24</td>\n",
              "      <td>1.291017</td>\n",
              "    </tr>\n",
              "    <tr>\n",
              "      <th>curreclmp</th>\n",
              "      <td>23</td>\n",
              "      <td>1.237224</td>\n",
              "    </tr>\n",
              "    <tr>\n",
              "      <th>wtprepreg</th>\n",
              "      <td>12</td>\n",
              "      <td>0.645508</td>\n",
              "    </tr>\n",
              "    <tr>\n",
              "      <th>druguse</th>\n",
              "      <td>10</td>\n",
              "      <td>0.537924</td>\n",
              "    </tr>\n",
              "    <tr>\n",
              "      <th>pregnum</th>\n",
              "      <td>6</td>\n",
              "      <td>0.322754</td>\n",
              "    </tr>\n",
              "    <tr>\n",
              "      <th>marijuse</th>\n",
              "      <td>4</td>\n",
              "      <td>0.215169</td>\n",
              "    </tr>\n",
              "    <tr>\n",
              "      <th>smkever</th>\n",
              "      <td>3</td>\n",
              "      <td>0.161377</td>\n",
              "    </tr>\n",
              "    <tr>\n",
              "      <th>ivf</th>\n",
              "      <td>1</td>\n",
              "      <td>0.053792</td>\n",
              "    </tr>\n",
              "    <tr>\n",
              "      <th>RACE__999</th>\n",
              "      <td>0</td>\n",
              "      <td>0.000000</td>\n",
              "    </tr>\n",
              "    <tr>\n",
              "      <th>RACE__888</th>\n",
              "      <td>0</td>\n",
              "      <td>0.000000</td>\n",
              "    </tr>\n",
              "    <tr>\n",
              "      <th>RACE__97</th>\n",
              "      <td>0</td>\n",
              "      <td>0.000000</td>\n",
              "    </tr>\n",
              "    <tr>\n",
              "      <th>RACE__6</th>\n",
              "      <td>0</td>\n",
              "      <td>0.000000</td>\n",
              "    </tr>\n",
              "    <tr>\n",
              "      <th>RACE__5</th>\n",
              "      <td>0</td>\n",
              "      <td>0.000000</td>\n",
              "    </tr>\n",
              "    <tr>\n",
              "      <th>RACE__4</th>\n",
              "      <td>0</td>\n",
              "      <td>0.000000</td>\n",
              "    </tr>\n",
              "    <tr>\n",
              "      <th>RACE__3</th>\n",
              "      <td>0</td>\n",
              "      <td>0.000000</td>\n",
              "    </tr>\n",
              "    <tr>\n",
              "      <th>RACE__2</th>\n",
              "      <td>0</td>\n",
              "      <td>0.000000</td>\n",
              "    </tr>\n",
              "    <tr>\n",
              "      <th>RACE__1</th>\n",
              "      <td>0</td>\n",
              "      <td>0.000000</td>\n",
              "    </tr>\n",
              "    <tr>\n",
              "      <th>MULTIFETUS</th>\n",
              "      <td>0</td>\n",
              "      <td>0.000000</td>\n",
              "    </tr>\n",
              "    <tr>\n",
              "      <th>SYS_LOC_CODE</th>\n",
              "      <td>0</td>\n",
              "      <td>0.000000</td>\n",
              "    </tr>\n",
              "  </tbody>\n",
              "</table>\n",
              "</div>"
            ],
            "text/plain": [
              "                  Total    Percent\n",
              "obdiffliver        1857  99.892415\n",
              "obdiffcard         1857  99.892415\n",
              "obdiffhbp          1857  99.892415\n",
              "obdiffkidney       1857  99.892415\n",
              "vitdfreq           1849  99.462076\n",
              "race97             1843  99.139322\n",
              "calfreq            1832  98.547606\n",
              "pppretlabw         1823  98.063475\n",
              "ppinduct           1777  95.589026\n",
              "pppreeclampsia     1753  94.298010\n",
              "alcdays            1060  57.019903\n",
              "pptypelabor         916  49.273803\n",
              "preveclmp           850  45.723507\n",
              "prevpreeclmp        849  45.669715\n",
              "prembirthnum        433  23.292093\n",
              "preghyp_durante     237  12.748790\n",
              "pregdiab_durante    236  12.694997\n",
              "prevdiab            235  12.641205\n",
              "prevhyp             235  12.641205\n",
              "preglup_durante     235  12.641205\n",
              "prevlup             233  12.533620\n",
              "tvcurrgd            155   8.337816\n",
              "tvcurreclmp         153   8.230231\n",
              "tvcurrpreeclmp      153   8.230231\n",
              "hisp                128   6.885422\n",
              "cal                  98   5.271651\n",
              "vitd                 97   5.217859\n",
              "fvcurrht_inch        70   3.765465\n",
              "fvcurrht_foot        59   3.173749\n",
              "currhd               27   1.452394\n",
              "currpreeclmp         25   1.344809\n",
              "currgd               24   1.291017\n",
              "curreclmp            23   1.237224\n",
              "wtprepreg            12   0.645508\n",
              "druguse              10   0.537924\n",
              "pregnum               6   0.322754\n",
              "marijuse              4   0.215169\n",
              "smkever               3   0.161377\n",
              "ivf                   1   0.053792\n",
              "RACE__999             0   0.000000\n",
              "RACE__888             0   0.000000\n",
              "RACE__97              0   0.000000\n",
              "RACE__6               0   0.000000\n",
              "RACE__5               0   0.000000\n",
              "RACE__4               0   0.000000\n",
              "RACE__3               0   0.000000\n",
              "RACE__2               0   0.000000\n",
              "RACE__1               0   0.000000\n",
              "MULTIFETUS            0   0.000000\n",
              "SYS_LOC_CODE          0   0.000000"
            ]
          },
          "metadata": {},
          "execution_count": 7
        }
      ]
    },
    {
      "cell_type": "markdown",
      "metadata": {
        "id": "yxyF8h4ts3yf"
      },
      "source": [
        "Class distributions of the target variables"
      ]
    },
    {
      "cell_type": "code",
      "metadata": {
        "colab": {
          "base_uri": "https://localhost:8080/",
          "height": 351
        },
        "id": "Zy5o6UHoKUBh",
        "outputId": "ae9ec77b-7452-457a-de5a-652519f9049f"
      },
      "source": [
        "# Class distributions for the first prenatal visit\n",
        "protect['currpreeclmp'].replace(888,np.NaN, inplace = True)\n",
        "pd.value_counts(protect['currpreeclmp']).plot.bar()\n",
        "plt.title(\"Class distribution during first prenatal visit\")\n",
        "plt.xlabel(\"Class - '0: No Current preeclampsia, 1: Diagnosed with preeclampsia\")\n",
        "plt.ylabel(\"Number of data points\")\n",
        "protect['currpreeclmp'].value_counts()\n"
      ],
      "execution_count": 8,
      "outputs": [
        {
          "output_type": "execute_result",
          "data": {
            "text/plain": [
              "0.0    1830\n",
              "1.0       1\n",
              "Name: currpreeclmp, dtype: int64"
            ]
          },
          "metadata": {},
          "execution_count": 8
        },
        {
          "output_type": "display_data",
          "data": {
            "image/png": "[encoded data removed]",
            "text/plain": [
              "<Figure size 432x288 with 1 Axes>"
            ]
          },
          "metadata": {
            "needs_background": "light"
          }
        }
      ]
    },
    {
      "cell_type": "code",
      "metadata": {
        "colab": {
          "base_uri": "https://localhost:8080/",
          "height": 351
        },
        "id": "IJIrtszzKyzq",
        "outputId": "2548274f-a275-4368-b8f6-879a702d39df"
      },
      "source": [
        "# Class distribtuions for the third prenatal visit\n",
        "protect['tvcurrpreeclmp'].replace(888,np.NaN, inplace = True)\n",
        "protect['tvcurrpreeclmp'].replace(999,np.NaN, inplace = True)\n",
        "pd.value_counts(protect['tvcurrpreeclmp']).plot.bar()\n",
        "plt.title(\"Class distribution during third prenatal visit\")\n",
        "plt.xlabel(\"Class - '0: No Current preeclampsia, 1: Diagnosed with preeclampsia\")\n",
        "plt.ylabel(\"Number of data points\")\n",
        "protect['tvcurrpreeclmp'].value_counts()"
      ],
      "execution_count": 9,
      "outputs": [
        {
          "output_type": "execute_result",
          "data": {
            "text/plain": [
              "0.0    1701\n",
              "1.0       2\n",
              "Name: tvcurrpreeclmp, dtype: int64"
            ]
          },
          "metadata": {},
          "execution_count": 9
        },
        {
          "output_type": "display_data",
          "data": {
            "image/png": "[encoded data removed]",
            "text/plain": [
              "<Figure size 432x288 with 1 Axes>"
            ]
          },
          "metadata": {
            "needs_background": "light"
          }
        }
      ]
    },
    {
      "cell_type": "code",
      "metadata": {
        "colab": {
          "base_uri": "https://localhost:8080/",
          "height": 351
        },
        "id": "ePUsglykK0Lh",
        "outputId": "538a98c7-3620-4e1d-9d19-f3849d3adbea"
      },
      "source": [
        "# Class distribution postpartum\n",
        "protect['pppreeclampsia'].replace(9999,np.NaN, inplace = True)\n",
        "pd.value_counts(protect['pppreeclampsia']).plot.bar()\n",
        "plt.title(\"Class distribution postpartum\")\n",
        "plt.xlabel(\"Class - '0: No Current preeclampsia, 1: Diagnosed with preeclampsia\")\n",
        "plt.ylabel(\"Number of data points\")\n",
        "protect['pppreeclampsia'].value_counts()"
      ],
      "execution_count": 10,
      "outputs": [
        {
          "output_type": "execute_result",
          "data": {
            "text/plain": [
              "0.0    73\n",
              "1.0    32\n",
              "Name: pppreeclampsia, dtype: int64"
            ]
          },
          "metadata": {},
          "execution_count": 10
        },
        {
          "output_type": "display_data",
          "data": {
            "image/png": "[encoded data removed]",
            "text/plain": [
              "<Figure size 432x288 with 1 Axes>"
            ]
          },
          "metadata": {
            "needs_background": "light"
          }
        }
      ]
    },
    {
      "cell_type": "markdown",
      "metadata": {
        "id": "4gEvXDKZtX-X"
      },
      "source": [
        "Since the distribution across the three target variables are highly imbalanced and since only one maong the 3 variables have >5 minority class data points, we combine all 3 target variables to make a new variable called total_preeclampsia to get as many points for the minority class as possible."
      ]
    },
    {
      "cell_type": "code",
      "metadata": {
        "id": "34cX8A-yB7VL"
      },
      "source": [
        "#create new column for pre-eclampsia combining all pre-eclampsia data. Drop the rows that are null in the new column\n",
        "#if currpreeclmp or tvcurrpreeclmp or pppreeclampsia == 1 then total_preeclampsia = 1 else if they are 0 then zero, if all are null, then null.\n",
        "pd.to_numeric(protect['currpreeclmp'])\n",
        "pd.to_numeric(protect['tvcurrpreeclmp'])\n",
        "pd.to_numeric(protect['pppreeclampsia'])\n",
        "\n",
        "#fill Nan values with 9999 for ease of imputation\n",
        "protect.fillna(value = 9999, inplace= True)\n",
        "\n"
      ],
      "execution_count": 11,
      "outputs": []
    },
    {
      "cell_type": "code",
      "metadata": {
        "colab": {
          "base_uri": "https://localhost:8080/",
          "height": 437
        },
        "id": "ao6Y7P6pDjRw",
        "outputId": "eb559e2f-89a8-46df-ae69-e6c71bc0ae0a"
      },
      "source": [
        "conditions = [((protect['currpreeclmp'].astype(int, errors = 'ignore') == 1) | (protect['tvcurrpreeclmp'].astype(int, errors = 'ignore') == 1) | (protect['pppreeclampsia'].astype(int, errors = 'ignore') == 1)),\n",
        "              ((protect['currpreeclmp'].astype(int, errors = 'ignore') == 0) | (protect['tvcurrpreeclmp'].astype(int, errors = 'ignore') == 0) | (protect['pppreeclampsia'].astype(int, errors = 'ignore') == 0)),\n",
        "              ((protect['currpreeclmp']== 9999) | (protect['tvcurrpreeclmp'] == 9999) | (protect['pppreeclampsia'] == 9999))]\n",
        "values = [1,0,9999]\n",
        "protect[\"total_preeclampsia\"] = np.select(conditions, values)\n",
        "display(protect)\n"
      ],
      "execution_count": 12,
      "outputs": [
        {
          "output_type": "display_data",
          "data": {
            "text/html": [
              "<div>\n",
              "<style scoped>\n",
              "    .dataframe tbody tr th:only-of-type {\n",
              "        vertical-align: middle;\n",
              "    }\n",
              "\n",
              "    .dataframe tbody tr th {\n",
              "        vertical-align: top;\n",
              "    }\n",
              "\n",
              "    .dataframe thead th {\n",
              "        text-align: right;\n",
              "    }\n",
              "</style>\n",
              "<table border=\"1\" class=\"dataframe\">\n",
              "  <thead>\n",
              "    <tr style=\"text-align: right;\">\n",
              "      <th></th>\n",
              "      <th>SYS_LOC_CODE</th>\n",
              "      <th>obdiffcard</th>\n",
              "      <th>obdiffhbp</th>\n",
              "      <th>obdiffkidney</th>\n",
              "      <th>obdiffliver</th>\n",
              "      <th>RACE__1</th>\n",
              "      <th>RACE__2</th>\n",
              "      <th>RACE__3</th>\n",
              "      <th>RACE__4</th>\n",
              "      <th>RACE__5</th>\n",
              "      <th>RACE__6</th>\n",
              "      <th>RACE__97</th>\n",
              "      <th>RACE__888</th>\n",
              "      <th>RACE__999</th>\n",
              "      <th>race97</th>\n",
              "      <th>hisp</th>\n",
              "      <th>smkever</th>\n",
              "      <th>alcdays</th>\n",
              "      <th>marijuse</th>\n",
              "      <th>druguse</th>\n",
              "      <th>fvcurrht_foot</th>\n",
              "      <th>fvcurrht_inch</th>\n",
              "      <th>wtprepreg</th>\n",
              "      <th>prembirthnum</th>\n",
              "      <th>pregnum</th>\n",
              "      <th>prevpreeclmp</th>\n",
              "      <th>preveclmp</th>\n",
              "      <th>currpreeclmp</th>\n",
              "      <th>curreclmp</th>\n",
              "      <th>currhd</th>\n",
              "      <th>currgd</th>\n",
              "      <th>prevhyp</th>\n",
              "      <th>preghyp_durante</th>\n",
              "      <th>prevdiab</th>\n",
              "      <th>pregdiab_durante</th>\n",
              "      <th>preglup_durante</th>\n",
              "      <th>prevlup</th>\n",
              "      <th>tvcurrpreeclmp</th>\n",
              "      <th>tvcurreclmp</th>\n",
              "      <th>tvcurrgd</th>\n",
              "      <th>ivf</th>\n",
              "      <th>MULTIFETUS</th>\n",
              "      <th>pptypelabor</th>\n",
              "      <th>ppinduct</th>\n",
              "      <th>pppretlabw</th>\n",
              "      <th>pppreeclampsia</th>\n",
              "      <th>vitd</th>\n",
              "      <th>vitdfreq</th>\n",
              "      <th>cal</th>\n",
              "      <th>calfreq</th>\n",
              "      <th>total_preeclampsia</th>\n",
              "    </tr>\n",
              "  </thead>\n",
              "  <tbody>\n",
              "    <tr>\n",
              "      <th>0</th>\n",
              "      <td>1001</td>\n",
              "      <td>9999.0</td>\n",
              "      <td>9999.0</td>\n",
              "      <td>9999.0</td>\n",
              "      <td>9999.0</td>\n",
              "      <td>1</td>\n",
              "      <td>0</td>\n",
              "      <td>0</td>\n",
              "      <td>0</td>\n",
              "      <td>0</td>\n",
              "      <td>0</td>\n",
              "      <td>0</td>\n",
              "      <td>0</td>\n",
              "      <td>0</td>\n",
              "      <td>9999</td>\n",
              "      <td>1.0</td>\n",
              "      <td>0.0</td>\n",
              "      <td>1.0</td>\n",
              "      <td>0.0</td>\n",
              "      <td>0.0</td>\n",
              "      <td>5.0</td>\n",
              "      <td>1.0</td>\n",
              "      <td>85.0</td>\n",
              "      <td>0.0</td>\n",
              "      <td>1.0</td>\n",
              "      <td>9999.0</td>\n",
              "      <td>9999.0</td>\n",
              "      <td>0.0</td>\n",
              "      <td>0.0</td>\n",
              "      <td>0.0</td>\n",
              "      <td>0.0</td>\n",
              "      <td>0.0</td>\n",
              "      <td>0.0</td>\n",
              "      <td>0.0</td>\n",
              "      <td>0.0</td>\n",
              "      <td>0.0</td>\n",
              "      <td>0.0</td>\n",
              "      <td>0.0</td>\n",
              "      <td>0.0</td>\n",
              "      <td>0.0</td>\n",
              "      <td>0.0</td>\n",
              "      <td>0</td>\n",
              "      <td>1.0</td>\n",
              "      <td>9999.0</td>\n",
              "      <td>9999.0</td>\n",
              "      <td>9999.0</td>\n",
              "      <td>0.0</td>\n",
              "      <td>9999.0</td>\n",
              "      <td>0.0</td>\n",
              "      <td>9999.0</td>\n",
              "      <td>0</td>\n",
              "    </tr>\n",
              "    <tr>\n",
              "      <th>1</th>\n",
              "      <td>1006</td>\n",
              "      <td>9999.0</td>\n",
              "      <td>9999.0</td>\n",
              "      <td>9999.0</td>\n",
              "      <td>9999.0</td>\n",
              "      <td>1</td>\n",
              "      <td>1</td>\n",
              "      <td>0</td>\n",
              "      <td>0</td>\n",
              "      <td>0</td>\n",
              "      <td>0</td>\n",
              "      <td>1</td>\n",
              "      <td>0</td>\n",
              "      <td>0</td>\n",
              "      <td>India</td>\n",
              "      <td>1.0</td>\n",
              "      <td>0.0</td>\n",
              "      <td>9999.0</td>\n",
              "      <td>0.0</td>\n",
              "      <td>0.0</td>\n",
              "      <td>5.0</td>\n",
              "      <td>5.0</td>\n",
              "      <td>155.0</td>\n",
              "      <td>0.0</td>\n",
              "      <td>1.0</td>\n",
              "      <td>9999.0</td>\n",
              "      <td>9999.0</td>\n",
              "      <td>0.0</td>\n",
              "      <td>0.0</td>\n",
              "      <td>0.0</td>\n",
              "      <td>0.0</td>\n",
              "      <td>0.0</td>\n",
              "      <td>0.0</td>\n",
              "      <td>0.0</td>\n",
              "      <td>0.0</td>\n",
              "      <td>0.0</td>\n",
              "      <td>0.0</td>\n",
              "      <td>0.0</td>\n",
              "      <td>0.0</td>\n",
              "      <td>0.0</td>\n",
              "      <td>0.0</td>\n",
              "      <td>0</td>\n",
              "      <td>1.0</td>\n",
              "      <td>9999.0</td>\n",
              "      <td>9999.0</td>\n",
              "      <td>9999.0</td>\n",
              "      <td>0.0</td>\n",
              "      <td>9999.0</td>\n",
              "      <td>0.0</td>\n",
              "      <td>9999.0</td>\n",
              "      <td>0</td>\n",
              "    </tr>\n",
              "    <tr>\n",
              "      <th>2</th>\n",
              "      <td>1009</td>\n",
              "      <td>9999.0</td>\n",
              "      <td>9999.0</td>\n",
              "      <td>9999.0</td>\n",
              "      <td>9999.0</td>\n",
              "      <td>0</td>\n",
              "      <td>0</td>\n",
              "      <td>1</td>\n",
              "      <td>0</td>\n",
              "      <td>0</td>\n",
              "      <td>0</td>\n",
              "      <td>0</td>\n",
              "      <td>0</td>\n",
              "      <td>0</td>\n",
              "      <td>9999</td>\n",
              "      <td>1.0</td>\n",
              "      <td>1.0</td>\n",
              "      <td>1.0</td>\n",
              "      <td>0.0</td>\n",
              "      <td>0.0</td>\n",
              "      <td>5.0</td>\n",
              "      <td>3.0</td>\n",
              "      <td>200.0</td>\n",
              "      <td>1.0</td>\n",
              "      <td>2.0</td>\n",
              "      <td>1.0</td>\n",
              "      <td>1.0</td>\n",
              "      <td>0.0</td>\n",
              "      <td>0.0</td>\n",
              "      <td>0.0</td>\n",
              "      <td>0.0</td>\n",
              "      <td>9999.0</td>\n",
              "      <td>9999.0</td>\n",
              "      <td>9999.0</td>\n",
              "      <td>9999.0</td>\n",
              "      <td>9999.0</td>\n",
              "      <td>9999.0</td>\n",
              "      <td>9999.0</td>\n",
              "      <td>9999.0</td>\n",
              "      <td>9999.0</td>\n",
              "      <td>0.0</td>\n",
              "      <td>0</td>\n",
              "      <td>1.0</td>\n",
              "      <td>9999.0</td>\n",
              "      <td>9999.0</td>\n",
              "      <td>9999.0</td>\n",
              "      <td>9999.0</td>\n",
              "      <td>9999.0</td>\n",
              "      <td>9999.0</td>\n",
              "      <td>9999.0</td>\n",
              "      <td>0</td>\n",
              "    </tr>\n",
              "    <tr>\n",
              "      <th>3</th>\n",
              "      <td>1012</td>\n",
              "      <td>9999.0</td>\n",
              "      <td>9999.0</td>\n",
              "      <td>9999.0</td>\n",
              "      <td>9999.0</td>\n",
              "      <td>1</td>\n",
              "      <td>0</td>\n",
              "      <td>0</td>\n",
              "      <td>0</td>\n",
              "      <td>0</td>\n",
              "      <td>0</td>\n",
              "      <td>0</td>\n",
              "      <td>0</td>\n",
              "      <td>0</td>\n",
              "      <td>9999</td>\n",
              "      <td>1.0</td>\n",
              "      <td>1.0</td>\n",
              "      <td>1.0</td>\n",
              "      <td>0.0</td>\n",
              "      <td>0.0</td>\n",
              "      <td>5.0</td>\n",
              "      <td>2.0</td>\n",
              "      <td>152.0</td>\n",
              "      <td>1.0</td>\n",
              "      <td>2.0</td>\n",
              "      <td>0.0</td>\n",
              "      <td>0.0</td>\n",
              "      <td>0.0</td>\n",
              "      <td>0.0</td>\n",
              "      <td>0.0</td>\n",
              "      <td>0.0</td>\n",
              "      <td>0.0</td>\n",
              "      <td>0.0</td>\n",
              "      <td>0.0</td>\n",
              "      <td>0.0</td>\n",
              "      <td>0.0</td>\n",
              "      <td>0.0</td>\n",
              "      <td>0.0</td>\n",
              "      <td>0.0</td>\n",
              "      <td>0.0</td>\n",
              "      <td>0.0</td>\n",
              "      <td>0</td>\n",
              "      <td>1.0</td>\n",
              "      <td>9999.0</td>\n",
              "      <td>9999.0</td>\n",
              "      <td>0.0</td>\n",
              "      <td>0.0</td>\n",
              "      <td>9999.0</td>\n",
              "      <td>0.0</td>\n",
              "      <td>9999.0</td>\n",
              "      <td>0</td>\n",
              "    </tr>\n",
              "    <tr>\n",
              "      <th>4</th>\n",
              "      <td>1013</td>\n",
              "      <td>9999.0</td>\n",
              "      <td>9999.0</td>\n",
              "      <td>9999.0</td>\n",
              "      <td>9999.0</td>\n",
              "      <td>1</td>\n",
              "      <td>0</td>\n",
              "      <td>0</td>\n",
              "      <td>0</td>\n",
              "      <td>0</td>\n",
              "      <td>0</td>\n",
              "      <td>0</td>\n",
              "      <td>0</td>\n",
              "      <td>0</td>\n",
              "      <td>9999</td>\n",
              "      <td>1.0</td>\n",
              "      <td>0.0</td>\n",
              "      <td>1.0</td>\n",
              "      <td>0.0</td>\n",
              "      <td>0.0</td>\n",
              "      <td>5.0</td>\n",
              "      <td>5.0</td>\n",
              "      <td>130.0</td>\n",
              "      <td>0.0</td>\n",
              "      <td>2.0</td>\n",
              "      <td>0.0</td>\n",
              "      <td>0.0</td>\n",
              "      <td>0.0</td>\n",
              "      <td>0.0</td>\n",
              "      <td>0.0</td>\n",
              "      <td>0.0</td>\n",
              "      <td>0.0</td>\n",
              "      <td>0.0</td>\n",
              "      <td>0.0</td>\n",
              "      <td>0.0</td>\n",
              "      <td>0.0</td>\n",
              "      <td>0.0</td>\n",
              "      <td>0.0</td>\n",
              "      <td>0.0</td>\n",
              "      <td>0.0</td>\n",
              "      <td>0.0</td>\n",
              "      <td>0</td>\n",
              "      <td>1.0</td>\n",
              "      <td>9999.0</td>\n",
              "      <td>9999.0</td>\n",
              "      <td>9999.0</td>\n",
              "      <td>0.0</td>\n",
              "      <td>9999.0</td>\n",
              "      <td>0.0</td>\n",
              "      <td>9999.0</td>\n",
              "      <td>0</td>\n",
              "    </tr>\n",
              "    <tr>\n",
              "      <th>...</th>\n",
              "      <td>...</td>\n",
              "      <td>...</td>\n",
              "      <td>...</td>\n",
              "      <td>...</td>\n",
              "      <td>...</td>\n",
              "      <td>...</td>\n",
              "      <td>...</td>\n",
              "      <td>...</td>\n",
              "      <td>...</td>\n",
              "      <td>...</td>\n",
              "      <td>...</td>\n",
              "      <td>...</td>\n",
              "      <td>...</td>\n",
              "      <td>...</td>\n",
              "      <td>...</td>\n",
              "      <td>...</td>\n",
              "      <td>...</td>\n",
              "      <td>...</td>\n",
              "      <td>...</td>\n",
              "      <td>...</td>\n",
              "      <td>...</td>\n",
              "      <td>...</td>\n",
              "      <td>...</td>\n",
              "      <td>...</td>\n",
              "      <td>...</td>\n",
              "      <td>...</td>\n",
              "      <td>...</td>\n",
              "      <td>...</td>\n",
              "      <td>...</td>\n",
              "      <td>...</td>\n",
              "      <td>...</td>\n",
              "      <td>...</td>\n",
              "      <td>...</td>\n",
              "      <td>...</td>\n",
              "      <td>...</td>\n",
              "      <td>...</td>\n",
              "      <td>...</td>\n",
              "      <td>...</td>\n",
              "      <td>...</td>\n",
              "      <td>...</td>\n",
              "      <td>...</td>\n",
              "      <td>...</td>\n",
              "      <td>...</td>\n",
              "      <td>...</td>\n",
              "      <td>...</td>\n",
              "      <td>...</td>\n",
              "      <td>...</td>\n",
              "      <td>...</td>\n",
              "      <td>...</td>\n",
              "      <td>...</td>\n",
              "      <td>...</td>\n",
              "    </tr>\n",
              "    <tr>\n",
              "      <th>1854</th>\n",
              "      <td>8308</td>\n",
              "      <td>9999.0</td>\n",
              "      <td>9999.0</td>\n",
              "      <td>9999.0</td>\n",
              "      <td>9999.0</td>\n",
              "      <td>0</td>\n",
              "      <td>0</td>\n",
              "      <td>0</td>\n",
              "      <td>0</td>\n",
              "      <td>0</td>\n",
              "      <td>0</td>\n",
              "      <td>0</td>\n",
              "      <td>0</td>\n",
              "      <td>0</td>\n",
              "      <td>9999</td>\n",
              "      <td>9999.0</td>\n",
              "      <td>0.0</td>\n",
              "      <td>9999.0</td>\n",
              "      <td>0.0</td>\n",
              "      <td>0.0</td>\n",
              "      <td>5.0</td>\n",
              "      <td>4.0</td>\n",
              "      <td>140.0</td>\n",
              "      <td>0.0</td>\n",
              "      <td>2.0</td>\n",
              "      <td>0.0</td>\n",
              "      <td>0.0</td>\n",
              "      <td>0.0</td>\n",
              "      <td>0.0</td>\n",
              "      <td>0.0</td>\n",
              "      <td>0.0</td>\n",
              "      <td>9999.0</td>\n",
              "      <td>9999.0</td>\n",
              "      <td>9999.0</td>\n",
              "      <td>9999.0</td>\n",
              "      <td>9999.0</td>\n",
              "      <td>9999.0</td>\n",
              "      <td>0.0</td>\n",
              "      <td>0.0</td>\n",
              "      <td>0.0</td>\n",
              "      <td>0.0</td>\n",
              "      <td>0</td>\n",
              "      <td>9999.0</td>\n",
              "      <td>9999.0</td>\n",
              "      <td>9999.0</td>\n",
              "      <td>9999.0</td>\n",
              "      <td>0.0</td>\n",
              "      <td>9999.0</td>\n",
              "      <td>0.0</td>\n",
              "      <td>9999.0</td>\n",
              "      <td>0</td>\n",
              "    </tr>\n",
              "    <tr>\n",
              "      <th>1855</th>\n",
              "      <td>8309</td>\n",
              "      <td>9999.0</td>\n",
              "      <td>9999.0</td>\n",
              "      <td>9999.0</td>\n",
              "      <td>9999.0</td>\n",
              "      <td>0</td>\n",
              "      <td>0</td>\n",
              "      <td>0</td>\n",
              "      <td>0</td>\n",
              "      <td>0</td>\n",
              "      <td>0</td>\n",
              "      <td>0</td>\n",
              "      <td>0</td>\n",
              "      <td>0</td>\n",
              "      <td>9999</td>\n",
              "      <td>9999.0</td>\n",
              "      <td>0.0</td>\n",
              "      <td>9999.0</td>\n",
              "      <td>0.0</td>\n",
              "      <td>9999.0</td>\n",
              "      <td>5.0</td>\n",
              "      <td>1.0</td>\n",
              "      <td>150.0</td>\n",
              "      <td>0.0</td>\n",
              "      <td>2.0</td>\n",
              "      <td>1.0</td>\n",
              "      <td>0.0</td>\n",
              "      <td>0.0</td>\n",
              "      <td>0.0</td>\n",
              "      <td>0.0</td>\n",
              "      <td>0.0</td>\n",
              "      <td>9999.0</td>\n",
              "      <td>9999.0</td>\n",
              "      <td>9999.0</td>\n",
              "      <td>9999.0</td>\n",
              "      <td>9999.0</td>\n",
              "      <td>9999.0</td>\n",
              "      <td>0.0</td>\n",
              "      <td>0.0</td>\n",
              "      <td>0.0</td>\n",
              "      <td>0.0</td>\n",
              "      <td>0</td>\n",
              "      <td>9999.0</td>\n",
              "      <td>9999.0</td>\n",
              "      <td>9999.0</td>\n",
              "      <td>9999.0</td>\n",
              "      <td>0.0</td>\n",
              "      <td>9999.0</td>\n",
              "      <td>0.0</td>\n",
              "      <td>9999.0</td>\n",
              "      <td>0</td>\n",
              "    </tr>\n",
              "    <tr>\n",
              "      <th>1856</th>\n",
              "      <td>8310</td>\n",
              "      <td>9999.0</td>\n",
              "      <td>9999.0</td>\n",
              "      <td>9999.0</td>\n",
              "      <td>9999.0</td>\n",
              "      <td>0</td>\n",
              "      <td>0</td>\n",
              "      <td>0</td>\n",
              "      <td>0</td>\n",
              "      <td>0</td>\n",
              "      <td>0</td>\n",
              "      <td>0</td>\n",
              "      <td>0</td>\n",
              "      <td>0</td>\n",
              "      <td>9999</td>\n",
              "      <td>9999.0</td>\n",
              "      <td>1.0</td>\n",
              "      <td>2.0</td>\n",
              "      <td>0.0</td>\n",
              "      <td>0.0</td>\n",
              "      <td>5.0</td>\n",
              "      <td>2.0</td>\n",
              "      <td>118.0</td>\n",
              "      <td>0.0</td>\n",
              "      <td>3.0</td>\n",
              "      <td>0.0</td>\n",
              "      <td>0.0</td>\n",
              "      <td>0.0</td>\n",
              "      <td>0.0</td>\n",
              "      <td>0.0</td>\n",
              "      <td>0.0</td>\n",
              "      <td>9999.0</td>\n",
              "      <td>9999.0</td>\n",
              "      <td>9999.0</td>\n",
              "      <td>9999.0</td>\n",
              "      <td>9999.0</td>\n",
              "      <td>9999.0</td>\n",
              "      <td>0.0</td>\n",
              "      <td>0.0</td>\n",
              "      <td>0.0</td>\n",
              "      <td>0.0</td>\n",
              "      <td>0</td>\n",
              "      <td>9999.0</td>\n",
              "      <td>9999.0</td>\n",
              "      <td>9999.0</td>\n",
              "      <td>9999.0</td>\n",
              "      <td>0.0</td>\n",
              "      <td>9999.0</td>\n",
              "      <td>0.0</td>\n",
              "      <td>9999.0</td>\n",
              "      <td>0</td>\n",
              "    </tr>\n",
              "    <tr>\n",
              "      <th>1857</th>\n",
              "      <td>8311</td>\n",
              "      <td>9999.0</td>\n",
              "      <td>9999.0</td>\n",
              "      <td>9999.0</td>\n",
              "      <td>9999.0</td>\n",
              "      <td>0</td>\n",
              "      <td>0</td>\n",
              "      <td>0</td>\n",
              "      <td>0</td>\n",
              "      <td>0</td>\n",
              "      <td>0</td>\n",
              "      <td>0</td>\n",
              "      <td>0</td>\n",
              "      <td>0</td>\n",
              "      <td>9999</td>\n",
              "      <td>9999.0</td>\n",
              "      <td>0.0</td>\n",
              "      <td>2.0</td>\n",
              "      <td>0.0</td>\n",
              "      <td>0.0</td>\n",
              "      <td>5.0</td>\n",
              "      <td>6.0</td>\n",
              "      <td>162.0</td>\n",
              "      <td>9999.0</td>\n",
              "      <td>1.0</td>\n",
              "      <td>9999.0</td>\n",
              "      <td>9999.0</td>\n",
              "      <td>0.0</td>\n",
              "      <td>0.0</td>\n",
              "      <td>0.0</td>\n",
              "      <td>0.0</td>\n",
              "      <td>9999.0</td>\n",
              "      <td>9999.0</td>\n",
              "      <td>9999.0</td>\n",
              "      <td>9999.0</td>\n",
              "      <td>9999.0</td>\n",
              "      <td>9999.0</td>\n",
              "      <td>0.0</td>\n",
              "      <td>0.0</td>\n",
              "      <td>0.0</td>\n",
              "      <td>0.0</td>\n",
              "      <td>0</td>\n",
              "      <td>9999.0</td>\n",
              "      <td>9999.0</td>\n",
              "      <td>9999.0</td>\n",
              "      <td>9999.0</td>\n",
              "      <td>0.0</td>\n",
              "      <td>9999.0</td>\n",
              "      <td>1.0</td>\n",
              "      <td>3.0</td>\n",
              "      <td>0</td>\n",
              "    </tr>\n",
              "    <tr>\n",
              "      <th>1858</th>\n",
              "      <td>8312</td>\n",
              "      <td>9999.0</td>\n",
              "      <td>9999.0</td>\n",
              "      <td>9999.0</td>\n",
              "      <td>9999.0</td>\n",
              "      <td>0</td>\n",
              "      <td>0</td>\n",
              "      <td>0</td>\n",
              "      <td>0</td>\n",
              "      <td>0</td>\n",
              "      <td>0</td>\n",
              "      <td>0</td>\n",
              "      <td>0</td>\n",
              "      <td>0</td>\n",
              "      <td>9999</td>\n",
              "      <td>9999.0</td>\n",
              "      <td>0.0</td>\n",
              "      <td>1.0</td>\n",
              "      <td>0.0</td>\n",
              "      <td>0.0</td>\n",
              "      <td>9999.0</td>\n",
              "      <td>9999.0</td>\n",
              "      <td>217.0</td>\n",
              "      <td>0.0</td>\n",
              "      <td>2.0</td>\n",
              "      <td>0.0</td>\n",
              "      <td>0.0</td>\n",
              "      <td>0.0</td>\n",
              "      <td>0.0</td>\n",
              "      <td>0.0</td>\n",
              "      <td>0.0</td>\n",
              "      <td>9999.0</td>\n",
              "      <td>9999.0</td>\n",
              "      <td>9999.0</td>\n",
              "      <td>9999.0</td>\n",
              "      <td>9999.0</td>\n",
              "      <td>9999.0</td>\n",
              "      <td>0.0</td>\n",
              "      <td>0.0</td>\n",
              "      <td>0.0</td>\n",
              "      <td>0.0</td>\n",
              "      <td>0</td>\n",
              "      <td>9999.0</td>\n",
              "      <td>9999.0</td>\n",
              "      <td>9999.0</td>\n",
              "      <td>9999.0</td>\n",
              "      <td>0.0</td>\n",
              "      <td>9999.0</td>\n",
              "      <td>0.0</td>\n",
              "      <td>9999.0</td>\n",
              "      <td>0</td>\n",
              "    </tr>\n",
              "  </tbody>\n",
              "</table>\n",
              "<p>1859 rows × 51 columns</p>\n",
              "</div>"
            ],
            "text/plain": [
              "      SYS_LOC_CODE  obdiffcard  obdiffhbp  ...     cal  calfreq  total_preeclampsia\n",
              "0             1001      9999.0     9999.0  ...     0.0   9999.0                   0\n",
              "1             1006      9999.0     9999.0  ...     0.0   9999.0                   0\n",
              "2             1009      9999.0     9999.0  ...  9999.0   9999.0                   0\n",
              "3             1012      9999.0     9999.0  ...     0.0   9999.0                   0\n",
              "4             1013      9999.0     9999.0  ...     0.0   9999.0                   0\n",
              "...            ...         ...        ...  ...     ...      ...                 ...\n",
              "1854          8308      9999.0     9999.0  ...     0.0   9999.0                   0\n",
              "1855          8309      9999.0     9999.0  ...     0.0   9999.0                   0\n",
              "1856          8310      9999.0     9999.0  ...     0.0   9999.0                   0\n",
              "1857          8311      9999.0     9999.0  ...     1.0      3.0                   0\n",
              "1858          8312      9999.0     9999.0  ...     0.0   9999.0                   0\n",
              "\n",
              "[1859 rows x 51 columns]"
            ]
          },
          "metadata": {}
        }
      ]
    },
    {
      "cell_type": "markdown",
      "metadata": {
        "id": "Jr9V6h8XuGaN"
      },
      "source": [
        "New target column - total_preeclampsia"
      ]
    },
    {
      "cell_type": "code",
      "metadata": {
        "id": "58f0Ej4aFMFP",
        "colab": {
          "base_uri": "https://localhost:8080/",
          "height": 351
        },
        "outputId": "e83c7dfe-54a0-485e-be74-ff7f2f277cb8"
      },
      "source": [
        "#replace all Nan\n",
        "protect.replace(9999,np.NaN, inplace = True)\n",
        "# Class distribution for new variable - total_preeclampsia\n",
        "pd.value_counts(protect['total_preeclampsia']).plot.bar()\n",
        "plt.title(\"Class distribution for total preeclampsia cases\")\n",
        "plt.xlabel(\"Class - '0: No Current preeclampsia, 1: Diagnosed with preeclampsia\")\n",
        "plt.ylabel(\"Number of data points\")\n",
        "protect['total_preeclampsia'].value_counts()\n"
      ],
      "execution_count": 13,
      "outputs": [
        {
          "output_type": "execute_result",
          "data": {
            "text/plain": [
              "0.0    1814\n",
              "1.0      35\n",
              "Name: total_preeclampsia, dtype: int64"
            ]
          },
          "metadata": {},
          "execution_count": 13
        },
        {
          "output_type": "display_data",
          "data": {
            "image/png": "[encoded data removed]",
            "text/plain": [
              "<Figure size 432x288 with 1 Axes>"
            ]
          },
          "metadata": {
            "needs_background": "light"
          }
        }
      ]
    },
    {
      "cell_type": "code",
      "metadata": {
        "colab": {
          "base_uri": "https://localhost:8080/"
        },
        "id": "J6EKTH1XIjcz",
        "outputId": "5019a828-1042-4c60-909e-4a67882fb86a"
      },
      "source": [
        "#check new data\n",
        "protect.head()\n",
        "len(protect)"
      ],
      "execution_count": 14,
      "outputs": [
        {
          "output_type": "execute_result",
          "data": {
            "text/plain": [
              "1859"
            ]
          },
          "metadata": {},
          "execution_count": 14
        }
      ]
    },
    {
      "cell_type": "markdown",
      "metadata": {
        "id": "D4Mo4JVVuVZD"
      },
      "source": [
        "Data pre-processing and feature selection for the dataset including the new target variable"
      ]
    },
    {
      "cell_type": "code",
      "metadata": {
        "colab": {
          "base_uri": "https://localhost:8080/"
        },
        "id": "jM8XiN1MQtJz",
        "outputId": "4adb5700-163d-4fe5-9bcb-a4c89ada4c20"
      },
      "source": [
        "protect_new = protect.dropna(axis=1, thresh= 0.04 * len(protect),inplace=False)\n",
        "protect.info()\n",
        "protect_new.info()"
      ],
      "execution_count": 15,
      "outputs": [
        {
          "output_type": "stream",
          "name": "stdout",
          "text": [
            "<class 'pandas.core.frame.DataFrame'>\n",
            "RangeIndex: 1859 entries, 0 to 1858\n",
            "Data columns (total 51 columns):\n",
            " #   Column              Non-Null Count  Dtype  \n",
            "---  ------              --------------  -----  \n",
            " 0   SYS_LOC_CODE        1859 non-null   int64  \n",
            " 1   obdiffcard          2 non-null      float64\n",
            " 2   obdiffhbp           2 non-null      float64\n",
            " 3   obdiffkidney        2 non-null      float64\n",
            " 4   obdiffliver         2 non-null      float64\n",
            " 5   RACE__1             1859 non-null   int64  \n",
            " 6   RACE__2             1859 non-null   int64  \n",
            " 7   RACE__3             1859 non-null   int64  \n",
            " 8   RACE__4             1859 non-null   int64  \n",
            " 9   RACE__5             1859 non-null   int64  \n",
            " 10  RACE__6             1859 non-null   int64  \n",
            " 11  RACE__97            1859 non-null   int64  \n",
            " 12  RACE__888           1859 non-null   int64  \n",
            " 13  RACE__999           1859 non-null   int64  \n",
            " 14  race97              16 non-null     object \n",
            " 15  hisp                1731 non-null   float64\n",
            " 16  smkever             1856 non-null   float64\n",
            " 17  alcdays             799 non-null    float64\n",
            " 18  marijuse            1855 non-null   float64\n",
            " 19  druguse             1849 non-null   float64\n",
            " 20  fvcurrht_foot       1800 non-null   float64\n",
            " 21  fvcurrht_inch       1789 non-null   float64\n",
            " 22  wtprepreg           1847 non-null   float64\n",
            " 23  prembirthnum        1426 non-null   float64\n",
            " 24  pregnum             1853 non-null   float64\n",
            " 25  prevpreeclmp        1010 non-null   float64\n",
            " 26  preveclmp           1009 non-null   float64\n",
            " 27  currpreeclmp        1831 non-null   float64\n",
            " 28  curreclmp           1836 non-null   float64\n",
            " 29  currhd              1832 non-null   float64\n",
            " 30  currgd              1835 non-null   float64\n",
            " 31  prevhyp             1624 non-null   float64\n",
            " 32  preghyp_durante     1622 non-null   float64\n",
            " 33  prevdiab            1624 non-null   float64\n",
            " 34  pregdiab_durante    1623 non-null   float64\n",
            " 35  preglup_durante     1624 non-null   float64\n",
            " 36  prevlup             1626 non-null   float64\n",
            " 37  tvcurrpreeclmp      1703 non-null   float64\n",
            " 38  tvcurreclmp         1706 non-null   float64\n",
            " 39  tvcurrgd            1704 non-null   float64\n",
            " 40  ivf                 1858 non-null   float64\n",
            " 41  MULTIFETUS          1859 non-null   int64  \n",
            " 42  pptypelabor         943 non-null    float64\n",
            " 43  ppinduct            82 non-null     float64\n",
            " 44  pppretlabw          36 non-null     float64\n",
            " 45  pppreeclampsia      105 non-null    float64\n",
            " 46  vitd                1762 non-null   float64\n",
            " 47  vitdfreq            10 non-null     float64\n",
            " 48  cal                 1761 non-null   float64\n",
            " 49  calfreq             27 non-null     float64\n",
            " 50  total_preeclampsia  1849 non-null   float64\n",
            "dtypes: float64(39), int64(11), object(1)\n",
            "memory usage: 740.8+ KB\n",
            "<class 'pandas.core.frame.DataFrame'>\n",
            "RangeIndex: 1859 entries, 0 to 1858\n",
            "Data columns (total 43 columns):\n",
            " #   Column              Non-Null Count  Dtype  \n",
            "---  ------              --------------  -----  \n",
            " 0   SYS_LOC_CODE        1859 non-null   int64  \n",
            " 1   RACE__1             1859 non-null   int64  \n",
            " 2   RACE__2             1859 non-null   int64  \n",
            " 3   RACE__3             1859 non-null   int64  \n",
            " 4   RACE__4             1859 non-null   int64  \n",
            " 5   RACE__5             1859 non-null   int64  \n",
            " 6   RACE__6             1859 non-null   int64  \n",
            " 7   RACE__97            1859 non-null   int64  \n",
            " 8   RACE__888           1859 non-null   int64  \n",
            " 9   RACE__999           1859 non-null   int64  \n",
            " 10  hisp                1731 non-null   float64\n",
            " 11  smkever             1856 non-null   float64\n",
            " 12  alcdays             799 non-null    float64\n",
            " 13  marijuse            1855 non-null   float64\n",
            " 14  druguse             1849 non-null   float64\n",
            " 15  fvcurrht_foot       1800 non-null   float64\n",
            " 16  fvcurrht_inch       1789 non-null   float64\n",
            " 17  wtprepreg           1847 non-null   float64\n",
            " 18  prembirthnum        1426 non-null   float64\n",
            " 19  pregnum             1853 non-null   float64\n",
            " 20  prevpreeclmp        1010 non-null   float64\n",
            " 21  preveclmp           1009 non-null   float64\n",
            " 22  currpreeclmp        1831 non-null   float64\n",
            " 23  curreclmp           1836 non-null   float64\n",
            " 24  currhd              1832 non-null   float64\n",
            " 25  currgd              1835 non-null   float64\n",
            " 26  prevhyp             1624 non-null   float64\n",
            " 27  preghyp_durante     1622 non-null   float64\n",
            " 28  prevdiab            1624 non-null   float64\n",
            " 29  pregdiab_durante    1623 non-null   float64\n",
            " 30  preglup_durante     1624 non-null   float64\n",
            " 31  prevlup             1626 non-null   float64\n",
            " 32  tvcurrpreeclmp      1703 non-null   float64\n",
            " 33  tvcurreclmp         1706 non-null   float64\n",
            " 34  tvcurrgd            1704 non-null   float64\n",
            " 35  ivf                 1858 non-null   float64\n",
            " 36  MULTIFETUS          1859 non-null   int64  \n",
            " 37  pptypelabor         943 non-null    float64\n",
            " 38  ppinduct            82 non-null     float64\n",
            " 39  pppreeclampsia      105 non-null    float64\n",
            " 40  vitd                1762 non-null   float64\n",
            " 41  cal                 1761 non-null   float64\n",
            " 42  total_preeclampsia  1849 non-null   float64\n",
            "dtypes: float64(32), int64(11)\n",
            "memory usage: 624.6 KB\n"
          ]
        }
      ]
    },
    {
      "cell_type": "code",
      "metadata": {
        "id": "6WfgabDGqmfi"
      },
      "source": [
        "df = protect_new"
      ],
      "execution_count": 16,
      "outputs": []
    },
    {
      "cell_type": "code",
      "metadata": {
        "id": "oBlfOt3xqmhv"
      },
      "source": [
        "df = df.drop('SYS_LOC_CODE', axis=1)"
      ],
      "execution_count": 17,
      "outputs": []
    },
    {
      "cell_type": "code",
      "metadata": {
        "id": "E6z8IPQkrhPt"
      },
      "source": [
        "df = df.drop(['RACE__999','RACE__888'], axis =1)"
      ],
      "execution_count": 18,
      "outputs": []
    },
    {
      "cell_type": "code",
      "metadata": {
        "id": "YKEtATXUtiIK"
      },
      "source": [
        "df = df.drop(['pppreeclampsia', 'currpreeclmp','tvcurrpreeclmp'], axis=1)\n"
      ],
      "execution_count": 19,
      "outputs": []
    },
    {
      "cell_type": "code",
      "metadata": {
        "colab": {
          "base_uri": "https://localhost:8080/",
          "height": 223
        },
        "id": "VKbASSQ8sO5B",
        "outputId": "701763b6-31b6-42c5-f191-0d09ecd58f75"
      },
      "source": [
        "df.head()"
      ],
      "execution_count": 20,
      "outputs": [
        {
          "output_type": "execute_result",
          "data": {
            "text/html": [
              "<div>\n",
              "<style scoped>\n",
              "    .dataframe tbody tr th:only-of-type {\n",
              "        vertical-align: middle;\n",
              "    }\n",
              "\n",
              "    .dataframe tbody tr th {\n",
              "        vertical-align: top;\n",
              "    }\n",
              "\n",
              "    .dataframe thead th {\n",
              "        text-align: right;\n",
              "    }\n",
              "</style>\n",
              "<table border=\"1\" class=\"dataframe\">\n",
              "  <thead>\n",
              "    <tr style=\"text-align: right;\">\n",
              "      <th></th>\n",
              "      <th>RACE__1</th>\n",
              "      <th>RACE__2</th>\n",
              "      <th>RACE__3</th>\n",
              "      <th>RACE__4</th>\n",
              "      <th>RACE__5</th>\n",
              "      <th>RACE__6</th>\n",
              "      <th>RACE__97</th>\n",
              "      <th>hisp</th>\n",
              "      <th>smkever</th>\n",
              "      <th>alcdays</th>\n",
              "      <th>marijuse</th>\n",
              "      <th>druguse</th>\n",
              "      <th>fvcurrht_foot</th>\n",
              "      <th>fvcurrht_inch</th>\n",
              "      <th>wtprepreg</th>\n",
              "      <th>prembirthnum</th>\n",
              "      <th>pregnum</th>\n",
              "      <th>prevpreeclmp</th>\n",
              "      <th>preveclmp</th>\n",
              "      <th>curreclmp</th>\n",
              "      <th>currhd</th>\n",
              "      <th>currgd</th>\n",
              "      <th>prevhyp</th>\n",
              "      <th>preghyp_durante</th>\n",
              "      <th>prevdiab</th>\n",
              "      <th>pregdiab_durante</th>\n",
              "      <th>preglup_durante</th>\n",
              "      <th>prevlup</th>\n",
              "      <th>tvcurreclmp</th>\n",
              "      <th>tvcurrgd</th>\n",
              "      <th>ivf</th>\n",
              "      <th>MULTIFETUS</th>\n",
              "      <th>pptypelabor</th>\n",
              "      <th>ppinduct</th>\n",
              "      <th>vitd</th>\n",
              "      <th>cal</th>\n",
              "      <th>total_preeclampsia</th>\n",
              "    </tr>\n",
              "  </thead>\n",
              "  <tbody>\n",
              "    <tr>\n",
              "      <th>0</th>\n",
              "      <td>1</td>\n",
              "      <td>0</td>\n",
              "      <td>0</td>\n",
              "      <td>0</td>\n",
              "      <td>0</td>\n",
              "      <td>0</td>\n",
              "      <td>0</td>\n",
              "      <td>1.0</td>\n",
              "      <td>0.0</td>\n",
              "      <td>1.0</td>\n",
              "      <td>0.0</td>\n",
              "      <td>0.0</td>\n",
              "      <td>5.0</td>\n",
              "      <td>1.0</td>\n",
              "      <td>85.0</td>\n",
              "      <td>0.0</td>\n",
              "      <td>1.0</td>\n",
              "      <td>NaN</td>\n",
              "      <td>NaN</td>\n",
              "      <td>0.0</td>\n",
              "      <td>0.0</td>\n",
              "      <td>0.0</td>\n",
              "      <td>0.0</td>\n",
              "      <td>0.0</td>\n",
              "      <td>0.0</td>\n",
              "      <td>0.0</td>\n",
              "      <td>0.0</td>\n",
              "      <td>0.0</td>\n",
              "      <td>0.0</td>\n",
              "      <td>0.0</td>\n",
              "      <td>0.0</td>\n",
              "      <td>0</td>\n",
              "      <td>1.0</td>\n",
              "      <td>NaN</td>\n",
              "      <td>0.0</td>\n",
              "      <td>0.0</td>\n",
              "      <td>0.0</td>\n",
              "    </tr>\n",
              "    <tr>\n",
              "      <th>1</th>\n",
              "      <td>1</td>\n",
              "      <td>1</td>\n",
              "      <td>0</td>\n",
              "      <td>0</td>\n",
              "      <td>0</td>\n",
              "      <td>0</td>\n",
              "      <td>1</td>\n",
              "      <td>1.0</td>\n",
              "      <td>0.0</td>\n",
              "      <td>NaN</td>\n",
              "      <td>0.0</td>\n",
              "      <td>0.0</td>\n",
              "      <td>5.0</td>\n",
              "      <td>5.0</td>\n",
              "      <td>155.0</td>\n",
              "      <td>0.0</td>\n",
              "      <td>1.0</td>\n",
              "      <td>NaN</td>\n",
              "      <td>NaN</td>\n",
              "      <td>0.0</td>\n",
              "      <td>0.0</td>\n",
              "      <td>0.0</td>\n",
              "      <td>0.0</td>\n",
              "      <td>0.0</td>\n",
              "      <td>0.0</td>\n",
              "      <td>0.0</td>\n",
              "      <td>0.0</td>\n",
              "      <td>0.0</td>\n",
              "      <td>0.0</td>\n",
              "      <td>0.0</td>\n",
              "      <td>0.0</td>\n",
              "      <td>0</td>\n",
              "      <td>1.0</td>\n",
              "      <td>NaN</td>\n",
              "      <td>0.0</td>\n",
              "      <td>0.0</td>\n",
              "      <td>0.0</td>\n",
              "    </tr>\n",
              "    <tr>\n",
              "      <th>2</th>\n",
              "      <td>0</td>\n",
              "      <td>0</td>\n",
              "      <td>1</td>\n",
              "      <td>0</td>\n",
              "      <td>0</td>\n",
              "      <td>0</td>\n",
              "      <td>0</td>\n",
              "      <td>1.0</td>\n",
              "      <td>1.0</td>\n",
              "      <td>1.0</td>\n",
              "      <td>0.0</td>\n",
              "      <td>0.0</td>\n",
              "      <td>5.0</td>\n",
              "      <td>3.0</td>\n",
              "      <td>200.0</td>\n",
              "      <td>1.0</td>\n",
              "      <td>2.0</td>\n",
              "      <td>1.0</td>\n",
              "      <td>1.0</td>\n",
              "      <td>0.0</td>\n",
              "      <td>0.0</td>\n",
              "      <td>0.0</td>\n",
              "      <td>NaN</td>\n",
              "      <td>NaN</td>\n",
              "      <td>NaN</td>\n",
              "      <td>NaN</td>\n",
              "      <td>NaN</td>\n",
              "      <td>NaN</td>\n",
              "      <td>NaN</td>\n",
              "      <td>NaN</td>\n",
              "      <td>0.0</td>\n",
              "      <td>0</td>\n",
              "      <td>1.0</td>\n",
              "      <td>NaN</td>\n",
              "      <td>NaN</td>\n",
              "      <td>NaN</td>\n",
              "      <td>0.0</td>\n",
              "    </tr>\n",
              "    <tr>\n",
              "      <th>3</th>\n",
              "      <td>1</td>\n",
              "      <td>0</td>\n",
              "      <td>0</td>\n",
              "      <td>0</td>\n",
              "      <td>0</td>\n",
              "      <td>0</td>\n",
              "      <td>0</td>\n",
              "      <td>1.0</td>\n",
              "      <td>1.0</td>\n",
              "      <td>1.0</td>\n",
              "      <td>0.0</td>\n",
              "      <td>0.0</td>\n",
              "      <td>5.0</td>\n",
              "      <td>2.0</td>\n",
              "      <td>152.0</td>\n",
              "      <td>1.0</td>\n",
              "      <td>2.0</td>\n",
              "      <td>0.0</td>\n",
              "      <td>0.0</td>\n",
              "      <td>0.0</td>\n",
              "      <td>0.0</td>\n",
              "      <td>0.0</td>\n",
              "      <td>0.0</td>\n",
              "      <td>0.0</td>\n",
              "      <td>0.0</td>\n",
              "      <td>0.0</td>\n",
              "      <td>0.0</td>\n",
              "      <td>0.0</td>\n",
              "      <td>0.0</td>\n",
              "      <td>0.0</td>\n",
              "      <td>0.0</td>\n",
              "      <td>0</td>\n",
              "      <td>1.0</td>\n",
              "      <td>NaN</td>\n",
              "      <td>0.0</td>\n",
              "      <td>0.0</td>\n",
              "      <td>0.0</td>\n",
              "    </tr>\n",
              "    <tr>\n",
              "      <th>4</th>\n",
              "      <td>1</td>\n",
              "      <td>0</td>\n",
              "      <td>0</td>\n",
              "      <td>0</td>\n",
              "      <td>0</td>\n",
              "      <td>0</td>\n",
              "      <td>0</td>\n",
              "      <td>1.0</td>\n",
              "      <td>0.0</td>\n",
              "      <td>1.0</td>\n",
              "      <td>0.0</td>\n",
              "      <td>0.0</td>\n",
              "      <td>5.0</td>\n",
              "      <td>5.0</td>\n",
              "      <td>130.0</td>\n",
              "      <td>0.0</td>\n",
              "      <td>2.0</td>\n",
              "      <td>0.0</td>\n",
              "      <td>0.0</td>\n",
              "      <td>0.0</td>\n",
              "      <td>0.0</td>\n",
              "      <td>0.0</td>\n",
              "      <td>0.0</td>\n",
              "      <td>0.0</td>\n",
              "      <td>0.0</td>\n",
              "      <td>0.0</td>\n",
              "      <td>0.0</td>\n",
              "      <td>0.0</td>\n",
              "      <td>0.0</td>\n",
              "      <td>0.0</td>\n",
              "      <td>0.0</td>\n",
              "      <td>0</td>\n",
              "      <td>1.0</td>\n",
              "      <td>NaN</td>\n",
              "      <td>0.0</td>\n",
              "      <td>0.0</td>\n",
              "      <td>0.0</td>\n",
              "    </tr>\n",
              "  </tbody>\n",
              "</table>\n",
              "</div>"
            ],
            "text/plain": [
              "   RACE__1  RACE__2  RACE__3  RACE__4  ...  ppinduct  vitd  cal  total_preeclampsia\n",
              "0        1        0        0        0  ...       NaN   0.0  0.0                 0.0\n",
              "1        1        1        0        0  ...       NaN   0.0  0.0                 0.0\n",
              "2        0        0        1        0  ...       NaN   NaN  NaN                 0.0\n",
              "3        1        0        0        0  ...       NaN   0.0  0.0                 0.0\n",
              "4        1        0        0        0  ...       NaN   0.0  0.0                 0.0\n",
              "\n",
              "[5 rows x 37 columns]"
            ]
          },
          "metadata": {},
          "execution_count": 20
        }
      ]
    },
    {
      "cell_type": "markdown",
      "metadata": {
        "id": "1W4xXSzlunFI"
      },
      "source": [
        "Impute missing data with the most frequently occuring points using sklearn categorical imputer"
      ]
    },
    {
      "cell_type": "code",
      "metadata": {
        "id": "yJlY_-1Zv8gS"
      },
      "source": [
        "from sklearn_pandas import CategoricalImputer\n",
        "imputer = CategoricalImputer()"
      ],
      "execution_count": 21,
      "outputs": []
    },
    {
      "cell_type": "code",
      "metadata": {
        "id": "9VW1NK78wA3F"
      },
      "source": [
        "df['marijuse'] = imputer.fit_transform(df['marijuse'])\n",
        "df['hisp'] = imputer.fit_transform(df['hisp'])\n",
        "df['smkever'] = imputer.fit_transform(df['smkever'])\n",
        "df['alcdays'] = imputer.fit_transform(df['alcdays'])\n",
        "df['druguse'] = imputer.fit_transform(df['druguse'])"
      ],
      "execution_count": 22,
      "outputs": []
    },
    {
      "cell_type": "code",
      "metadata": {
        "id": "7r91Yixm6EGb"
      },
      "source": [
        "# variables related to mother's height are not categorical, hence imputing missing values in this column by mean\n",
        "df['fvcurrht_foot'] = df['fvcurrht_foot'].fillna(df['fvcurrht_foot'].mean())\n",
        "df['fvcurrht_inch'] = df['fvcurrht_inch'].fillna(df['fvcurrht_inch'].mean())"
      ],
      "execution_count": 23,
      "outputs": []
    },
    {
      "cell_type": "code",
      "metadata": {
        "id": "HbaGPx3i5RlK"
      },
      "source": [
        "# combining height_foot and height_inches into a single column\n",
        "df['fvcurrht_inch'] = (df['fvcurrht_inch']-df['fvcurrht_inch'].min())/(df['fvcurrht_inch'].max()-df['fvcurrht_inch'].min())\n",
        "df['fvcurrht'] = df['fvcurrht_foot'] + df['fvcurrht_inch']"
      ],
      "execution_count": 24,
      "outputs": []
    },
    {
      "cell_type": "code",
      "metadata": {
        "id": "SwoYtovR7Pbk"
      },
      "source": [
        "df = df.drop(['fvcurrht_foot','fvcurrht_inch'], axis=1)"
      ],
      "execution_count": 25,
      "outputs": []
    },
    {
      "cell_type": "code",
      "metadata": {
        "id": "htb6WZE17uE2"
      },
      "source": [
        "df['wtprepreg'] = df['wtprepreg'].fillna(df['wtprepreg'].mean())"
      ],
      "execution_count": 26,
      "outputs": []
    },
    {
      "cell_type": "code",
      "metadata": {
        "id": "96YHFQwsC0o0"
      },
      "source": [
        "df['prembirthnum'] = imputer.fit_transform(df['prembirthnum'])\n",
        "df['pregnum'] = imputer.fit_transform(df['pregnum'])\n",
        "df['prevpreeclmp'] = imputer.fit_transform(df['prevpreeclmp'])\n",
        "df['preveclmp'] = imputer.fit_transform(df['preveclmp'])\n",
        "df['curreclmp'] = imputer.fit_transform(df['curreclmp'])\n",
        "df['currhd'] = imputer.fit_transform(df['currhd'])\n",
        "df['currgd'] = imputer.fit_transform(df['currgd'])\n",
        "df['prevhyp'] = imputer.fit_transform(df['prevhyp'])\n",
        "df['preghyp_durante'] = imputer.fit_transform(df['preghyp_durante'])\n",
        "df['prevdiab']\t= imputer.fit_transform(df['prevdiab'])\n",
        "df['pregdiab_durante']\t= imputer.fit_transform(df['pregdiab_durante'])\n",
        "df['preglup_durante']\t= imputer.fit_transform(df['preglup_durante'])\n",
        "df['prevlup'] = imputer.fit_transform(df['prevlup'])\n",
        "df['tvcurreclmp']\t= imputer.fit_transform(df['tvcurreclmp'])\n",
        "df['tvcurrgd'] = imputer.fit_transform(df['tvcurrgd'])\n",
        "df['ivf'] = imputer.fit_transform(df['ivf'])\n",
        "df['MULTIFETUS'] = imputer.fit_transform(df['MULTIFETUS'])\n",
        "df['vitd'] = imputer.fit_transform(df['vitd'])\n",
        "df['cal'] = imputer.fit_transform(df['cal'])\n",
        "df['pptypelabor'] = imputer.fit_transform(df['pptypelabor'])\n",
        "df['ppinduct'] =  imputer.fit_transform(df['ppinduct'])\n",
        "df['total_preeclampsia'] = imputer.fit_transform(df['total_preeclampsia'])"
      ],
      "execution_count": 27,
      "outputs": []
    },
    {
      "cell_type": "code",
      "metadata": {
        "colab": {
          "base_uri": "https://localhost:8080/"
        },
        "id": "IUShbuKSh4XM",
        "outputId": "95a45926-7747-4683-fae8-cf480902d500"
      },
      "source": [
        "df['total_preeclampsia'].unique()"
      ],
      "execution_count": 28,
      "outputs": [
        {
          "output_type": "execute_result",
          "data": {
            "text/plain": [
              "array([0., 1.])"
            ]
          },
          "metadata": {},
          "execution_count": 28
        }
      ]
    },
    {
      "cell_type": "code",
      "metadata": {
        "colab": {
          "base_uri": "https://localhost:8080/"
        },
        "id": "4kwzYrm7n3HE",
        "outputId": "f0b7f568-c4b3-4769-8e93-4baa8b4b59a3"
      },
      "source": [
        "df.columns"
      ],
      "execution_count": 29,
      "outputs": [
        {
          "output_type": "execute_result",
          "data": {
            "text/plain": [
              "Index(['RACE__1', 'RACE__2', 'RACE__3', 'RACE__4', 'RACE__5', 'RACE__6',\n",
              "       'RACE__97', 'hisp', 'smkever', 'alcdays', 'marijuse', 'druguse',\n",
              "       'wtprepreg', 'prembirthnum', 'pregnum', 'prevpreeclmp', 'preveclmp',\n",
              "       'curreclmp', 'currhd', 'currgd', 'prevhyp', 'preghyp_durante',\n",
              "       'prevdiab', 'pregdiab_durante', 'preglup_durante', 'prevlup',\n",
              "       'tvcurreclmp', 'tvcurrgd', 'ivf', 'MULTIFETUS', 'pptypelabor',\n",
              "       'ppinduct', 'vitd', 'cal', 'total_preeclampsia', 'fvcurrht'],\n",
              "      dtype='object')"
            ]
          },
          "metadata": {},
          "execution_count": 29
        }
      ]
    },
    {
      "cell_type": "code",
      "metadata": {
        "id": "7FCDBQO8ons1"
      },
      "source": [
        "for i in df.columns:\n",
        "  if(df[i].isnull().values.any()):\n",
        "    print(i)"
      ],
      "execution_count": 30,
      "outputs": []
    },
    {
      "cell_type": "markdown",
      "metadata": {
        "id": "-Gc5B8rAwomZ"
      },
      "source": [
        "Splitting the data into test and train sets "
      ]
    },
    {
      "cell_type": "code",
      "metadata": {
        "id": "TBWmoNfHtO8d"
      },
      "source": [
        "train_df, test_df = train_test_split(df, test_size=0.2, random_state = 20)"
      ],
      "execution_count": 31,
      "outputs": []
    },
    {
      "cell_type": "code",
      "metadata": {
        "id": "Wvtn05BRn6Rm"
      },
      "source": [
        "train_x = train_df[['RACE__1', 'RACE__2', 'RACE__3', 'RACE__4', 'RACE__5', 'RACE__6',\n",
        "       'RACE__97', 'hisp', 'smkever', 'alcdays', 'marijuse', 'druguse',\n",
        "       'wtprepreg', 'prembirthnum', 'pregnum', 'prevpreeclmp', 'preveclmp',\n",
        "        'curreclmp', 'currhd', 'currgd', 'prevhyp',\n",
        "       'preghyp_durante', 'prevdiab', 'pregdiab_durante', 'preglup_durante',\n",
        "       'prevlup', 'tvcurreclmp', 'tvcurrgd', 'ivf',\n",
        "       'MULTIFETUS', 'vitd', 'cal', 'fvcurrht','ppinduct','pptypelabor']]\n",
        "\n",
        "train_y = train_df[['total_preeclampsia']]"
      ],
      "execution_count": 32,
      "outputs": []
    },
    {
      "cell_type": "code",
      "metadata": {
        "id": "K7K1-rHttb5S"
      },
      "source": [
        "test_x = test_df[['RACE__1', 'RACE__2', 'RACE__3', 'RACE__4', 'RACE__5', 'RACE__6',\n",
        "       'RACE__97', 'hisp', 'smkever', 'alcdays', 'marijuse', 'druguse',\n",
        "       'wtprepreg', 'prembirthnum', 'pregnum', 'prevpreeclmp', 'preveclmp',\n",
        "        'curreclmp', 'currhd', 'currgd', 'prevhyp',\n",
        "       'preghyp_durante', 'prevdiab', 'pregdiab_durante', 'preglup_durante',\n",
        "       'prevlup', 'tvcurreclmp', 'tvcurrgd', 'ivf',\n",
        "       'MULTIFETUS', 'vitd', 'cal', 'fvcurrht','ppinduct','pptypelabor']]\n",
        "\n",
        "test_y = test_df[['total_preeclampsia']]"
      ],
      "execution_count": 33,
      "outputs": []
    },
    {
      "cell_type": "markdown",
      "metadata": {
        "id": "ztVnZsa4w0db"
      },
      "source": [
        "Fitting a Logistic Regression model with L1 penalty for feature selection on imbalanced dataset as baseline"
      ]
    },
    {
      "cell_type": "code",
      "metadata": {
        "colab": {
          "base_uri": "https://localhost:8080/"
        },
        "id": "Hcz2gEMonvds",
        "outputId": "5655bda2-7c40-4036-f138-bc19e32277ea"
      },
      "source": [
        "log = LogisticRegression(penalty='l1', solver='liblinear')\n",
        "log.fit(train_x, train_y)"
      ],
      "execution_count": 34,
      "outputs": [
        {
          "output_type": "stream",
          "name": "stderr",
          "text": [
            "/usr/local/lib/python3.7/dist-packages/sklearn/utils/validation.py:760: DataConversionWarning: A column-vector y was passed when a 1d array was expected. Please change the shape of y to (n_samples, ), for example using ravel().\n",
            "  y = column_or_1d(y, warn=True)\n"
          ]
        },
        {
          "output_type": "execute_result",
          "data": {
            "text/plain": [
              "LogisticRegression(C=1.0, class_weight=None, dual=False, fit_intercept=True,\n",
              "                   intercept_scaling=1, l1_ratio=None, max_iter=100,\n",
              "                   multi_class='auto', n_jobs=None, penalty='l1',\n",
              "                   random_state=None, solver='liblinear', tol=0.0001, verbose=0,\n",
              "                   warm_start=False)"
            ]
          },
          "metadata": {},
          "execution_count": 34
        }
      ]
    },
    {
      "cell_type": "code",
      "metadata": {
        "colab": {
          "base_uri": "https://localhost:8080/"
        },
        "id": "qwf5ARPeuc_m",
        "outputId": "1365e8f9-9825-4cfb-ce73-35a35b81886d"
      },
      "source": [
        "log.score(test_x, test_y)"
      ],
      "execution_count": 35,
      "outputs": [
        {
          "output_type": "execute_result",
          "data": {
            "text/plain": [
              "0.9811827956989247"
            ]
          },
          "metadata": {},
          "execution_count": 35
        }
      ]
    },
    {
      "cell_type": "code",
      "metadata": {
        "colab": {
          "base_uri": "https://localhost:8080/"
        },
        "id": "XpRIjhUnpNuz",
        "outputId": "3d410aba-bda6-4c72-ff78-2aa35e15ee10"
      },
      "source": [
        "log.coef_.ravel()"
      ],
      "execution_count": 36,
      "outputs": [
        {
          "output_type": "execute_result",
          "data": {
            "text/plain": [
              "array([ 6.13296912e-01,  0.00000000e+00,  0.00000000e+00,  0.00000000e+00,\n",
              "        0.00000000e+00,  1.34498725e+00,  0.00000000e+00,  0.00000000e+00,\n",
              "       -2.06624218e-03, -3.82180343e-03,  0.00000000e+00, -2.66730923e-03,\n",
              "        1.99170139e-02,  0.00000000e+00, -2.10756204e-01,  1.64834742e-04,\n",
              "       -2.30683807e-03,  0.00000000e+00, -3.44203925e-03, -5.25060542e-03,\n",
              "       -3.28592498e-03,  1.62805913e+00,  0.00000000e+00, -3.92235196e-03,\n",
              "        4.38116075e-03, -6.06015399e-03,  0.00000000e+00, -2.87209385e-03,\n",
              "        0.00000000e+00,  0.00000000e+00, -2.03545661e-03, -1.83758240e-03,\n",
              "       -1.30810858e+00, -4.77691101e-01,  9.70388531e-01])"
            ]
          },
          "metadata": {},
          "execution_count": 36
        }
      ]
    },
    {
      "cell_type": "code",
      "metadata": {
        "id": "pMBg3WWIpsB7"
      },
      "source": [
        "colnames = train_x.columns"
      ],
      "execution_count": 37,
      "outputs": []
    },
    {
      "cell_type": "code",
      "metadata": {
        "colab": {
          "base_uri": "https://localhost:8080/"
        },
        "id": "qN_ofvOfu_Oc",
        "outputId": "3ebb76ee-3e95-4867-dc19-ab5991f37a66"
      },
      "source": [
        "colnames[[0,5,8,9,11,12,14,15,16,18,19,20,21,22,24,25,26,27,29,33,34]]"
      ],
      "execution_count": 38,
      "outputs": [
        {
          "output_type": "execute_result",
          "data": {
            "text/plain": [
              "Index(['RACE__1', 'RACE__6', 'smkever', 'alcdays', 'druguse', 'wtprepreg',\n",
              "       'pregnum', 'prevpreeclmp', 'preveclmp', 'currhd', 'currgd', 'prevhyp',\n",
              "       'preghyp_durante', 'prevdiab', 'preglup_durante', 'prevlup',\n",
              "       'tvcurreclmp', 'tvcurrgd', 'MULTIFETUS', 'ppinduct', 'pptypelabor'],\n",
              "      dtype='object')"
            ]
          },
          "metadata": {},
          "execution_count": 38
        }
      ]
    },
    {
      "cell_type": "code",
      "metadata": {
        "id": "255xKsK3vqj7"
      },
      "source": [
        "modified_train_x = train_x[['RACE__1', 'RACE__6', 'smkever', 'alcdays', 'druguse', 'wtprepreg',\n",
        "       'pregnum', 'prevpreeclmp', 'preveclmp', 'currhd', 'currgd', 'prevhyp',\n",
        "       'preghyp_durante', 'prevdiab', 'preglup_durante', 'prevlup',\n",
        "       'tvcurreclmp', 'tvcurrgd', 'MULTIFETUS', 'ppinduct', 'pptypelabor']]\n",
        "                            \n",
        "modified_train_y = train_y[['total_preeclampsia']]\n",
        "\n",
        "modified_test_x = test_x[['RACE__1', 'RACE__6', 'smkever', 'alcdays', 'druguse', 'wtprepreg',\n",
        "       'pregnum', 'prevpreeclmp', 'preveclmp', 'currhd', 'currgd', 'prevhyp',\n",
        "       'preghyp_durante', 'prevdiab', 'preglup_durante', 'prevlup',\n",
        "       'tvcurreclmp', 'tvcurrgd', 'MULTIFETUS', 'ppinduct', 'pptypelabor']]\n",
        "\n",
        "modified_test_y = test_y[['total_preeclampsia']]"
      ],
      "execution_count": 39,
      "outputs": []
    },
    {
      "cell_type": "code",
      "metadata": {
        "colab": {
          "base_uri": "https://localhost:8080/"
        },
        "id": "6bl9oaH8vqyv",
        "outputId": "030bf81b-4280-4635-9e7e-9f0d5f85759c"
      },
      "source": [
        "mdl2 = LogisticRegression(penalty='l1', solver='liblinear')\n",
        "mdl2.fit(modified_train_x, modified_train_y)"
      ],
      "execution_count": 40,
      "outputs": [
        {
          "output_type": "stream",
          "name": "stderr",
          "text": [
            "/usr/local/lib/python3.7/dist-packages/sklearn/utils/validation.py:760: DataConversionWarning: A column-vector y was passed when a 1d array was expected. Please change the shape of y to (n_samples, ), for example using ravel().\n",
            "  y = column_or_1d(y, warn=True)\n"
          ]
        },
        {
          "output_type": "execute_result",
          "data": {
            "text/plain": [
              "LogisticRegression(C=1.0, class_weight=None, dual=False, fit_intercept=True,\n",
              "                   intercept_scaling=1, l1_ratio=None, max_iter=100,\n",
              "                   multi_class='auto', n_jobs=None, penalty='l1',\n",
              "                   random_state=None, solver='liblinear', tol=0.0001, verbose=0,\n",
              "                   warm_start=False)"
            ]
          },
          "metadata": {},
          "execution_count": 40
        }
      ]
    },
    {
      "cell_type": "code",
      "metadata": {
        "colab": {
          "base_uri": "https://localhost:8080/"
        },
        "id": "mrMjtdEcwXzS",
        "outputId": "37cdae95-272c-4a51-b87b-8b1fac6384f2"
      },
      "source": [
        "mdl2.score(modified_test_x, modified_test_y)"
      ],
      "execution_count": 41,
      "outputs": [
        {
          "output_type": "execute_result",
          "data": {
            "text/plain": [
              "0.978494623655914"
            ]
          },
          "metadata": {},
          "execution_count": 41
        }
      ]
    },
    {
      "cell_type": "code",
      "metadata": {
        "colab": {
          "base_uri": "https://localhost:8080/",
          "height": 830
        },
        "id": "5j2FRsh9z5qE",
        "outputId": "9c592bb3-e6eb-4a41-dc43-46aaa4139279"
      },
      "source": [
        "preds_before=mdl2.predict(modified_test_x)\n",
        "actual_y_before = modified_test_y\n",
        "from sklearn.metrics import confusion_matrix\n",
        "from sklearn.metrics import roc_curve,auc\n",
        "confusion_mat = confusion_matrix(actual_y_before,preds_before)\n",
        "print(\"Confusion Matrix :\\n\",confusion_mat)\n",
        "fig, ax = plt.subplots(figsize=(7.5, 7.5))\n",
        "ax.matshow(confusion_mat, cmap=plt.cm.Blues, alpha=0.3)\n",
        "for i in range(confusion_mat.shape[0]):\n",
        "    for j in range(confusion_mat.shape[1]):\n",
        "        ax.text(x=j, y=i,s=confusion_mat[i, j], va='center', ha='center', size='xx-large')\n",
        "plt.xlabel('Predictions', fontsize=18)\n",
        "plt.ylabel('Actuals', fontsize=18)\n",
        "plt.title('Confusion Matrix for Baseline Logistic Regression', fontsize=18)\n",
        "plt.show()\n",
        "\n",
        "\n",
        "false_positive_rate, true_positive_rate, _ = roc_curve(actual_y_before,preds_before)\n",
        "area_under_curve = auc(false_positive_rate,true_positive_rate)\n",
        "\n",
        "plt.plot(false_positive_rate, true_positive_rate, color='orange',lw=2, label='ROC curve (Area = %0.2f)' % area_under_curve)\n",
        "plt.plot([0, 1], [0, 1], color='darkblue', lw=2, linestyle='--')\n",
        "plt.title('ROC Curve before SMOTE')\n",
        "plt.xlabel('False Positive Rate')\n",
        "plt.ylabel('True Positive Rate')\n",
        "plt.xlim([0.0, 1.0])\n",
        "plt.ylim([0.0, 1.1])\n",
        "plt.legend(loc=\"lower right\")\n",
        "plt.show()\n",
        "\n"
      ],
      "execution_count": 43,
      "outputs": [
        {
          "output_type": "stream",
          "name": "stdout",
          "text": [
            "Confusion Matrix :\n",
            " [[364   3]\n",
            " [  5   0]]\n"
          ]
        },
        {
          "output_type": "display_data",
          "data": {
            "image/png": "[encoded data removed]",
            "text/plain": [
              "<Figure size 540x540 with 1 Axes>"
            ]
          },
          "metadata": {
            "needs_background": "light"
          }
        },
        {
          "output_type": "display_data",
          "data": {
            "image/png": "[encoded data removed]",
            "text/plain": [
              "<Figure size 432x288 with 1 Axes>"
            ]
          },
          "metadata": {
            "needs_background": "light"
          }
        }
      ]
    },
    {
      "cell_type": "markdown",
      "metadata": {
        "id": "cWWWV6NRxGIO"
      },
      "source": [
        "Before SMOTE"
      ]
    },
    {
      "cell_type": "code",
      "metadata": {
        "colab": {
          "base_uri": "https://localhost:8080/"
        },
        "id": "cWVCevg6wf2k",
        "outputId": "988cc143-baa6-4c65-fdb6-0d61acdddced"
      },
      "source": [
        "modified_train_y.value_counts()"
      ],
      "execution_count": 44,
      "outputs": [
        {
          "output_type": "execute_result",
          "data": {
            "text/plain": [
              "total_preeclampsia\n",
              "0.0                   1457\n",
              "1.0                     30\n",
              "dtype: int64"
            ]
          },
          "metadata": {},
          "execution_count": 44
        }
      ]
    },
    {
      "cell_type": "code",
      "metadata": {
        "id": "6-tyYq6_izMf",
        "colab": {
          "base_uri": "https://localhost:8080/",
          "height": 318
        },
        "outputId": "21b0f47b-f2e2-4f3f-a463-dddc843a0e96"
      },
      "source": [
        "pd.value_counts(modified_train_y['total_preeclampsia']).plot.bar()\n",
        "plt.title(\"Class distribution for total preeclampsia cases before SMOTE\")\n",
        "plt.xlabel(\"Class - '0: No Current preeclampsia, 1: Diagnosed with preeclampsia\")\n",
        "plt.ylabel(\"Number of data points\")\n"
      ],
      "execution_count": 45,
      "outputs": [
        {
          "output_type": "execute_result",
          "data": {
            "text/plain": [
              "Text(0, 0.5, 'Number of data points')"
            ]
          },
          "metadata": {},
          "execution_count": 45
        },
        {
          "output_type": "display_data",
          "data": {
            "image/png": "[encoded data removed]",
            "text/plain": [
              "<Figure size 432x288 with 1 Axes>"
            ]
          },
          "metadata": {
            "needs_background": "light"
          }
        }
      ]
    },
    {
      "cell_type": "markdown",
      "metadata": {
        "id": "FQF0Wy6NxJuF"
      },
      "source": [
        "# **Synthetic minority oversampling technique (S.M.O.T.E)**"
      ]
    },
    {
      "cell_type": "markdown",
      "metadata": {
        "id": "6PhY6Wyfwxb0"
      },
      "source": [
        "Synthetic Minority Oversampling Technique was described by Nitesh Chawla et. al. in 2002 works by selecting examples that are close in the feature space, drawing a line between the examples in the feature space and drawing a new sample at a point along that line. The new synthetic data points are extracted from interpolation, so the original dataset still has significance, it interpolates values using a K-nearest neighbouring technique for each minority class instance and generates attribute values for a new data instance. A random data point from minority class is taken and then k- nearest neighbours (usually k =5) for that data point is found and a random neighbour is chosen and a synthetic example for minority class is created at a randomly selected point between these two data points."
      ]
    },
    {
      "cell_type": "code",
      "metadata": {
        "colab": {
          "base_uri": "https://localhost:8080/"
        },
        "id": "mCfosdhXsgOH",
        "outputId": "61d37d0d-d334-40b4-ca6b-4b8254d6a3d9"
      },
      "source": [
        "from imblearn.over_sampling import SMOTE\n",
        "\n",
        "sampling = SMOTE(random_state=10,ratio=1)\n",
        "smote_sampler=sampling.fit_sample(modified_train_x,modified_train_y)"
      ],
      "execution_count": 46,
      "outputs": [
        {
          "output_type": "stream",
          "name": "stderr",
          "text": [
            "/usr/local/lib/python3.7/dist-packages/sklearn/externals/six.py:31: FutureWarning: The module is deprecated in version 0.21 and will be removed in version 0.23 since we've dropped support for Python 2.7. Please rely on the official version of six (https://pypi.org/project/six/).\n",
            "  \"(https://pypi.org/project/six/).\", FutureWarning)\n",
            "/usr/local/lib/python3.7/dist-packages/sklearn/utils/deprecation.py:144: FutureWarning: The sklearn.neighbors.base module is  deprecated in version 0.22 and will be removed in version 0.24. The corresponding classes / functions should instead be imported from sklearn.neighbors. Anything that cannot be imported from sklearn.neighbors is now part of the private API.\n",
            "  warnings.warn(message, FutureWarning)\n",
            "/usr/local/lib/python3.7/dist-packages/sklearn/utils/validation.py:760: DataConversionWarning: A column-vector y was passed when a 1d array was expected. Please change the shape of y to (n_samples, ), for example using ravel().\n",
            "  y = column_or_1d(y, warn=True)\n",
            "/usr/local/lib/python3.7/dist-packages/sklearn/utils/deprecation.py:87: FutureWarning: Function safe_indexing is deprecated; safe_indexing is deprecated in version 0.22 and will be removed in version 0.24.\n",
            "  warnings.warn(msg, category=FutureWarning)\n"
          ]
        }
      ]
    },
    {
      "cell_type": "code",
      "metadata": {
        "id": "xFD0VFxWsgQr"
      },
      "source": [
        "smote_sampler_x=pd.DataFrame(smote_sampler[0],columns=modified_train_x.columns)\n",
        "smote_sampler_y=pd.DataFrame(smote_sampler[1],columns=modified_train_y.columns)\n",
        "smote_sampler_total = pd.concat([smote_sampler_x,smote_sampler_y],axis=1)"
      ],
      "execution_count": 47,
      "outputs": []
    },
    {
      "cell_type": "markdown",
      "metadata": {
        "id": "bZL-EmXo0a2V"
      },
      "source": [
        "**After SMOTE -- Class imbalance issue resolved**"
      ]
    },
    {
      "cell_type": "code",
      "metadata": {
        "colab": {
          "base_uri": "https://localhost:8080/"
        },
        "id": "aQhLghR6x0sT",
        "outputId": "798415d9-aabd-4a0f-dd0f-9aa37ad9ff84"
      },
      "source": [
        "print(\"After smote balancing\\n 1.0 represents positive class and 0.0 represents negative class\\n\")\n",
        "smote_sampler_total['total_preeclampsia'].value_counts()"
      ],
      "execution_count": 48,
      "outputs": [
        {
          "output_type": "stream",
          "name": "stdout",
          "text": [
            "After smote balancing\n",
            " 1.0 represents positive class and 0.0 represents negative class\n",
            "\n"
          ]
        },
        {
          "output_type": "execute_result",
          "data": {
            "text/plain": [
              "1.0    1457\n",
              "0.0    1457\n",
              "Name: total_preeclampsia, dtype: int64"
            ]
          },
          "metadata": {},
          "execution_count": 48
        }
      ]
    },
    {
      "cell_type": "code",
      "metadata": {
        "colab": {
          "base_uri": "https://localhost:8080/",
          "height": 318
        },
        "id": "lCFCDwzraUoO",
        "outputId": "01243769-b1bf-40e7-e2ec-04d3f8449618"
      },
      "source": [
        "pd.value_counts(smote_sampler_total['total_preeclampsia']).plot.bar()\n",
        "plt.title(\"Class distribution for total preeclampsia cases after SMOTE\")\n",
        "plt.xlabel(\"Class - 1: Diagnosed with preeclampsia, 0: No Current preeclampsia \")\n",
        "plt.ylabel(\"Number of data points\")"
      ],
      "execution_count": 49,
      "outputs": [
        {
          "output_type": "execute_result",
          "data": {
            "text/plain": [
              "Text(0, 0.5, 'Number of data points')"
            ]
          },
          "metadata": {},
          "execution_count": 49
        },
        {
          "output_type": "display_data",
          "data": {
            "image/png": "[encoded data removed]",
            "text/plain": [
              "<Figure size 432x288 with 1 Axes>"
            ]
          },
          "metadata": {
            "needs_background": "light"
          }
        }
      ]
    },
    {
      "cell_type": "code",
      "metadata": {
        "colab": {
          "base_uri": "https://localhost:8080/"
        },
        "id": "xanDTrihyO-l",
        "outputId": "e64f6356-4eb9-4c5e-c948-2d55b26278a0"
      },
      "source": [
        "mdl_post_smote = LogisticRegression(penalty='l1', solver='liblinear', C = 10)\n",
        "mdl_post_smote.fit(smote_sampler_x, smote_sampler_y)"
      ],
      "execution_count": 50,
      "outputs": [
        {
          "output_type": "stream",
          "name": "stderr",
          "text": [
            "/usr/local/lib/python3.7/dist-packages/sklearn/utils/validation.py:760: DataConversionWarning: A column-vector y was passed when a 1d array was expected. Please change the shape of y to (n_samples, ), for example using ravel().\n",
            "  y = column_or_1d(y, warn=True)\n"
          ]
        },
        {
          "output_type": "execute_result",
          "data": {
            "text/plain": [
              "LogisticRegression(C=10, class_weight=None, dual=False, fit_intercept=True,\n",
              "                   intercept_scaling=1, l1_ratio=None, max_iter=100,\n",
              "                   multi_class='auto', n_jobs=None, penalty='l1',\n",
              "                   random_state=None, solver='liblinear', tol=0.0001, verbose=0,\n",
              "                   warm_start=False)"
            ]
          },
          "metadata": {},
          "execution_count": 50
        }
      ]
    },
    {
      "cell_type": "code",
      "metadata": {
        "colab": {
          "base_uri": "https://localhost:8080/"
        },
        "id": "AdPT4TDEydqk",
        "outputId": "05e3c266-c4a8-4e97-fb04-79c8f9e112b7"
      },
      "source": [
        "mdl_post_smote.score(modified_test_x, modified_test_y)"
      ],
      "execution_count": 51,
      "outputs": [
        {
          "output_type": "execute_result",
          "data": {
            "text/plain": [
              "0.793010752688172"
            ]
          },
          "metadata": {},
          "execution_count": 51
        }
      ]
    },
    {
      "cell_type": "code",
      "metadata": {
        "colab": {
          "base_uri": "https://localhost:8080/",
          "height": 846
        },
        "id": "OGLyyOekzS7Q",
        "outputId": "83ffb230-9018-4e2a-c5e6-1e4b0dce4f20"
      },
      "source": [
        "preds=mdl_post_smote.predict(modified_test_x)\n",
        "actual_y = modified_test_y\n",
        "\n",
        "confusion_mat = confusion_matrix(actual_y,preds)\n",
        "print(\"Confusion Matrix :\\n\",confusion_mat)\n",
        "fig, ax = plt.subplots(figsize=(7.5, 7.5))\n",
        "ax.matshow(confusion_mat, cmap=plt.cm.Blues, alpha=0.3)\n",
        "for i in range(confusion_mat.shape[0]):\n",
        "    for j in range(confusion_mat.shape[1]):\n",
        "        ax.text(x=j, y=i,s=confusion_mat[i, j], va='center', ha='center', size='xx-large')\n",
        "plt.xlabel('Predictions', fontsize=18)\n",
        "plt.ylabel('Actuals', fontsize=18)\n",
        "plt.title('Confusion Matrix after SMOTE', fontsize=18)\n",
        "plt.show()\n",
        "\n",
        "false_positive_rate, true_positive_rate, _ = roc_curve(actual_y,preds)\n",
        "area_under_curve = auc(false_positive_rate,true_positive_rate)\n",
        "\n",
        "plt.plot(false_positive_rate, true_positive_rate, color='orange',lw=2, label='ROC curve (Area = %0.2f)' % area_under_curve)\n",
        "plt.plot([0, 1], [0, 1], color='darkblue', lw=2, linestyle='--')\n",
        "plt.title('ROC Curve after SMOTE')\n",
        "plt.xlabel('False Positive Rate')\n",
        "plt.ylabel('True Positive Rate')\n",
        "plt.xlim([0.0, 1.0])\n",
        "plt.ylim([0.0, 1.1])\n",
        "plt.legend(loc=\"lower right\")\n",
        "plt.show()\n",
        "\n",
        "from sklearn.metrics import f1_score\n",
        "f1_score = f1_score(actual_y,preds)\n",
        "print(f1_score)"
      ],
      "execution_count": 52,
      "outputs": [
        {
          "output_type": "stream",
          "name": "stdout",
          "text": [
            "Confusion Matrix :\n",
            " [[292  75]\n",
            " [  2   3]]\n"
          ]
        },
        {
          "output_type": "display_data",
          "data": {
            "image/png": "[encoded data removed]",
            "text/plain": [
              "<Figure size 540x540 with 1 Axes>"
            ]
          },
          "metadata": {
            "needs_background": "light"
          }
        },
        {
          "output_type": "display_data",
          "data": {
            "image/png": "[encoded data removed]",
            "text/plain": [
              "<Figure size 432x288 with 1 Axes>"
            ]
          },
          "metadata": {
            "needs_background": "light"
          }
        },
        {
          "output_type": "stream",
          "name": "stdout",
          "text": [
            "0.07228915662650603\n"
          ]
        }
      ]
    },
    {
      "cell_type": "markdown",
      "metadata": {
        "id": "Akr52buc0iim"
      },
      "source": [
        "Model performance boosts up after resolving class imbalance in the dataset. AUC score increases from 0.5 to 0.80 which is the best way to compare and judge the performance of the classifiers.\n",
        "\n",
        "Hence SMOTE resolves class imbalance issues which consequently improves the performance of the classifier."
      ]
    },
    {
      "cell_type": "markdown",
      "metadata": {
        "id": "6v-1JNCmhsH9"
      },
      "source": [
        "# Other variants of SMOTE"
      ]
    },
    {
      "cell_type": "markdown",
      "metadata": {
        "id": "Jl8LV7bRoEfh"
      },
      "source": [
        "# **SVM SMOTE**\n",
        "Another extension to SMOTE involves selecting those instances of minority class that are misclassified such as with KNN model and then oversample just those instances to provide more resolution only where required. These points are usually the ones near the edge of the decision boundary. And in addition to just creating the synthetic points along the borderline of two classes this variant of SMOTE also uses SVM algorithm instead of KNN, which is why it is called Borderline-SVM SMOTE.\n"
      ]
    },
    {
      "cell_type": "code",
      "metadata": {
        "colab": {
          "base_uri": "https://localhost:8080/"
        },
        "id": "R_jnZiX-hl_f",
        "outputId": "1c17eb4b-973f-49c0-e556-cc4a8463bc3a"
      },
      "source": [
        "from imblearn.over_sampling import SVMSMOTE\n",
        "\n",
        "sampling = SVMSMOTE(random_state=10)\n",
        "smote_sampler=sampling.fit_sample(modified_train_x,modified_train_y)"
      ],
      "execution_count": 53,
      "outputs": [
        {
          "output_type": "stream",
          "name": "stderr",
          "text": [
            "/usr/local/lib/python3.7/dist-packages/sklearn/utils/validation.py:760: DataConversionWarning: A column-vector y was passed when a 1d array was expected. Please change the shape of y to (n_samples, ), for example using ravel().\n",
            "  y = column_or_1d(y, warn=True)\n",
            "/usr/local/lib/python3.7/dist-packages/sklearn/utils/deprecation.py:87: FutureWarning: Function safe_indexing is deprecated; safe_indexing is deprecated in version 0.22 and will be removed in version 0.24.\n",
            "  warnings.warn(msg, category=FutureWarning)\n",
            "/usr/local/lib/python3.7/dist-packages/sklearn/utils/deprecation.py:87: FutureWarning: Function safe_indexing is deprecated; safe_indexing is deprecated in version 0.22 and will be removed in version 0.24.\n",
            "  warnings.warn(msg, category=FutureWarning)\n",
            "/usr/local/lib/python3.7/dist-packages/sklearn/utils/deprecation.py:87: FutureWarning: Function safe_indexing is deprecated; safe_indexing is deprecated in version 0.22 and will be removed in version 0.24.\n",
            "  warnings.warn(msg, category=FutureWarning)\n",
            "/usr/local/lib/python3.7/dist-packages/sklearn/utils/deprecation.py:87: FutureWarning: Function safe_indexing is deprecated; safe_indexing is deprecated in version 0.22 and will be removed in version 0.24.\n",
            "  warnings.warn(msg, category=FutureWarning)\n",
            "/usr/local/lib/python3.7/dist-packages/sklearn/utils/deprecation.py:87: FutureWarning: Function safe_indexing is deprecated; safe_indexing is deprecated in version 0.22 and will be removed in version 0.24.\n",
            "  warnings.warn(msg, category=FutureWarning)\n"
          ]
        }
      ]
    },
    {
      "cell_type": "code",
      "metadata": {
        "id": "i7AEGgQ-hxn7"
      },
      "source": [
        "smote_sampler_x=pd.DataFrame(smote_sampler[0],columns=modified_train_x.columns)\n",
        "smote_sampler_y=pd.DataFrame(smote_sampler[1],columns=modified_train_y.columns)\n",
        "smote_sampler_total = pd.concat([smote_sampler_x,smote_sampler_y],axis=1)"
      ],
      "execution_count": 54,
      "outputs": []
    },
    {
      "cell_type": "code",
      "metadata": {
        "colab": {
          "base_uri": "https://localhost:8080/"
        },
        "id": "OEoHf6swh18P",
        "outputId": "fd5573ea-bc1b-4e44-b3c3-491c598d5028"
      },
      "source": [
        "print(\"After smote balancing\\n 1.0 represents positive class and 0.0 represents negative class\\n\")\n",
        "smote_sampler_total['total_preeclampsia'].value_counts()"
      ],
      "execution_count": 55,
      "outputs": [
        {
          "output_type": "stream",
          "name": "stdout",
          "text": [
            "After smote balancing\n",
            " 1.0 represents positive class and 0.0 represents negative class\n",
            "\n"
          ]
        },
        {
          "output_type": "execute_result",
          "data": {
            "text/plain": [
              "0.0    1457\n",
              "1.0     807\n",
              "Name: total_preeclampsia, dtype: int64"
            ]
          },
          "metadata": {},
          "execution_count": 55
        }
      ]
    },
    {
      "cell_type": "code",
      "metadata": {
        "colab": {
          "base_uri": "https://localhost:8080/",
          "height": 318
        },
        "id": "d-Yl0Mb-h7lJ",
        "outputId": "ceb20533-4821-4549-adfa-af1c95d9fff6"
      },
      "source": [
        "pd.value_counts(smote_sampler_total['total_preeclampsia']).plot.bar()\n",
        "plt.title(\"Class distribution for total preeclampsia cases after SVM-SMOTE\")\n",
        "plt.xlabel(\"Class - 1: Diagnosed with preeclampsia, 0: No Current preeclampsia \")\n",
        "plt.ylabel(\"Number of data points\")"
      ],
      "execution_count": 56,
      "outputs": [
        {
          "output_type": "execute_result",
          "data": {
            "text/plain": [
              "Text(0, 0.5, 'Number of data points')"
            ]
          },
          "metadata": {},
          "execution_count": 56
        },
        {
          "output_type": "display_data",
          "data": {
            "image/png": "[encoded data removed]",
            "text/plain": [
              "<Figure size 432x288 with 1 Axes>"
            ]
          },
          "metadata": {
            "needs_background": "light"
          }
        }
      ]
    },
    {
      "cell_type": "code",
      "metadata": {
        "colab": {
          "base_uri": "https://localhost:8080/"
        },
        "id": "yl3uc4a5iAPs",
        "outputId": "75774e00-2068-4751-8342-740fc8a89367"
      },
      "source": [
        "mdl_post_smote = LogisticRegression(penalty='l1', solver='liblinear', C = 10)\n",
        "mdl_post_smote.fit(smote_sampler_x, smote_sampler_y)"
      ],
      "execution_count": 57,
      "outputs": [
        {
          "output_type": "stream",
          "name": "stderr",
          "text": [
            "/usr/local/lib/python3.7/dist-packages/sklearn/utils/validation.py:760: DataConversionWarning: A column-vector y was passed when a 1d array was expected. Please change the shape of y to (n_samples, ), for example using ravel().\n",
            "  y = column_or_1d(y, warn=True)\n"
          ]
        },
        {
          "output_type": "execute_result",
          "data": {
            "text/plain": [
              "LogisticRegression(C=10, class_weight=None, dual=False, fit_intercept=True,\n",
              "                   intercept_scaling=1, l1_ratio=None, max_iter=100,\n",
              "                   multi_class='auto', n_jobs=None, penalty='l1',\n",
              "                   random_state=None, solver='liblinear', tol=0.0001, verbose=0,\n",
              "                   warm_start=False)"
            ]
          },
          "metadata": {},
          "execution_count": 57
        }
      ]
    },
    {
      "cell_type": "code",
      "metadata": {
        "colab": {
          "base_uri": "https://localhost:8080/"
        },
        "id": "cvksjG18nzF9",
        "outputId": "ea2fc968-33c0-4941-b86d-e9c07c941705"
      },
      "source": [
        "mdl_post_smote.score(modified_test_x, modified_test_y)"
      ],
      "execution_count": 58,
      "outputs": [
        {
          "output_type": "execute_result",
          "data": {
            "text/plain": [
              "0.9193548387096774"
            ]
          },
          "metadata": {},
          "execution_count": 58
        }
      ]
    },
    {
      "cell_type": "code",
      "metadata": {
        "colab": {
          "base_uri": "https://localhost:8080/",
          "height": 846
        },
        "id": "r-Mt5mexn4_M",
        "outputId": "4d59f63e-aa02-4537-8cc0-3c4010921be1"
      },
      "source": [
        "preds=mdl_post_smote.predict(modified_test_x)\n",
        "actual_y = modified_test_y\n",
        "\n",
        "confusion_mat = confusion_matrix(actual_y,preds)\n",
        "print(\"Confusion Matrix :\\n\",confusion_mat)\n",
        "fig, ax = plt.subplots(figsize=(7.5, 7.5))\n",
        "ax.matshow(confusion_mat, cmap=plt.cm.Blues, alpha=0.3)\n",
        "for i in range(confusion_mat.shape[0]):\n",
        "    for j in range(confusion_mat.shape[1]):\n",
        "        ax.text(x=j, y=i,s=confusion_mat[i, j], va='center', ha='center', size='xx-large')\n",
        "plt.xlabel('Predictions', fontsize=18)\n",
        "plt.ylabel('Actuals', fontsize=18)\n",
        "plt.title('Confusion Matrix for SVM-SMOTE', fontsize=18)\n",
        "plt.show()\n",
        "\n",
        "false_positive_rate, true_positive_rate, _ = roc_curve(actual_y,preds)\n",
        "area_under_curve = auc(false_positive_rate,true_positive_rate)\n",
        "\n",
        "plt.plot(false_positive_rate, true_positive_rate, color='orange',lw=2, label='ROC curve (Area = %0.2f)' % area_under_curve)\n",
        "plt.plot([0, 1], [0, 1], color='darkblue', lw=2, linestyle='--')\n",
        "plt.title('ROC Curve for SVM-SMOTE')\n",
        "plt.xlabel('False Positive Rate')\n",
        "plt.ylabel('True Positive Rate')\n",
        "plt.xlim([0.0, 1.0])\n",
        "plt.ylim([0.0, 1.1])\n",
        "plt.legend(loc=\"lower right\")\n",
        "plt.show()\n",
        "\n",
        "from sklearn.metrics import f1_score\n",
        "f1_score = f1_score(actual_y,preds)\n",
        "print(f1_score)"
      ],
      "execution_count": 59,
      "outputs": [
        {
          "output_type": "stream",
          "name": "stdout",
          "text": [
            "Confusion Matrix :\n",
            " [[340  27]\n",
            " [  3   2]]\n"
          ]
        },
        {
          "output_type": "display_data",
          "data": {
            "image/png": "[encoded data removed]",
            "text/plain": [
              "<Figure size 540x540 with 1 Axes>"
            ]
          },
          "metadata": {
            "needs_background": "light"
          }
        },
        {
          "output_type": "display_data",
          "data": {
            "image/png": "[encoded data removed]",
            "text/plain": [
              "<Figure size 432x288 with 1 Axes>"
            ]
          },
          "metadata": {
            "needs_background": "light"
          }
        },
        {
          "output_type": "stream",
          "name": "stdout",
          "text": [
            "0.1176470588235294\n"
          ]
        }
      ]
    },
    {
      "cell_type": "markdown",
      "metadata": {
        "id": "iEg7ete5oQ4Q"
      },
      "source": [
        "# ADASYN"
      ]
    },
    {
      "cell_type": "markdown",
      "metadata": {
        "id": "vTQzfy8Ew-xt"
      },
      "source": [
        "Adaptive Synthetic Sampling (ADASYN) is a modification to SMOTE that was developed to overcome the disadvantage of sparsity in vanilla SMOTE. ADASYN’s approach involves generating synthetic samples inversely proportional to the density of the minority class data points, i.e. it generates more synthetic points in regions of feature space where the density of the minority class is low and fewer points where the density is high. The key idea behind ADASYN algorithm is that it uses a density distribution as a criterion to automatically decide the number of synthetic samples that needs to be generated for each minority sample. It adaptively generates minority samples hence the name Adaptive Synthetic Sampling."
      ]
    },
    {
      "cell_type": "code",
      "metadata": {
        "colab": {
          "base_uri": "https://localhost:8080/"
        },
        "id": "sGOA0v69oTA3",
        "outputId": "0cda80da-d918-40a1-af47-765b2a81173b"
      },
      "source": [
        "from imblearn.over_sampling import ADASYN\n",
        "\n",
        "sampling = ADASYN(random_state=10)\n",
        "smote_sampler=sampling.fit_sample(modified_train_x,modified_train_y)"
      ],
      "execution_count": 60,
      "outputs": [
        {
          "output_type": "stream",
          "name": "stderr",
          "text": [
            "/usr/local/lib/python3.7/dist-packages/sklearn/utils/validation.py:760: DataConversionWarning: A column-vector y was passed when a 1d array was expected. Please change the shape of y to (n_samples, ), for example using ravel().\n",
            "  y = column_or_1d(y, warn=True)\n",
            "/usr/local/lib/python3.7/dist-packages/sklearn/utils/deprecation.py:87: FutureWarning: Function safe_indexing is deprecated; safe_indexing is deprecated in version 0.22 and will be removed in version 0.24.\n",
            "  warnings.warn(msg, category=FutureWarning)\n"
          ]
        }
      ]
    },
    {
      "cell_type": "code",
      "metadata": {
        "id": "14cpnfMgoZbv"
      },
      "source": [
        "smote_sampler_x=pd.DataFrame(smote_sampler[0],columns=modified_train_x.columns)\n",
        "smote_sampler_y=pd.DataFrame(smote_sampler[1],columns=modified_train_y.columns)\n",
        "smote_sampler_total = pd.concat([smote_sampler_x,smote_sampler_y],axis=1)"
      ],
      "execution_count": 61,
      "outputs": []
    },
    {
      "cell_type": "code",
      "metadata": {
        "colab": {
          "base_uri": "https://localhost:8080/"
        },
        "id": "DGAKO0pTonKK",
        "outputId": "637ae6e8-b67c-4682-d0bf-56cafefc53c1"
      },
      "source": [
        "print(\"After smote balancing\\n 1.0 represents positive class and 0.0 represents negative class\\n\")\n",
        "smote_sampler_total['total_preeclampsia'].value_counts()"
      ],
      "execution_count": 62,
      "outputs": [
        {
          "output_type": "stream",
          "name": "stdout",
          "text": [
            "After smote balancing\n",
            " 1.0 represents positive class and 0.0 represents negative class\n",
            "\n"
          ]
        },
        {
          "output_type": "execute_result",
          "data": {
            "text/plain": [
              "1.0    1460\n",
              "0.0    1457\n",
              "Name: total_preeclampsia, dtype: int64"
            ]
          },
          "metadata": {},
          "execution_count": 62
        }
      ]
    },
    {
      "cell_type": "code",
      "metadata": {
        "colab": {
          "base_uri": "https://localhost:8080/",
          "height": 318
        },
        "id": "SgRFvfckoqSG",
        "outputId": "96a63b5a-3075-4ede-8de4-321c59c2e305"
      },
      "source": [
        "pd.value_counts(smote_sampler_total['total_preeclampsia']).plot.bar()\n",
        "plt.title(\"Class distribution for total preeclampsia cases after ADASYN\")\n",
        "plt.xlabel(\"Class - 1: Diagnosed with preeclampsia, 0: No Current preeclampsia \")\n",
        "plt.ylabel(\"Number of data points\")"
      ],
      "execution_count": 63,
      "outputs": [
        {
          "output_type": "execute_result",
          "data": {
            "text/plain": [
              "Text(0, 0.5, 'Number of data points')"
            ]
          },
          "metadata": {},
          "execution_count": 63
        },
        {
          "output_type": "display_data",
          "data": {
            "image/png": "[encoded data removed]",
            "text/plain": [
              "<Figure size 432x288 with 1 Axes>"
            ]
          },
          "metadata": {
            "needs_background": "light"
          }
        }
      ]
    },
    {
      "cell_type": "code",
      "metadata": {
        "colab": {
          "base_uri": "https://localhost:8080/"
        },
        "id": "6OeDOFKQotF-",
        "outputId": "ceeb05eb-37f3-42e0-9693-d0c185c2e220"
      },
      "source": [
        "mdl_post_smote = LogisticRegression(penalty='l1', solver='liblinear', C = 10)\n",
        "mdl_post_smote.fit(smote_sampler_x, smote_sampler_y)"
      ],
      "execution_count": 64,
      "outputs": [
        {
          "output_type": "stream",
          "name": "stderr",
          "text": [
            "/usr/local/lib/python3.7/dist-packages/sklearn/utils/validation.py:760: DataConversionWarning: A column-vector y was passed when a 1d array was expected. Please change the shape of y to (n_samples, ), for example using ravel().\n",
            "  y = column_or_1d(y, warn=True)\n"
          ]
        },
        {
          "output_type": "execute_result",
          "data": {
            "text/plain": [
              "LogisticRegression(C=10, class_weight=None, dual=False, fit_intercept=True,\n",
              "                   intercept_scaling=1, l1_ratio=None, max_iter=100,\n",
              "                   multi_class='auto', n_jobs=None, penalty='l1',\n",
              "                   random_state=None, solver='liblinear', tol=0.0001, verbose=0,\n",
              "                   warm_start=False)"
            ]
          },
          "metadata": {},
          "execution_count": 64
        }
      ]
    },
    {
      "cell_type": "code",
      "metadata": {
        "colab": {
          "base_uri": "https://localhost:8080/"
        },
        "id": "32V84Hy0ow5p",
        "outputId": "efbc9c20-161a-4fd1-a8b4-ef8a497054e4"
      },
      "source": [
        "mdl_post_smote.score(modified_test_x, modified_test_y)"
      ],
      "execution_count": 65,
      "outputs": [
        {
          "output_type": "execute_result",
          "data": {
            "text/plain": [
              "0.7876344086021505"
            ]
          },
          "metadata": {},
          "execution_count": 65
        }
      ]
    },
    {
      "cell_type": "code",
      "metadata": {
        "colab": {
          "base_uri": "https://localhost:8080/",
          "height": 846
        },
        "id": "Q2dbubZko0uK",
        "outputId": "ed379813-36ff-49cd-b3b6-b779f8dd2b70"
      },
      "source": [
        "preds=mdl_post_smote.predict(modified_test_x)\n",
        "actual_y = modified_test_y\n",
        "\n",
        "confusion_mat = confusion_matrix(actual_y,preds)\n",
        "print(\"Confusion Matrix :\\n\",confusion_mat)\n",
        "fig, ax = plt.subplots(figsize=(7.5, 7.5))\n",
        "ax.matshow(confusion_mat, cmap=plt.cm.Blues, alpha=0.3)\n",
        "for i in range(confusion_mat.shape[0]):\n",
        "    for j in range(confusion_mat.shape[1]):\n",
        "        ax.text(x=j, y=i,s=confusion_mat[i, j], va='center', ha='center', size='xx-large')\n",
        "plt.xlabel('Predictions', fontsize=18)\n",
        "plt.ylabel('Actuals', fontsize=18)\n",
        "plt.title('Confusion Matrix after ADASYN', fontsize=18)\n",
        "plt.show()\n",
        "\n",
        "false_positive_rate, true_positive_rate, _ = roc_curve(actual_y,preds)\n",
        "area_under_curve = auc(false_positive_rate,true_positive_rate)\n",
        "\n",
        "plt.plot(false_positive_rate, true_positive_rate, color='orange',lw=2, label='ROC curve (Area = %0.2f)' % area_under_curve)\n",
        "plt.plot([0, 1], [0, 1], color='darkblue', lw=2, linestyle='--')\n",
        "plt.title('ROC Curve after ADASYN')\n",
        "plt.xlabel('False Positive Rate')\n",
        "plt.ylabel('True Positive Rate')\n",
        "plt.xlim([0.0, 1.0])\n",
        "plt.ylim([0.0, 1.1])\n",
        "plt.legend(loc=\"lower right\")\n",
        "plt.show()\n",
        "\n",
        "from sklearn.metrics import f1_score\n",
        "f1_score = f1_score(actual_y,preds)\n",
        "print(f1_score)"
      ],
      "execution_count": 66,
      "outputs": [
        {
          "output_type": "stream",
          "name": "stdout",
          "text": [
            "Confusion Matrix :\n",
            " [[290  77]\n",
            " [  2   3]]\n"
          ]
        },
        {
          "output_type": "display_data",
          "data": {
            "image/png": "[encoded data removed]",
            "text/plain": [
              "<Figure size 540x540 with 1 Axes>"
            ]
          },
          "metadata": {
            "needs_background": "light"
          }
        },
        {
          "output_type": "display_data",
          "data": {
            "image/png": "[encoded data removed]",
            "text/plain": [
              "<Figure size 432x288 with 1 Axes>"
            ]
          },
          "metadata": {
            "needs_background": "light"
          }
        },
        {
          "output_type": "stream",
          "name": "stdout",
          "text": [
            "0.07058823529411765\n"
          ]
        }
      ]
    },
    {
      "cell_type": "markdown",
      "metadata": {
        "id": "owPiweOv1QBi"
      },
      "source": [
        "******** End of Code *************"
      ]
    },
    {
      "cell_type": "markdown",
      "metadata": {
        "id": "T0x9fHQDyJvu"
      },
      "source": [
        "For later reference if needed .."
      ]
    },
    {
      "cell_type": "code",
      "metadata": {
        "id": "8DPCXRCwQJXp"
      },
      "source": [
        "#pregnum - categorical\n",
        "#prevpreeclmp - categorical\n",
        "#preveclmp - categorical\n",
        "#currpreeclmp - categorical\n",
        "#curreclmp - categorical\n",
        "#currhd - categorical\n",
        "#currgd - categorical\n",
        "#prevhyp - categorical\n",
        "#preghyp_durante - categorical\n",
        "#prevdiab\t- categorical\n",
        "#pregdiab_durante\t- categorical\n",
        "#preglup_durante\t- categorical\n",
        "#prevlup - categorical\n",
        "#tvcurrpreeclmp\t- categorical\n",
        "#tvcurreclmp\t- categorical\n",
        "#tvcurrgd - categorical\n",
        "#ivf - categorical\n",
        "#MULTIFETUS - categorical\n",
        "#vitd - categorical\n",
        "#cal - categorical\n",
        "#total_preeclampsia - categorical"
      ],
      "execution_count": 67,
      "outputs": []
    }
  ]
}