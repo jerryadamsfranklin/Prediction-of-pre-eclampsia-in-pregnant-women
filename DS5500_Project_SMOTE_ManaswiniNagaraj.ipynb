{
  "nbformat": 4,
  "nbformat_minor": 0,
  "metadata": {
    "colab": {
      "name": "DS5500 Project_ SMOTE_ManaswiniNagaraj.ipynb",
      "provenance": [],
      "collapsed_sections": [],
      "authorship_tag": "ABX9TyNBWrPUurspuKYQwOFHEuCY",
      "include_colab_link": true
    },
    "kernelspec": {
      "name": "python3",
      "display_name": "Python 3"
    },
    "language_info": {
      "name": "python"
    }
  },
  "cells": [
    {
      "cell_type": "markdown",
      "metadata": {
        "id": "view-in-github",
        "colab_type": "text"
      },
      "source": [
        "<a href=\"https://colab.research.google.com/github/jerryadamsfranklin/Prediction-of-pre-eclampsia-in-pregnant-women/blob/main/DS5500_Project_SMOTE_ManaswiniNagaraj.ipynb\" target=\"_parent\"><img src=\"https://colab.research.google.com/assets/colab-badge.svg\" alt=\"Open In Colab\"/></a>"
      ]
    },
    {
      "cell_type": "code",
      "metadata": {
        "colab": {
          "base_uri": "https://localhost:8080/"
        },
        "id": "PZUtY68wg-SC",
        "outputId": "7520d571-beee-42e2-be93-750c4b9f9203"
      },
      "source": [
        "from google.colab import drive\n",
        "drive.mount('gDrive')"
      ],
      "execution_count": 2,
      "outputs": [
        {
          "output_type": "stream",
          "name": "stdout",
          "text": [
            "Mounted at gDrive\n"
          ]
        }
      ]
    },
    {
      "cell_type": "code",
      "metadata": {
        "id": "Lrml7oOYz6Bq"
      },
      "source": [
        "import pandas as pd\n",
        "import numpy as np\n",
        "import matplotlib.pyplot as plt\n",
        "import seaborn as sns\n",
        "from sklearn.model_selection import train_test_split\n",
        "from sklearn.linear_model import LogisticRegression\n",
        "from sklearn.metrics import roc_curve, auc, confusion_matrix\n",
        "from sklearn.metrics import roc_auc_score"
      ],
      "execution_count": 73,
      "outputs": []
    },
    {
      "cell_type": "code",
      "metadata": {
        "id": "wttfzCJp1WGr"
      },
      "source": [
        "#read the dataset\n",
        "protect = pd.read_csv(\"gDrive/MyDrive/Moi_kaggle/DS5500_dataset.csv\", engine = \"python\")"
      ],
      "execution_count": 74,
      "outputs": []
    },
    {
      "cell_type": "code",
      "metadata": {
        "id": "6pEisHnG3FKS",
        "colab": {
          "base_uri": "https://localhost:8080/",
          "height": 223
        },
        "outputId": "d2a2718f-4152-4459-b69c-1f29b9e8d407"
      },
      "source": [
        "#take a look at the dataset\n",
        "protect.head()"
      ],
      "execution_count": 75,
      "outputs": [
        {
          "output_type": "execute_result",
          "data": {
            "text/html": [
              "<div>\n",
              "<style scoped>\n",
              "    .dataframe tbody tr th:only-of-type {\n",
              "        vertical-align: middle;\n",
              "    }\n",
              "\n",
              "    .dataframe tbody tr th {\n",
              "        vertical-align: top;\n",
              "    }\n",
              "\n",
              "    .dataframe thead th {\n",
              "        text-align: right;\n",
              "    }\n",
              "</style>\n",
              "<table border=\"1\" class=\"dataframe\">\n",
              "  <thead>\n",
              "    <tr style=\"text-align: right;\">\n",
              "      <th></th>\n",
              "      <th>SYS_LOC_CODE</th>\n",
              "      <th>obdiffcard</th>\n",
              "      <th>obdiffhbp</th>\n",
              "      <th>obdiffkidney</th>\n",
              "      <th>obdiffliver</th>\n",
              "      <th>RACE__1</th>\n",
              "      <th>RACE__2</th>\n",
              "      <th>RACE__3</th>\n",
              "      <th>RACE__4</th>\n",
              "      <th>RACE__5</th>\n",
              "      <th>RACE__6</th>\n",
              "      <th>RACE__97</th>\n",
              "      <th>RACE__888</th>\n",
              "      <th>RACE__999</th>\n",
              "      <th>race97</th>\n",
              "      <th>hisp</th>\n",
              "      <th>smkever</th>\n",
              "      <th>alcdays</th>\n",
              "      <th>marijuse</th>\n",
              "      <th>druguse</th>\n",
              "      <th>fvcurrht_foot</th>\n",
              "      <th>fvcurrht_inch</th>\n",
              "      <th>wtprepreg</th>\n",
              "      <th>prembirthnum</th>\n",
              "      <th>pregnum</th>\n",
              "      <th>prevpreeclmp</th>\n",
              "      <th>preveclmp</th>\n",
              "      <th>currpreeclmp</th>\n",
              "      <th>curreclmp</th>\n",
              "      <th>currhd</th>\n",
              "      <th>currgd</th>\n",
              "      <th>prevhyp</th>\n",
              "      <th>preghyp_durante</th>\n",
              "      <th>prevdiab</th>\n",
              "      <th>pregdiab_durante</th>\n",
              "      <th>preglup_durante</th>\n",
              "      <th>prevlup</th>\n",
              "      <th>tvcurrpreeclmp</th>\n",
              "      <th>tvcurreclmp</th>\n",
              "      <th>tvcurrgd</th>\n",
              "      <th>ivf</th>\n",
              "      <th>MULTIFETUS</th>\n",
              "      <th>pptypelabor</th>\n",
              "      <th>ppinduct</th>\n",
              "      <th>pppretlabw</th>\n",
              "      <th>pppreeclampsia</th>\n",
              "      <th>vitd</th>\n",
              "      <th>vitdfreq</th>\n",
              "      <th>cal</th>\n",
              "      <th>calfreq</th>\n",
              "    </tr>\n",
              "  </thead>\n",
              "  <tbody>\n",
              "    <tr>\n",
              "      <th>0</th>\n",
              "      <td>1001</td>\n",
              "      <td>NaN</td>\n",
              "      <td>NaN</td>\n",
              "      <td>NaN</td>\n",
              "      <td>NaN</td>\n",
              "      <td>1</td>\n",
              "      <td>0</td>\n",
              "      <td>0</td>\n",
              "      <td>0</td>\n",
              "      <td>0</td>\n",
              "      <td>0</td>\n",
              "      <td>0</td>\n",
              "      <td>0</td>\n",
              "      <td>0</td>\n",
              "      <td>NaN</td>\n",
              "      <td>1.0</td>\n",
              "      <td>0.0</td>\n",
              "      <td>1.0</td>\n",
              "      <td>0.0</td>\n",
              "      <td>0.0</td>\n",
              "      <td>5.0</td>\n",
              "      <td>1.0</td>\n",
              "      <td>85.0</td>\n",
              "      <td>0.0</td>\n",
              "      <td>1.0</td>\n",
              "      <td>NaN</td>\n",
              "      <td>NaN</td>\n",
              "      <td>0.0</td>\n",
              "      <td>0.0</td>\n",
              "      <td>0.0</td>\n",
              "      <td>0.0</td>\n",
              "      <td>0.0</td>\n",
              "      <td>0.0</td>\n",
              "      <td>0.0</td>\n",
              "      <td>0.0</td>\n",
              "      <td>0.0</td>\n",
              "      <td>0.0</td>\n",
              "      <td>0.0</td>\n",
              "      <td>0.0</td>\n",
              "      <td>0.0</td>\n",
              "      <td>0.0</td>\n",
              "      <td>0</td>\n",
              "      <td>1.0</td>\n",
              "      <td>NaN</td>\n",
              "      <td>NaN</td>\n",
              "      <td>NaN</td>\n",
              "      <td>0.0</td>\n",
              "      <td>NaN</td>\n",
              "      <td>0.0</td>\n",
              "      <td>NaN</td>\n",
              "    </tr>\n",
              "    <tr>\n",
              "      <th>1</th>\n",
              "      <td>1006</td>\n",
              "      <td>NaN</td>\n",
              "      <td>NaN</td>\n",
              "      <td>NaN</td>\n",
              "      <td>NaN</td>\n",
              "      <td>1</td>\n",
              "      <td>1</td>\n",
              "      <td>0</td>\n",
              "      <td>0</td>\n",
              "      <td>0</td>\n",
              "      <td>0</td>\n",
              "      <td>1</td>\n",
              "      <td>0</td>\n",
              "      <td>0</td>\n",
              "      <td>India</td>\n",
              "      <td>1.0</td>\n",
              "      <td>0.0</td>\n",
              "      <td>NaN</td>\n",
              "      <td>0.0</td>\n",
              "      <td>0.0</td>\n",
              "      <td>5.0</td>\n",
              "      <td>5.0</td>\n",
              "      <td>155.0</td>\n",
              "      <td>0.0</td>\n",
              "      <td>1.0</td>\n",
              "      <td>NaN</td>\n",
              "      <td>NaN</td>\n",
              "      <td>0.0</td>\n",
              "      <td>0.0</td>\n",
              "      <td>0.0</td>\n",
              "      <td>0.0</td>\n",
              "      <td>0.0</td>\n",
              "      <td>0.0</td>\n",
              "      <td>0.0</td>\n",
              "      <td>0.0</td>\n",
              "      <td>0.0</td>\n",
              "      <td>0.0</td>\n",
              "      <td>0.0</td>\n",
              "      <td>0.0</td>\n",
              "      <td>0.0</td>\n",
              "      <td>0.0</td>\n",
              "      <td>0</td>\n",
              "      <td>1.0</td>\n",
              "      <td>NaN</td>\n",
              "      <td>NaN</td>\n",
              "      <td>NaN</td>\n",
              "      <td>0.0</td>\n",
              "      <td>NaN</td>\n",
              "      <td>0.0</td>\n",
              "      <td>NaN</td>\n",
              "    </tr>\n",
              "    <tr>\n",
              "      <th>2</th>\n",
              "      <td>1009</td>\n",
              "      <td>NaN</td>\n",
              "      <td>NaN</td>\n",
              "      <td>NaN</td>\n",
              "      <td>NaN</td>\n",
              "      <td>0</td>\n",
              "      <td>0</td>\n",
              "      <td>1</td>\n",
              "      <td>0</td>\n",
              "      <td>0</td>\n",
              "      <td>0</td>\n",
              "      <td>0</td>\n",
              "      <td>0</td>\n",
              "      <td>0</td>\n",
              "      <td>NaN</td>\n",
              "      <td>1.0</td>\n",
              "      <td>1.0</td>\n",
              "      <td>1.0</td>\n",
              "      <td>0.0</td>\n",
              "      <td>0.0</td>\n",
              "      <td>5.0</td>\n",
              "      <td>3.0</td>\n",
              "      <td>200.0</td>\n",
              "      <td>1.0</td>\n",
              "      <td>2.0</td>\n",
              "      <td>1.0</td>\n",
              "      <td>1.0</td>\n",
              "      <td>0.0</td>\n",
              "      <td>0.0</td>\n",
              "      <td>0.0</td>\n",
              "      <td>0.0</td>\n",
              "      <td>NaN</td>\n",
              "      <td>NaN</td>\n",
              "      <td>NaN</td>\n",
              "      <td>NaN</td>\n",
              "      <td>NaN</td>\n",
              "      <td>NaN</td>\n",
              "      <td>NaN</td>\n",
              "      <td>NaN</td>\n",
              "      <td>NaN</td>\n",
              "      <td>0.0</td>\n",
              "      <td>0</td>\n",
              "      <td>1.0</td>\n",
              "      <td>NaN</td>\n",
              "      <td>NaN</td>\n",
              "      <td>NaN</td>\n",
              "      <td>NaN</td>\n",
              "      <td>NaN</td>\n",
              "      <td>NaN</td>\n",
              "      <td>NaN</td>\n",
              "    </tr>\n",
              "    <tr>\n",
              "      <th>3</th>\n",
              "      <td>1012</td>\n",
              "      <td>NaN</td>\n",
              "      <td>NaN</td>\n",
              "      <td>NaN</td>\n",
              "      <td>NaN</td>\n",
              "      <td>1</td>\n",
              "      <td>0</td>\n",
              "      <td>0</td>\n",
              "      <td>0</td>\n",
              "      <td>0</td>\n",
              "      <td>0</td>\n",
              "      <td>0</td>\n",
              "      <td>0</td>\n",
              "      <td>0</td>\n",
              "      <td>NaN</td>\n",
              "      <td>1.0</td>\n",
              "      <td>1.0</td>\n",
              "      <td>1.0</td>\n",
              "      <td>0.0</td>\n",
              "      <td>0.0</td>\n",
              "      <td>5.0</td>\n",
              "      <td>2.0</td>\n",
              "      <td>152.0</td>\n",
              "      <td>1.0</td>\n",
              "      <td>2.0</td>\n",
              "      <td>0.0</td>\n",
              "      <td>0.0</td>\n",
              "      <td>0.0</td>\n",
              "      <td>0.0</td>\n",
              "      <td>0.0</td>\n",
              "      <td>0.0</td>\n",
              "      <td>0.0</td>\n",
              "      <td>0.0</td>\n",
              "      <td>0.0</td>\n",
              "      <td>0.0</td>\n",
              "      <td>0.0</td>\n",
              "      <td>0.0</td>\n",
              "      <td>0.0</td>\n",
              "      <td>0.0</td>\n",
              "      <td>0.0</td>\n",
              "      <td>0.0</td>\n",
              "      <td>0</td>\n",
              "      <td>1.0</td>\n",
              "      <td>NaN</td>\n",
              "      <td>NaN</td>\n",
              "      <td>0.0</td>\n",
              "      <td>0.0</td>\n",
              "      <td>NaN</td>\n",
              "      <td>0.0</td>\n",
              "      <td>NaN</td>\n",
              "    </tr>\n",
              "    <tr>\n",
              "      <th>4</th>\n",
              "      <td>1013</td>\n",
              "      <td>NaN</td>\n",
              "      <td>NaN</td>\n",
              "      <td>NaN</td>\n",
              "      <td>NaN</td>\n",
              "      <td>1</td>\n",
              "      <td>0</td>\n",
              "      <td>0</td>\n",
              "      <td>0</td>\n",
              "      <td>0</td>\n",
              "      <td>0</td>\n",
              "      <td>0</td>\n",
              "      <td>0</td>\n",
              "      <td>0</td>\n",
              "      <td>NaN</td>\n",
              "      <td>1.0</td>\n",
              "      <td>0.0</td>\n",
              "      <td>1.0</td>\n",
              "      <td>0.0</td>\n",
              "      <td>0.0</td>\n",
              "      <td>5.0</td>\n",
              "      <td>5.0</td>\n",
              "      <td>130.0</td>\n",
              "      <td>0.0</td>\n",
              "      <td>2.0</td>\n",
              "      <td>0.0</td>\n",
              "      <td>0.0</td>\n",
              "      <td>0.0</td>\n",
              "      <td>0.0</td>\n",
              "      <td>0.0</td>\n",
              "      <td>0.0</td>\n",
              "      <td>0.0</td>\n",
              "      <td>0.0</td>\n",
              "      <td>0.0</td>\n",
              "      <td>0.0</td>\n",
              "      <td>0.0</td>\n",
              "      <td>0.0</td>\n",
              "      <td>0.0</td>\n",
              "      <td>0.0</td>\n",
              "      <td>0.0</td>\n",
              "      <td>0.0</td>\n",
              "      <td>0</td>\n",
              "      <td>1.0</td>\n",
              "      <td>NaN</td>\n",
              "      <td>NaN</td>\n",
              "      <td>NaN</td>\n",
              "      <td>0.0</td>\n",
              "      <td>NaN</td>\n",
              "      <td>0.0</td>\n",
              "      <td>NaN</td>\n",
              "    </tr>\n",
              "  </tbody>\n",
              "</table>\n",
              "</div>"
            ],
            "text/plain": [
              "   SYS_LOC_CODE  obdiffcard  obdiffhbp  ...  vitdfreq  cal  calfreq\n",
              "0          1001         NaN        NaN  ...       NaN  0.0      NaN\n",
              "1          1006         NaN        NaN  ...       NaN  0.0      NaN\n",
              "2          1009         NaN        NaN  ...       NaN  NaN      NaN\n",
              "3          1012         NaN        NaN  ...       NaN  0.0      NaN\n",
              "4          1013         NaN        NaN  ...       NaN  0.0      NaN\n",
              "\n",
              "[5 rows x 50 columns]"
            ]
          },
          "metadata": {},
          "execution_count": 75
        }
      ]
    },
    {
      "cell_type": "markdown",
      "metadata": {
        "id": "kLzz6BW7smlS"
      },
      "source": [
        "Dataset Dimensions and Statistics"
      ]
    },
    {
      "cell_type": "code",
      "metadata": {
        "colab": {
          "base_uri": "https://localhost:8080/"
        },
        "id": "QPNJ2vTHPMrz",
        "outputId": "a9e615ae-4e8e-46e1-88ce-28e957ac9c16"
      },
      "source": [
        "protect.shape"
      ],
      "execution_count": 76,
      "outputs": [
        {
          "output_type": "execute_result",
          "data": {
            "text/plain": [
              "(1859, 50)"
            ]
          },
          "metadata": {},
          "execution_count": 76
        }
      ]
    },
    {
      "cell_type": "code",
      "metadata": {
        "colab": {
          "base_uri": "https://localhost:8080/"
        },
        "id": "8o3p9uxt4Y6p",
        "outputId": "51e3d101-2ae9-4197-9048-369677b39d5e"
      },
      "source": [
        "protect[1: ].isna().sum()"
      ],
      "execution_count": 77,
      "outputs": [
        {
          "output_type": "execute_result",
          "data": {
            "text/plain": [
              "SYS_LOC_CODE           0\n",
              "obdiffcard          1856\n",
              "obdiffhbp           1856\n",
              "obdiffkidney        1856\n",
              "obdiffliver         1856\n",
              "RACE__1                0\n",
              "RACE__2                0\n",
              "RACE__3                0\n",
              "RACE__4                0\n",
              "RACE__5                0\n",
              "RACE__6                0\n",
              "RACE__97               0\n",
              "RACE__888              0\n",
              "RACE__999              0\n",
              "race97              1842\n",
              "hisp                 128\n",
              "smkever                3\n",
              "alcdays             1060\n",
              "marijuse               4\n",
              "druguse               10\n",
              "fvcurrht_foot         59\n",
              "fvcurrht_inch         70\n",
              "wtprepreg             12\n",
              "prembirthnum         433\n",
              "pregnum                6\n",
              "prevpreeclmp         848\n",
              "preveclmp            849\n",
              "currpreeclmp          25\n",
              "curreclmp             23\n",
              "currhd                27\n",
              "currgd                24\n",
              "prevhyp              235\n",
              "preghyp_durante      237\n",
              "prevdiab             235\n",
              "pregdiab_durante     236\n",
              "preglup_durante      235\n",
              "prevlup              233\n",
              "tvcurrpreeclmp       153\n",
              "tvcurreclmp          153\n",
              "tvcurrgd             155\n",
              "ivf                    1\n",
              "MULTIFETUS             0\n",
              "pptypelabor          916\n",
              "ppinduct            1776\n",
              "pppretlabw          1822\n",
              "pppreeclampsia      1752\n",
              "vitd                  97\n",
              "vitdfreq            1848\n",
              "cal                   98\n",
              "calfreq             1831\n",
              "dtype: int64"
            ]
          },
          "metadata": {},
          "execution_count": 77
        }
      ]
    },
    {
      "cell_type": "code",
      "metadata": {
        "colab": {
          "base_uri": "https://localhost:8080/",
          "height": 1000
        },
        "id": "Jv5izR4H8N5g",
        "outputId": "a0b1d2a8-db08-48bc-cc47-4749a9c31e1c"
      },
      "source": [
        "total = protect.isna().sum().sort_values(ascending=False)\n",
        "percent = ((protect.isna().sum()/protect.isna().count())*100).sort_values(ascending=False)\n",
        "missing_data = pd.concat([total, percent], axis=1, keys=['Total', 'Percent'])\n",
        "missing_data"
      ],
      "execution_count": 78,
      "outputs": [
        {
          "output_type": "execute_result",
          "data": {
            "text/html": [
              "<div>\n",
              "<style scoped>\n",
              "    .dataframe tbody tr th:only-of-type {\n",
              "        vertical-align: middle;\n",
              "    }\n",
              "\n",
              "    .dataframe tbody tr th {\n",
              "        vertical-align: top;\n",
              "    }\n",
              "\n",
              "    .dataframe thead th {\n",
              "        text-align: right;\n",
              "    }\n",
              "</style>\n",
              "<table border=\"1\" class=\"dataframe\">\n",
              "  <thead>\n",
              "    <tr style=\"text-align: right;\">\n",
              "      <th></th>\n",
              "      <th>Total</th>\n",
              "      <th>Percent</th>\n",
              "    </tr>\n",
              "  </thead>\n",
              "  <tbody>\n",
              "    <tr>\n",
              "      <th>obdiffliver</th>\n",
              "      <td>1857</td>\n",
              "      <td>99.892415</td>\n",
              "    </tr>\n",
              "    <tr>\n",
              "      <th>obdiffcard</th>\n",
              "      <td>1857</td>\n",
              "      <td>99.892415</td>\n",
              "    </tr>\n",
              "    <tr>\n",
              "      <th>obdiffhbp</th>\n",
              "      <td>1857</td>\n",
              "      <td>99.892415</td>\n",
              "    </tr>\n",
              "    <tr>\n",
              "      <th>obdiffkidney</th>\n",
              "      <td>1857</td>\n",
              "      <td>99.892415</td>\n",
              "    </tr>\n",
              "    <tr>\n",
              "      <th>vitdfreq</th>\n",
              "      <td>1849</td>\n",
              "      <td>99.462076</td>\n",
              "    </tr>\n",
              "    <tr>\n",
              "      <th>race97</th>\n",
              "      <td>1843</td>\n",
              "      <td>99.139322</td>\n",
              "    </tr>\n",
              "    <tr>\n",
              "      <th>calfreq</th>\n",
              "      <td>1832</td>\n",
              "      <td>98.547606</td>\n",
              "    </tr>\n",
              "    <tr>\n",
              "      <th>pppretlabw</th>\n",
              "      <td>1823</td>\n",
              "      <td>98.063475</td>\n",
              "    </tr>\n",
              "    <tr>\n",
              "      <th>ppinduct</th>\n",
              "      <td>1777</td>\n",
              "      <td>95.589026</td>\n",
              "    </tr>\n",
              "    <tr>\n",
              "      <th>pppreeclampsia</th>\n",
              "      <td>1753</td>\n",
              "      <td>94.298010</td>\n",
              "    </tr>\n",
              "    <tr>\n",
              "      <th>alcdays</th>\n",
              "      <td>1060</td>\n",
              "      <td>57.019903</td>\n",
              "    </tr>\n",
              "    <tr>\n",
              "      <th>pptypelabor</th>\n",
              "      <td>916</td>\n",
              "      <td>49.273803</td>\n",
              "    </tr>\n",
              "    <tr>\n",
              "      <th>preveclmp</th>\n",
              "      <td>850</td>\n",
              "      <td>45.723507</td>\n",
              "    </tr>\n",
              "    <tr>\n",
              "      <th>prevpreeclmp</th>\n",
              "      <td>849</td>\n",
              "      <td>45.669715</td>\n",
              "    </tr>\n",
              "    <tr>\n",
              "      <th>prembirthnum</th>\n",
              "      <td>433</td>\n",
              "      <td>23.292093</td>\n",
              "    </tr>\n",
              "    <tr>\n",
              "      <th>preghyp_durante</th>\n",
              "      <td>237</td>\n",
              "      <td>12.748790</td>\n",
              "    </tr>\n",
              "    <tr>\n",
              "      <th>pregdiab_durante</th>\n",
              "      <td>236</td>\n",
              "      <td>12.694997</td>\n",
              "    </tr>\n",
              "    <tr>\n",
              "      <th>prevdiab</th>\n",
              "      <td>235</td>\n",
              "      <td>12.641205</td>\n",
              "    </tr>\n",
              "    <tr>\n",
              "      <th>prevhyp</th>\n",
              "      <td>235</td>\n",
              "      <td>12.641205</td>\n",
              "    </tr>\n",
              "    <tr>\n",
              "      <th>preglup_durante</th>\n",
              "      <td>235</td>\n",
              "      <td>12.641205</td>\n",
              "    </tr>\n",
              "    <tr>\n",
              "      <th>prevlup</th>\n",
              "      <td>233</td>\n",
              "      <td>12.533620</td>\n",
              "    </tr>\n",
              "    <tr>\n",
              "      <th>tvcurrgd</th>\n",
              "      <td>155</td>\n",
              "      <td>8.337816</td>\n",
              "    </tr>\n",
              "    <tr>\n",
              "      <th>tvcurreclmp</th>\n",
              "      <td>153</td>\n",
              "      <td>8.230231</td>\n",
              "    </tr>\n",
              "    <tr>\n",
              "      <th>tvcurrpreeclmp</th>\n",
              "      <td>153</td>\n",
              "      <td>8.230231</td>\n",
              "    </tr>\n",
              "    <tr>\n",
              "      <th>hisp</th>\n",
              "      <td>128</td>\n",
              "      <td>6.885422</td>\n",
              "    </tr>\n",
              "    <tr>\n",
              "      <th>cal</th>\n",
              "      <td>98</td>\n",
              "      <td>5.271651</td>\n",
              "    </tr>\n",
              "    <tr>\n",
              "      <th>vitd</th>\n",
              "      <td>97</td>\n",
              "      <td>5.217859</td>\n",
              "    </tr>\n",
              "    <tr>\n",
              "      <th>fvcurrht_inch</th>\n",
              "      <td>70</td>\n",
              "      <td>3.765465</td>\n",
              "    </tr>\n",
              "    <tr>\n",
              "      <th>fvcurrht_foot</th>\n",
              "      <td>59</td>\n",
              "      <td>3.173749</td>\n",
              "    </tr>\n",
              "    <tr>\n",
              "      <th>currhd</th>\n",
              "      <td>27</td>\n",
              "      <td>1.452394</td>\n",
              "    </tr>\n",
              "    <tr>\n",
              "      <th>currpreeclmp</th>\n",
              "      <td>25</td>\n",
              "      <td>1.344809</td>\n",
              "    </tr>\n",
              "    <tr>\n",
              "      <th>currgd</th>\n",
              "      <td>24</td>\n",
              "      <td>1.291017</td>\n",
              "    </tr>\n",
              "    <tr>\n",
              "      <th>curreclmp</th>\n",
              "      <td>23</td>\n",
              "      <td>1.237224</td>\n",
              "    </tr>\n",
              "    <tr>\n",
              "      <th>wtprepreg</th>\n",
              "      <td>12</td>\n",
              "      <td>0.645508</td>\n",
              "    </tr>\n",
              "    <tr>\n",
              "      <th>druguse</th>\n",
              "      <td>10</td>\n",
              "      <td>0.537924</td>\n",
              "    </tr>\n",
              "    <tr>\n",
              "      <th>pregnum</th>\n",
              "      <td>6</td>\n",
              "      <td>0.322754</td>\n",
              "    </tr>\n",
              "    <tr>\n",
              "      <th>marijuse</th>\n",
              "      <td>4</td>\n",
              "      <td>0.215169</td>\n",
              "    </tr>\n",
              "    <tr>\n",
              "      <th>smkever</th>\n",
              "      <td>3</td>\n",
              "      <td>0.161377</td>\n",
              "    </tr>\n",
              "    <tr>\n",
              "      <th>ivf</th>\n",
              "      <td>1</td>\n",
              "      <td>0.053792</td>\n",
              "    </tr>\n",
              "    <tr>\n",
              "      <th>RACE__999</th>\n",
              "      <td>0</td>\n",
              "      <td>0.000000</td>\n",
              "    </tr>\n",
              "    <tr>\n",
              "      <th>RACE__888</th>\n",
              "      <td>0</td>\n",
              "      <td>0.000000</td>\n",
              "    </tr>\n",
              "    <tr>\n",
              "      <th>RACE__97</th>\n",
              "      <td>0</td>\n",
              "      <td>0.000000</td>\n",
              "    </tr>\n",
              "    <tr>\n",
              "      <th>RACE__6</th>\n",
              "      <td>0</td>\n",
              "      <td>0.000000</td>\n",
              "    </tr>\n",
              "    <tr>\n",
              "      <th>RACE__5</th>\n",
              "      <td>0</td>\n",
              "      <td>0.000000</td>\n",
              "    </tr>\n",
              "    <tr>\n",
              "      <th>RACE__4</th>\n",
              "      <td>0</td>\n",
              "      <td>0.000000</td>\n",
              "    </tr>\n",
              "    <tr>\n",
              "      <th>RACE__3</th>\n",
              "      <td>0</td>\n",
              "      <td>0.000000</td>\n",
              "    </tr>\n",
              "    <tr>\n",
              "      <th>RACE__2</th>\n",
              "      <td>0</td>\n",
              "      <td>0.000000</td>\n",
              "    </tr>\n",
              "    <tr>\n",
              "      <th>RACE__1</th>\n",
              "      <td>0</td>\n",
              "      <td>0.000000</td>\n",
              "    </tr>\n",
              "    <tr>\n",
              "      <th>MULTIFETUS</th>\n",
              "      <td>0</td>\n",
              "      <td>0.000000</td>\n",
              "    </tr>\n",
              "    <tr>\n",
              "      <th>SYS_LOC_CODE</th>\n",
              "      <td>0</td>\n",
              "      <td>0.000000</td>\n",
              "    </tr>\n",
              "  </tbody>\n",
              "</table>\n",
              "</div>"
            ],
            "text/plain": [
              "                  Total    Percent\n",
              "obdiffliver        1857  99.892415\n",
              "obdiffcard         1857  99.892415\n",
              "obdiffhbp          1857  99.892415\n",
              "obdiffkidney       1857  99.892415\n",
              "vitdfreq           1849  99.462076\n",
              "race97             1843  99.139322\n",
              "calfreq            1832  98.547606\n",
              "pppretlabw         1823  98.063475\n",
              "ppinduct           1777  95.589026\n",
              "pppreeclampsia     1753  94.298010\n",
              "alcdays            1060  57.019903\n",
              "pptypelabor         916  49.273803\n",
              "preveclmp           850  45.723507\n",
              "prevpreeclmp        849  45.669715\n",
              "prembirthnum        433  23.292093\n",
              "preghyp_durante     237  12.748790\n",
              "pregdiab_durante    236  12.694997\n",
              "prevdiab            235  12.641205\n",
              "prevhyp             235  12.641205\n",
              "preglup_durante     235  12.641205\n",
              "prevlup             233  12.533620\n",
              "tvcurrgd            155   8.337816\n",
              "tvcurreclmp         153   8.230231\n",
              "tvcurrpreeclmp      153   8.230231\n",
              "hisp                128   6.885422\n",
              "cal                  98   5.271651\n",
              "vitd                 97   5.217859\n",
              "fvcurrht_inch        70   3.765465\n",
              "fvcurrht_foot        59   3.173749\n",
              "currhd               27   1.452394\n",
              "currpreeclmp         25   1.344809\n",
              "currgd               24   1.291017\n",
              "curreclmp            23   1.237224\n",
              "wtprepreg            12   0.645508\n",
              "druguse              10   0.537924\n",
              "pregnum               6   0.322754\n",
              "marijuse              4   0.215169\n",
              "smkever               3   0.161377\n",
              "ivf                   1   0.053792\n",
              "RACE__999             0   0.000000\n",
              "RACE__888             0   0.000000\n",
              "RACE__97              0   0.000000\n",
              "RACE__6               0   0.000000\n",
              "RACE__5               0   0.000000\n",
              "RACE__4               0   0.000000\n",
              "RACE__3               0   0.000000\n",
              "RACE__2               0   0.000000\n",
              "RACE__1               0   0.000000\n",
              "MULTIFETUS            0   0.000000\n",
              "SYS_LOC_CODE          0   0.000000"
            ]
          },
          "metadata": {},
          "execution_count": 78
        }
      ]
    },
    {
      "cell_type": "markdown",
      "metadata": {
        "id": "yxyF8h4ts3yf"
      },
      "source": [
        "Class distributions of the target variables"
      ]
    },
    {
      "cell_type": "code",
      "metadata": {
        "colab": {
          "base_uri": "https://localhost:8080/",
          "height": 351
        },
        "id": "Zy5o6UHoKUBh",
        "outputId": "7f968bc4-7ca1-43c7-bf05-653535b5ef27"
      },
      "source": [
        "# Class distributions for the first prenatal visit\n",
        "protect['currpreeclmp'].replace(888,np.NaN, inplace = True)\n",
        "pd.value_counts(protect['currpreeclmp']).plot.bar()\n",
        "plt.title(\"Class distribution during first prenatal visit\")\n",
        "plt.xlabel(\"Class - '0: No Current preeclampsia, 1: Diagnosed with preeclampsia\")\n",
        "plt.ylabel(\"Number of data points\")\n",
        "protect['currpreeclmp'].value_counts()\n"
      ],
      "execution_count": 79,
      "outputs": [
        {
          "output_type": "execute_result",
          "data": {
            "text/plain": [
              "0.0    1830\n",
              "1.0       1\n",
              "Name: currpreeclmp, dtype: int64"
            ]
          },
          "metadata": {},
          "execution_count": 79
        },
        {
          "output_type": "display_data",
          "data": {
            "image/png": "[encoded data removed]",
            "text/plain": [
              "<Figure size 432x288 with 1 Axes>"
            ]
          },
          "metadata": {
            "needs_background": "light"
          }
        }
      ]
    },
    {
      "cell_type": "code",
      "metadata": {
        "colab": {
          "base_uri": "https://localhost:8080/",
          "height": 351
        },
        "id": "IJIrtszzKyzq",
        "outputId": "6a0ef8a8-145c-4c78-f95e-604f739457b1"
      },
      "source": [
        "# Class distribtuions for the third prenatal visit\n",
        "protect['tvcurrpreeclmp'].replace(888,np.NaN, inplace = True)\n",
        "protect['tvcurrpreeclmp'].replace(999,np.NaN, inplace = True)\n",
        "pd.value_counts(protect['tvcurrpreeclmp']).plot.bar()\n",
        "plt.title(\"Class distribution during third prenatal visit\")\n",
        "plt.xlabel(\"Class - '0: No Current preeclampsia, 1: Diagnosed with preeclampsia\")\n",
        "plt.ylabel(\"Number of data points\")\n",
        "protect['tvcurrpreeclmp'].value_counts()"
      ],
      "execution_count": 80,
      "outputs": [
        {
          "output_type": "execute_result",
          "data": {
            "text/plain": [
              "0.0    1701\n",
              "1.0       2\n",
              "Name: tvcurrpreeclmp, dtype: int64"
            ]
          },
          "metadata": {},
          "execution_count": 80
        },
        {
          "output_type": "display_data",
          "data": {
            "image/png": "[encoded data removed]",
            "text/plain": [
              "<Figure size 432x288 with 1 Axes>"
            ]
          },
          "metadata": {
            "needs_background": "light"
          }
        }
      ]
    },
    {
      "cell_type": "code",
      "metadata": {
        "colab": {
          "base_uri": "https://localhost:8080/",
          "height": 351
        },
        "id": "ePUsglykK0Lh",
        "outputId": "26a71d46-da06-4e79-ef55-1841e44bcf41"
      },
      "source": [
        "# Class distribution postpartum\n",
        "protect['pppreeclampsia'].replace(9999,np.NaN, inplace = True)\n",
        "pd.value_counts(protect['pppreeclampsia']).plot.bar()\n",
        "plt.title(\"Class distribution postpartum\")\n",
        "plt.xlabel(\"Class - '0: No Current preeclampsia, 1: Diagnosed with preeclampsia\")\n",
        "plt.ylabel(\"Number of data points\")\n",
        "protect['pppreeclampsia'].value_counts()"
      ],
      "execution_count": 81,
      "outputs": [
        {
          "output_type": "execute_result",
          "data": {
            "text/plain": [
              "0.0    73\n",
              "1.0    32\n",
              "Name: pppreeclampsia, dtype: int64"
            ]
          },
          "metadata": {},
          "execution_count": 81
        },
        {
          "output_type": "display_data",
          "data": {
            "image/png": "[encoded data removed]",
            "text/plain": [
              "<Figure size 432x288 with 1 Axes>"
            ]
          },
          "metadata": {
            "needs_background": "light"
          }
        }
      ]
    },
    {
      "cell_type": "markdown",
      "metadata": {
        "id": "4gEvXDKZtX-X"
      },
      "source": [
        "Since the distribution across the three target variables are highly imbalanced and since only one maong the 3 variables have >5 minority class data points, we combine all 3 target variables to make a new variable called total_preeclampsia to get as many points for the minority class as possible."
      ]
    },
    {
      "cell_type": "code",
      "metadata": {
        "id": "34cX8A-yB7VL"
      },
      "source": [
        "#create new column for pre-eclampsia combining all pre-eclampsia data. Drop the rows that are null in the new column\n",
        "#if currpreeclmp or tvcurrpreeclmp or pppreeclampsia == 1 then total_preeclampsia = 1 else if they are 0 then zero, if all are null, then null.\n",
        "pd.to_numeric(protect['currpreeclmp'])\n",
        "pd.to_numeric(protect['tvcurrpreeclmp'])\n",
        "pd.to_numeric(protect['pppreeclampsia'])\n",
        "\n",
        "#fill Nan values with 9999 for ease of imputation\n",
        "protect.fillna(value = 9999, inplace= True)\n",
        "\n"
      ],
      "execution_count": 82,
      "outputs": []
    },
    {
      "cell_type": "code",
      "metadata": {
        "colab": {
          "base_uri": "https://localhost:8080/",
          "height": 437
        },
        "id": "ao6Y7P6pDjRw",
        "outputId": "e7aaaf2e-c3ba-48b0-ad20-c5a425a5eddf"
      },
      "source": [
        "conditions = [((protect['currpreeclmp'].astype(int, errors = 'ignore') == 1) | (protect['tvcurrpreeclmp'].astype(int, errors = 'ignore') == 1) | (protect['pppreeclampsia'].astype(int, errors = 'ignore') == 1)),\n",
        "              ((protect['currpreeclmp'].astype(int, errors = 'ignore') == 0) | (protect['tvcurrpreeclmp'].astype(int, errors = 'ignore') == 0) | (protect['pppreeclampsia'].astype(int, errors = 'ignore') == 0)),\n",
        "              ((protect['currpreeclmp']== 9999) | (protect['tvcurrpreeclmp'] == 9999) | (protect['pppreeclampsia'] == 9999))]\n",
        "values = [1,0,9999]\n",
        "protect[\"total_preeclampsia\"] = np.select(conditions, values)\n",
        "display(protect)\n"
      ],
      "execution_count": 83,
      "outputs": [
        {
          "output_type": "display_data",
          "data": {
            "text/html": [
              "<div>\n",
              "<style scoped>\n",
              "    .dataframe tbody tr th:only-of-type {\n",
              "        vertical-align: middle;\n",
              "    }\n",
              "\n",
              "    .dataframe tbody tr th {\n",
              "        vertical-align: top;\n",
              "    }\n",
              "\n",
              "    .dataframe thead th {\n",
              "        text-align: right;\n",
              "    }\n",
              "</style>\n",
              "<table border=\"1\" class=\"dataframe\">\n",
              "  <thead>\n",
              "    <tr style=\"text-align: right;\">\n",
              "      <th></th>\n",
              "      <th>SYS_LOC_CODE</th>\n",
              "      <th>obdiffcard</th>\n",
              "      <th>obdiffhbp</th>\n",
              "      <th>obdiffkidney</th>\n",
              "      <th>obdiffliver</th>\n",
              "      <th>RACE__1</th>\n",
              "      <th>RACE__2</th>\n",
              "      <th>RACE__3</th>\n",
              "      <th>RACE__4</th>\n",
              "      <th>RACE__5</th>\n",
              "      <th>RACE__6</th>\n",
              "      <th>RACE__97</th>\n",
              "      <th>RACE__888</th>\n",
              "      <th>RACE__999</th>\n",
              "      <th>race97</th>\n",
              "      <th>hisp</th>\n",
              "      <th>smkever</th>\n",
              "      <th>alcdays</th>\n",
              "      <th>marijuse</th>\n",
              "      <th>druguse</th>\n",
              "      <th>fvcurrht_foot</th>\n",
              "      <th>fvcurrht_inch</th>\n",
              "      <th>wtprepreg</th>\n",
              "      <th>prembirthnum</th>\n",
              "      <th>pregnum</th>\n",
              "      <th>prevpreeclmp</th>\n",
              "      <th>preveclmp</th>\n",
              "      <th>currpreeclmp</th>\n",
              "      <th>curreclmp</th>\n",
              "      <th>currhd</th>\n",
              "      <th>currgd</th>\n",
              "      <th>prevhyp</th>\n",
              "      <th>preghyp_durante</th>\n",
              "      <th>prevdiab</th>\n",
              "      <th>pregdiab_durante</th>\n",
              "      <th>preglup_durante</th>\n",
              "      <th>prevlup</th>\n",
              "      <th>tvcurrpreeclmp</th>\n",
              "      <th>tvcurreclmp</th>\n",
              "      <th>tvcurrgd</th>\n",
              "      <th>ivf</th>\n",
              "      <th>MULTIFETUS</th>\n",
              "      <th>pptypelabor</th>\n",
              "      <th>ppinduct</th>\n",
              "      <th>pppretlabw</th>\n",
              "      <th>pppreeclampsia</th>\n",
              "      <th>vitd</th>\n",
              "      <th>vitdfreq</th>\n",
              "      <th>cal</th>\n",
              "      <th>calfreq</th>\n",
              "      <th>total_preeclampsia</th>\n",
              "    </tr>\n",
              "  </thead>\n",
              "  <tbody>\n",
              "    <tr>\n",
              "      <th>0</th>\n",
              "      <td>1001</td>\n",
              "      <td>9999.0</td>\n",
              "      <td>9999.0</td>\n",
              "      <td>9999.0</td>\n",
              "      <td>9999.0</td>\n",
              "      <td>1</td>\n",
              "      <td>0</td>\n",
              "      <td>0</td>\n",
              "      <td>0</td>\n",
              "      <td>0</td>\n",
              "      <td>0</td>\n",
              "      <td>0</td>\n",
              "      <td>0</td>\n",
              "      <td>0</td>\n",
              "      <td>9999</td>\n",
              "      <td>1.0</td>\n",
              "      <td>0.0</td>\n",
              "      <td>1.0</td>\n",
              "      <td>0.0</td>\n",
              "      <td>0.0</td>\n",
              "      <td>5.0</td>\n",
              "      <td>1.0</td>\n",
              "      <td>85.0</td>\n",
              "      <td>0.0</td>\n",
              "      <td>1.0</td>\n",
              "      <td>9999.0</td>\n",
              "      <td>9999.0</td>\n",
              "      <td>0.0</td>\n",
              "      <td>0.0</td>\n",
              "      <td>0.0</td>\n",
              "      <td>0.0</td>\n",
              "      <td>0.0</td>\n",
              "      <td>0.0</td>\n",
              "      <td>0.0</td>\n",
              "      <td>0.0</td>\n",
              "      <td>0.0</td>\n",
              "      <td>0.0</td>\n",
              "      <td>0.0</td>\n",
              "      <td>0.0</td>\n",
              "      <td>0.0</td>\n",
              "      <td>0.0</td>\n",
              "      <td>0</td>\n",
              "      <td>1.0</td>\n",
              "      <td>9999.0</td>\n",
              "      <td>9999.0</td>\n",
              "      <td>9999.0</td>\n",
              "      <td>0.0</td>\n",
              "      <td>9999.0</td>\n",
              "      <td>0.0</td>\n",
              "      <td>9999.0</td>\n",
              "      <td>0</td>\n",
              "    </tr>\n",
              "    <tr>\n",
              "      <th>1</th>\n",
              "      <td>1006</td>\n",
              "      <td>9999.0</td>\n",
              "      <td>9999.0</td>\n",
              "      <td>9999.0</td>\n",
              "      <td>9999.0</td>\n",
              "      <td>1</td>\n",
              "      <td>1</td>\n",
              "      <td>0</td>\n",
              "      <td>0</td>\n",
              "      <td>0</td>\n",
              "      <td>0</td>\n",
              "      <td>1</td>\n",
              "      <td>0</td>\n",
              "      <td>0</td>\n",
              "      <td>India</td>\n",
              "      <td>1.0</td>\n",
              "      <td>0.0</td>\n",
              "      <td>9999.0</td>\n",
              "      <td>0.0</td>\n",
              "      <td>0.0</td>\n",
              "      <td>5.0</td>\n",
              "      <td>5.0</td>\n",
              "      <td>155.0</td>\n",
              "      <td>0.0</td>\n",
              "      <td>1.0</td>\n",
              "      <td>9999.0</td>\n",
              "      <td>9999.0</td>\n",
              "      <td>0.0</td>\n",
              "      <td>0.0</td>\n",
              "      <td>0.0</td>\n",
              "      <td>0.0</td>\n",
              "      <td>0.0</td>\n",
              "      <td>0.0</td>\n",
              "      <td>0.0</td>\n",
              "      <td>0.0</td>\n",
              "      <td>0.0</td>\n",
              "      <td>0.0</td>\n",
              "      <td>0.0</td>\n",
              "      <td>0.0</td>\n",
              "      <td>0.0</td>\n",
              "      <td>0.0</td>\n",
              "      <td>0</td>\n",
              "      <td>1.0</td>\n",
              "      <td>9999.0</td>\n",
              "      <td>9999.0</td>\n",
              "      <td>9999.0</td>\n",
              "      <td>0.0</td>\n",
              "      <td>9999.0</td>\n",
              "      <td>0.0</td>\n",
              "      <td>9999.0</td>\n",
              "      <td>0</td>\n",
              "    </tr>\n",
              "    <tr>\n",
              "      <th>2</th>\n",
              "      <td>1009</td>\n",
              "      <td>9999.0</td>\n",
              "      <td>9999.0</td>\n",
              "      <td>9999.0</td>\n",
              "      <td>9999.0</td>\n",
              "      <td>0</td>\n",
              "      <td>0</td>\n",
              "      <td>1</td>\n",
              "      <td>0</td>\n",
              "      <td>0</td>\n",
              "      <td>0</td>\n",
              "      <td>0</td>\n",
              "      <td>0</td>\n",
              "      <td>0</td>\n",
              "      <td>9999</td>\n",
              "      <td>1.0</td>\n",
              "      <td>1.0</td>\n",
              "      <td>1.0</td>\n",
              "      <td>0.0</td>\n",
              "      <td>0.0</td>\n",
              "      <td>5.0</td>\n",
              "      <td>3.0</td>\n",
              "      <td>200.0</td>\n",
              "      <td>1.0</td>\n",
              "      <td>2.0</td>\n",
              "      <td>1.0</td>\n",
              "      <td>1.0</td>\n",
              "      <td>0.0</td>\n",
              "      <td>0.0</td>\n",
              "      <td>0.0</td>\n",
              "      <td>0.0</td>\n",
              "      <td>9999.0</td>\n",
              "      <td>9999.0</td>\n",
              "      <td>9999.0</td>\n",
              "      <td>9999.0</td>\n",
              "      <td>9999.0</td>\n",
              "      <td>9999.0</td>\n",
              "      <td>9999.0</td>\n",
              "      <td>9999.0</td>\n",
              "      <td>9999.0</td>\n",
              "      <td>0.0</td>\n",
              "      <td>0</td>\n",
              "      <td>1.0</td>\n",
              "      <td>9999.0</td>\n",
              "      <td>9999.0</td>\n",
              "      <td>9999.0</td>\n",
              "      <td>9999.0</td>\n",
              "      <td>9999.0</td>\n",
              "      <td>9999.0</td>\n",
              "      <td>9999.0</td>\n",
              "      <td>0</td>\n",
              "    </tr>\n",
              "    <tr>\n",
              "      <th>3</th>\n",
              "      <td>1012</td>\n",
              "      <td>9999.0</td>\n",
              "      <td>9999.0</td>\n",
              "      <td>9999.0</td>\n",
              "      <td>9999.0</td>\n",
              "      <td>1</td>\n",
              "      <td>0</td>\n",
              "      <td>0</td>\n",
              "      <td>0</td>\n",
              "      <td>0</td>\n",
              "      <td>0</td>\n",
              "      <td>0</td>\n",
              "      <td>0</td>\n",
              "      <td>0</td>\n",
              "      <td>9999</td>\n",
              "      <td>1.0</td>\n",
              "      <td>1.0</td>\n",
              "      <td>1.0</td>\n",
              "      <td>0.0</td>\n",
              "      <td>0.0</td>\n",
              "      <td>5.0</td>\n",
              "      <td>2.0</td>\n",
              "      <td>152.0</td>\n",
              "      <td>1.0</td>\n",
              "      <td>2.0</td>\n",
              "      <td>0.0</td>\n",
              "      <td>0.0</td>\n",
              "      <td>0.0</td>\n",
              "      <td>0.0</td>\n",
              "      <td>0.0</td>\n",
              "      <td>0.0</td>\n",
              "      <td>0.0</td>\n",
              "      <td>0.0</td>\n",
              "      <td>0.0</td>\n",
              "      <td>0.0</td>\n",
              "      <td>0.0</td>\n",
              "      <td>0.0</td>\n",
              "      <td>0.0</td>\n",
              "      <td>0.0</td>\n",
              "      <td>0.0</td>\n",
              "      <td>0.0</td>\n",
              "      <td>0</td>\n",
              "      <td>1.0</td>\n",
              "      <td>9999.0</td>\n",
              "      <td>9999.0</td>\n",
              "      <td>0.0</td>\n",
              "      <td>0.0</td>\n",
              "      <td>9999.0</td>\n",
              "      <td>0.0</td>\n",
              "      <td>9999.0</td>\n",
              "      <td>0</td>\n",
              "    </tr>\n",
              "    <tr>\n",
              "      <th>4</th>\n",
              "      <td>1013</td>\n",
              "      <td>9999.0</td>\n",
              "      <td>9999.0</td>\n",
              "      <td>9999.0</td>\n",
              "      <td>9999.0</td>\n",
              "      <td>1</td>\n",
              "      <td>0</td>\n",
              "      <td>0</td>\n",
              "      <td>0</td>\n",
              "      <td>0</td>\n",
              "      <td>0</td>\n",
              "      <td>0</td>\n",
              "      <td>0</td>\n",
              "      <td>0</td>\n",
              "      <td>9999</td>\n",
              "      <td>1.0</td>\n",
              "      <td>0.0</td>\n",
              "      <td>1.0</td>\n",
              "      <td>0.0</td>\n",
              "      <td>0.0</td>\n",
              "      <td>5.0</td>\n",
              "      <td>5.0</td>\n",
              "      <td>130.0</td>\n",
              "      <td>0.0</td>\n",
              "      <td>2.0</td>\n",
              "      <td>0.0</td>\n",
              "      <td>0.0</td>\n",
              "      <td>0.0</td>\n",
              "      <td>0.0</td>\n",
              "      <td>0.0</td>\n",
              "      <td>0.0</td>\n",
              "      <td>0.0</td>\n",
              "      <td>0.0</td>\n",
              "      <td>0.0</td>\n",
              "      <td>0.0</td>\n",
              "      <td>0.0</td>\n",
              "      <td>0.0</td>\n",
              "      <td>0.0</td>\n",
              "      <td>0.0</td>\n",
              "      <td>0.0</td>\n",
              "      <td>0.0</td>\n",
              "      <td>0</td>\n",
              "      <td>1.0</td>\n",
              "      <td>9999.0</td>\n",
              "      <td>9999.0</td>\n",
              "      <td>9999.0</td>\n",
              "      <td>0.0</td>\n",
              "      <td>9999.0</td>\n",
              "      <td>0.0</td>\n",
              "      <td>9999.0</td>\n",
              "      <td>0</td>\n",
              "    </tr>\n",
              "    <tr>\n",
              "      <th>...</th>\n",
              "      <td>...</td>\n",
              "      <td>...</td>\n",
              "      <td>...</td>\n",
              "      <td>...</td>\n",
              "      <td>...</td>\n",
              "      <td>...</td>\n",
              "      <td>...</td>\n",
              "      <td>...</td>\n",
              "      <td>...</td>\n",
              "      <td>...</td>\n",
              "      <td>...</td>\n",
              "      <td>...</td>\n",
              "      <td>...</td>\n",
              "      <td>...</td>\n",
              "      <td>...</td>\n",
              "      <td>...</td>\n",
              "      <td>...</td>\n",
              "      <td>...</td>\n",
              "      <td>...</td>\n",
              "      <td>...</td>\n",
              "      <td>...</td>\n",
              "      <td>...</td>\n",
              "      <td>...</td>\n",
              "      <td>...</td>\n",
              "      <td>...</td>\n",
              "      <td>...</td>\n",
              "      <td>...</td>\n",
              "      <td>...</td>\n",
              "      <td>...</td>\n",
              "      <td>...</td>\n",
              "      <td>...</td>\n",
              "      <td>...</td>\n",
              "      <td>...</td>\n",
              "      <td>...</td>\n",
              "      <td>...</td>\n",
              "      <td>...</td>\n",
              "      <td>...</td>\n",
              "      <td>...</td>\n",
              "      <td>...</td>\n",
              "      <td>...</td>\n",
              "      <td>...</td>\n",
              "      <td>...</td>\n",
              "      <td>...</td>\n",
              "      <td>...</td>\n",
              "      <td>...</td>\n",
              "      <td>...</td>\n",
              "      <td>...</td>\n",
              "      <td>...</td>\n",
              "      <td>...</td>\n",
              "      <td>...</td>\n",
              "      <td>...</td>\n",
              "    </tr>\n",
              "    <tr>\n",
              "      <th>1854</th>\n",
              "      <td>8308</td>\n",
              "      <td>9999.0</td>\n",
              "      <td>9999.0</td>\n",
              "      <td>9999.0</td>\n",
              "      <td>9999.0</td>\n",
              "      <td>0</td>\n",
              "      <td>0</td>\n",
              "      <td>0</td>\n",
              "      <td>0</td>\n",
              "      <td>0</td>\n",
              "      <td>0</td>\n",
              "      <td>0</td>\n",
              "      <td>0</td>\n",
              "      <td>0</td>\n",
              "      <td>9999</td>\n",
              "      <td>9999.0</td>\n",
              "      <td>0.0</td>\n",
              "      <td>9999.0</td>\n",
              "      <td>0.0</td>\n",
              "      <td>0.0</td>\n",
              "      <td>5.0</td>\n",
              "      <td>4.0</td>\n",
              "      <td>140.0</td>\n",
              "      <td>0.0</td>\n",
              "      <td>2.0</td>\n",
              "      <td>0.0</td>\n",
              "      <td>0.0</td>\n",
              "      <td>0.0</td>\n",
              "      <td>0.0</td>\n",
              "      <td>0.0</td>\n",
              "      <td>0.0</td>\n",
              "      <td>9999.0</td>\n",
              "      <td>9999.0</td>\n",
              "      <td>9999.0</td>\n",
              "      <td>9999.0</td>\n",
              "      <td>9999.0</td>\n",
              "      <td>9999.0</td>\n",
              "      <td>0.0</td>\n",
              "      <td>0.0</td>\n",
              "      <td>0.0</td>\n",
              "      <td>0.0</td>\n",
              "      <td>0</td>\n",
              "      <td>9999.0</td>\n",
              "      <td>9999.0</td>\n",
              "      <td>9999.0</td>\n",
              "      <td>9999.0</td>\n",
              "      <td>0.0</td>\n",
              "      <td>9999.0</td>\n",
              "      <td>0.0</td>\n",
              "      <td>9999.0</td>\n",
              "      <td>0</td>\n",
              "    </tr>\n",
              "    <tr>\n",
              "      <th>1855</th>\n",
              "      <td>8309</td>\n",
              "      <td>9999.0</td>\n",
              "      <td>9999.0</td>\n",
              "      <td>9999.0</td>\n",
              "      <td>9999.0</td>\n",
              "      <td>0</td>\n",
              "      <td>0</td>\n",
              "      <td>0</td>\n",
              "      <td>0</td>\n",
              "      <td>0</td>\n",
              "      <td>0</td>\n",
              "      <td>0</td>\n",
              "      <td>0</td>\n",
              "      <td>0</td>\n",
              "      <td>9999</td>\n",
              "      <td>9999.0</td>\n",
              "      <td>0.0</td>\n",
              "      <td>9999.0</td>\n",
              "      <td>0.0</td>\n",
              "      <td>9999.0</td>\n",
              "      <td>5.0</td>\n",
              "      <td>1.0</td>\n",
              "      <td>150.0</td>\n",
              "      <td>0.0</td>\n",
              "      <td>2.0</td>\n",
              "      <td>1.0</td>\n",
              "      <td>0.0</td>\n",
              "      <td>0.0</td>\n",
              "      <td>0.0</td>\n",
              "      <td>0.0</td>\n",
              "      <td>0.0</td>\n",
              "      <td>9999.0</td>\n",
              "      <td>9999.0</td>\n",
              "      <td>9999.0</td>\n",
              "      <td>9999.0</td>\n",
              "      <td>9999.0</td>\n",
              "      <td>9999.0</td>\n",
              "      <td>0.0</td>\n",
              "      <td>0.0</td>\n",
              "      <td>0.0</td>\n",
              "      <td>0.0</td>\n",
              "      <td>0</td>\n",
              "      <td>9999.0</td>\n",
              "      <td>9999.0</td>\n",
              "      <td>9999.0</td>\n",
              "      <td>9999.0</td>\n",
              "      <td>0.0</td>\n",
              "      <td>9999.0</td>\n",
              "      <td>0.0</td>\n",
              "      <td>9999.0</td>\n",
              "      <td>0</td>\n",
              "    </tr>\n",
              "    <tr>\n",
              "      <th>1856</th>\n",
              "      <td>8310</td>\n",
              "      <td>9999.0</td>\n",
              "      <td>9999.0</td>\n",
              "      <td>9999.0</td>\n",
              "      <td>9999.0</td>\n",
              "      <td>0</td>\n",
              "      <td>0</td>\n",
              "      <td>0</td>\n",
              "      <td>0</td>\n",
              "      <td>0</td>\n",
              "      <td>0</td>\n",
              "      <td>0</td>\n",
              "      <td>0</td>\n",
              "      <td>0</td>\n",
              "      <td>9999</td>\n",
              "      <td>9999.0</td>\n",
              "      <td>1.0</td>\n",
              "      <td>2.0</td>\n",
              "      <td>0.0</td>\n",
              "      <td>0.0</td>\n",
              "      <td>5.0</td>\n",
              "      <td>2.0</td>\n",
              "      <td>118.0</td>\n",
              "      <td>0.0</td>\n",
              "      <td>3.0</td>\n",
              "      <td>0.0</td>\n",
              "      <td>0.0</td>\n",
              "      <td>0.0</td>\n",
              "      <td>0.0</td>\n",
              "      <td>0.0</td>\n",
              "      <td>0.0</td>\n",
              "      <td>9999.0</td>\n",
              "      <td>9999.0</td>\n",
              "      <td>9999.0</td>\n",
              "      <td>9999.0</td>\n",
              "      <td>9999.0</td>\n",
              "      <td>9999.0</td>\n",
              "      <td>0.0</td>\n",
              "      <td>0.0</td>\n",
              "      <td>0.0</td>\n",
              "      <td>0.0</td>\n",
              "      <td>0</td>\n",
              "      <td>9999.0</td>\n",
              "      <td>9999.0</td>\n",
              "      <td>9999.0</td>\n",
              "      <td>9999.0</td>\n",
              "      <td>0.0</td>\n",
              "      <td>9999.0</td>\n",
              "      <td>0.0</td>\n",
              "      <td>9999.0</td>\n",
              "      <td>0</td>\n",
              "    </tr>\n",
              "    <tr>\n",
              "      <th>1857</th>\n",
              "      <td>8311</td>\n",
              "      <td>9999.0</td>\n",
              "      <td>9999.0</td>\n",
              "      <td>9999.0</td>\n",
              "      <td>9999.0</td>\n",
              "      <td>0</td>\n",
              "      <td>0</td>\n",
              "      <td>0</td>\n",
              "      <td>0</td>\n",
              "      <td>0</td>\n",
              "      <td>0</td>\n",
              "      <td>0</td>\n",
              "      <td>0</td>\n",
              "      <td>0</td>\n",
              "      <td>9999</td>\n",
              "      <td>9999.0</td>\n",
              "      <td>0.0</td>\n",
              "      <td>2.0</td>\n",
              "      <td>0.0</td>\n",
              "      <td>0.0</td>\n",
              "      <td>5.0</td>\n",
              "      <td>6.0</td>\n",
              "      <td>162.0</td>\n",
              "      <td>9999.0</td>\n",
              "      <td>1.0</td>\n",
              "      <td>9999.0</td>\n",
              "      <td>9999.0</td>\n",
              "      <td>0.0</td>\n",
              "      <td>0.0</td>\n",
              "      <td>0.0</td>\n",
              "      <td>0.0</td>\n",
              "      <td>9999.0</td>\n",
              "      <td>9999.0</td>\n",
              "      <td>9999.0</td>\n",
              "      <td>9999.0</td>\n",
              "      <td>9999.0</td>\n",
              "      <td>9999.0</td>\n",
              "      <td>0.0</td>\n",
              "      <td>0.0</td>\n",
              "      <td>0.0</td>\n",
              "      <td>0.0</td>\n",
              "      <td>0</td>\n",
              "      <td>9999.0</td>\n",
              "      <td>9999.0</td>\n",
              "      <td>9999.0</td>\n",
              "      <td>9999.0</td>\n",
              "      <td>0.0</td>\n",
              "      <td>9999.0</td>\n",
              "      <td>1.0</td>\n",
              "      <td>3.0</td>\n",
              "      <td>0</td>\n",
              "    </tr>\n",
              "    <tr>\n",
              "      <th>1858</th>\n",
              "      <td>8312</td>\n",
              "      <td>9999.0</td>\n",
              "      <td>9999.0</td>\n",
              "      <td>9999.0</td>\n",
              "      <td>9999.0</td>\n",
              "      <td>0</td>\n",
              "      <td>0</td>\n",
              "      <td>0</td>\n",
              "      <td>0</td>\n",
              "      <td>0</td>\n",
              "      <td>0</td>\n",
              "      <td>0</td>\n",
              "      <td>0</td>\n",
              "      <td>0</td>\n",
              "      <td>9999</td>\n",
              "      <td>9999.0</td>\n",
              "      <td>0.0</td>\n",
              "      <td>1.0</td>\n",
              "      <td>0.0</td>\n",
              "      <td>0.0</td>\n",
              "      <td>9999.0</td>\n",
              "      <td>9999.0</td>\n",
              "      <td>217.0</td>\n",
              "      <td>0.0</td>\n",
              "      <td>2.0</td>\n",
              "      <td>0.0</td>\n",
              "      <td>0.0</td>\n",
              "      <td>0.0</td>\n",
              "      <td>0.0</td>\n",
              "      <td>0.0</td>\n",
              "      <td>0.0</td>\n",
              "      <td>9999.0</td>\n",
              "      <td>9999.0</td>\n",
              "      <td>9999.0</td>\n",
              "      <td>9999.0</td>\n",
              "      <td>9999.0</td>\n",
              "      <td>9999.0</td>\n",
              "      <td>0.0</td>\n",
              "      <td>0.0</td>\n",
              "      <td>0.0</td>\n",
              "      <td>0.0</td>\n",
              "      <td>0</td>\n",
              "      <td>9999.0</td>\n",
              "      <td>9999.0</td>\n",
              "      <td>9999.0</td>\n",
              "      <td>9999.0</td>\n",
              "      <td>0.0</td>\n",
              "      <td>9999.0</td>\n",
              "      <td>0.0</td>\n",
              "      <td>9999.0</td>\n",
              "      <td>0</td>\n",
              "    </tr>\n",
              "  </tbody>\n",
              "</table>\n",
              "<p>1859 rows × 51 columns</p>\n",
              "</div>"
            ],
            "text/plain": [
              "      SYS_LOC_CODE  obdiffcard  obdiffhbp  ...     cal  calfreq  total_preeclampsia\n",
              "0             1001      9999.0     9999.0  ...     0.0   9999.0                   0\n",
              "1             1006      9999.0     9999.0  ...     0.0   9999.0                   0\n",
              "2             1009      9999.0     9999.0  ...  9999.0   9999.0                   0\n",
              "3             1012      9999.0     9999.0  ...     0.0   9999.0                   0\n",
              "4             1013      9999.0     9999.0  ...     0.0   9999.0                   0\n",
              "...            ...         ...        ...  ...     ...      ...                 ...\n",
              "1854          8308      9999.0     9999.0  ...     0.0   9999.0                   0\n",
              "1855          8309      9999.0     9999.0  ...     0.0   9999.0                   0\n",
              "1856          8310      9999.0     9999.0  ...     0.0   9999.0                   0\n",
              "1857          8311      9999.0     9999.0  ...     1.0      3.0                   0\n",
              "1858          8312      9999.0     9999.0  ...     0.0   9999.0                   0\n",
              "\n",
              "[1859 rows x 51 columns]"
            ]
          },
          "metadata": {}
        }
      ]
    },
    {
      "cell_type": "markdown",
      "metadata": {
        "id": "Jr9V6h8XuGaN"
      },
      "source": [
        "New target column - total_preeclampsia"
      ]
    },
    {
      "cell_type": "code",
      "metadata": {
        "id": "58f0Ej4aFMFP",
        "colab": {
          "base_uri": "https://localhost:8080/",
          "height": 351
        },
        "outputId": "05555781-b7e8-425d-c37a-2136de590106"
      },
      "source": [
        "#replace all Nan\n",
        "protect.replace(9999,np.NaN, inplace = True)\n",
        "# Class distribution for new variable - total_preeclampsia\n",
        "pd.value_counts(protect['total_preeclampsia']).plot.bar()\n",
        "plt.title(\"Class distribution for total preeclampsia cases\")\n",
        "plt.xlabel(\"Class - '0: No Current preeclampsia, 1: Diagnosed with preeclampsia\")\n",
        "plt.ylabel(\"Number of data points\")\n",
        "protect['total_preeclampsia'].value_counts()\n"
      ],
      "execution_count": 84,
      "outputs": [
        {
          "output_type": "execute_result",
          "data": {
            "text/plain": [
              "0.0    1814\n",
              "1.0      35\n",
              "Name: total_preeclampsia, dtype: int64"
            ]
          },
          "metadata": {},
          "execution_count": 84
        },
        {
          "output_type": "display_data",
          "data": {
            "image/png": "[encoded data removed]",
            "text/plain": [
              "<Figure size 432x288 with 1 Axes>"
            ]
          },
          "metadata": {
            "needs_background": "light"
          }
        }
      ]
    },
    {
      "cell_type": "code",
      "metadata": {
        "colab": {
          "base_uri": "https://localhost:8080/"
        },
        "id": "J6EKTH1XIjcz",
        "outputId": "9998425d-9f8b-4c2c-d1ba-e6e53cc872ab"
      },
      "source": [
        "#check new data\n",
        "protect.head()\n",
        "len(protect)"
      ],
      "execution_count": 85,
      "outputs": [
        {
          "output_type": "execute_result",
          "data": {
            "text/plain": [
              "1859"
            ]
          },
          "metadata": {},
          "execution_count": 85
        }
      ]
    },
    {
      "cell_type": "markdown",
      "metadata": {
        "id": "D4Mo4JVVuVZD"
      },
      "source": [
        "Data pre-processing and feature selection for the dataset including the new target variable"
      ]
    },
    {
      "cell_type": "code",
      "metadata": {
        "colab": {
          "base_uri": "https://localhost:8080/"
        },
        "id": "jM8XiN1MQtJz",
        "outputId": "1294677a-5b8a-45fd-ea1c-c29d339aff31"
      },
      "source": [
        "protect_new = protect.dropna(axis=1, thresh= 0.04 * len(protect),inplace=False)\n",
        "protect.info()\n",
        "protect_new.info()"
      ],
      "execution_count": 86,
      "outputs": [
        {
          "output_type": "stream",
          "name": "stdout",
          "text": [
            "<class 'pandas.core.frame.DataFrame'>\n",
            "RangeIndex: 1859 entries, 0 to 1858\n",
            "Data columns (total 51 columns):\n",
            " #   Column              Non-Null Count  Dtype  \n",
            "---  ------              --------------  -----  \n",
            " 0   SYS_LOC_CODE        1859 non-null   int64  \n",
            " 1   obdiffcard          2 non-null      float64\n",
            " 2   obdiffhbp           2 non-null      float64\n",
            " 3   obdiffkidney        2 non-null      float64\n",
            " 4   obdiffliver         2 non-null      float64\n",
            " 5   RACE__1             1859 non-null   int64  \n",
            " 6   RACE__2             1859 non-null   int64  \n",
            " 7   RACE__3             1859 non-null   int64  \n",
            " 8   RACE__4             1859 non-null   int64  \n",
            " 9   RACE__5             1859 non-null   int64  \n",
            " 10  RACE__6             1859 non-null   int64  \n",
            " 11  RACE__97            1859 non-null   int64  \n",
            " 12  RACE__888           1859 non-null   int64  \n",
            " 13  RACE__999           1859 non-null   int64  \n",
            " 14  race97              16 non-null     object \n",
            " 15  hisp                1731 non-null   float64\n",
            " 16  smkever             1856 non-null   float64\n",
            " 17  alcdays             799 non-null    float64\n",
            " 18  marijuse            1855 non-null   float64\n",
            " 19  druguse             1849 non-null   float64\n",
            " 20  fvcurrht_foot       1800 non-null   float64\n",
            " 21  fvcurrht_inch       1789 non-null   float64\n",
            " 22  wtprepreg           1847 non-null   float64\n",
            " 23  prembirthnum        1426 non-null   float64\n",
            " 24  pregnum             1853 non-null   float64\n",
            " 25  prevpreeclmp        1010 non-null   float64\n",
            " 26  preveclmp           1009 non-null   float64\n",
            " 27  currpreeclmp        1831 non-null   float64\n",
            " 28  curreclmp           1836 non-null   float64\n",
            " 29  currhd              1832 non-null   float64\n",
            " 30  currgd              1835 non-null   float64\n",
            " 31  prevhyp             1624 non-null   float64\n",
            " 32  preghyp_durante     1622 non-null   float64\n",
            " 33  prevdiab            1624 non-null   float64\n",
            " 34  pregdiab_durante    1623 non-null   float64\n",
            " 35  preglup_durante     1624 non-null   float64\n",
            " 36  prevlup             1626 non-null   float64\n",
            " 37  tvcurrpreeclmp      1703 non-null   float64\n",
            " 38  tvcurreclmp         1706 non-null   float64\n",
            " 39  tvcurrgd            1704 non-null   float64\n",
            " 40  ivf                 1858 non-null   float64\n",
            " 41  MULTIFETUS          1859 non-null   int64  \n",
            " 42  pptypelabor         943 non-null    float64\n",
            " 43  ppinduct            82 non-null     float64\n",
            " 44  pppretlabw          36 non-null     float64\n",
            " 45  pppreeclampsia      105 non-null    float64\n",
            " 46  vitd                1762 non-null   float64\n",
            " 47  vitdfreq            10 non-null     float64\n",
            " 48  cal                 1761 non-null   float64\n",
            " 49  calfreq             27 non-null     float64\n",
            " 50  total_preeclampsia  1849 non-null   float64\n",
            "dtypes: float64(39), int64(11), object(1)\n",
            "memory usage: 740.8+ KB\n",
            "<class 'pandas.core.frame.DataFrame'>\n",
            "RangeIndex: 1859 entries, 0 to 1858\n",
            "Data columns (total 43 columns):\n",
            " #   Column              Non-Null Count  Dtype  \n",
            "---  ------              --------------  -----  \n",
            " 0   SYS_LOC_CODE        1859 non-null   int64  \n",
            " 1   RACE__1             1859 non-null   int64  \n",
            " 2   RACE__2             1859 non-null   int64  \n",
            " 3   RACE__3             1859 non-null   int64  \n",
            " 4   RACE__4             1859 non-null   int64  \n",
            " 5   RACE__5             1859 non-null   int64  \n",
            " 6   RACE__6             1859 non-null   int64  \n",
            " 7   RACE__97            1859 non-null   int64  \n",
            " 8   RACE__888           1859 non-null   int64  \n",
            " 9   RACE__999           1859 non-null   int64  \n",
            " 10  hisp                1731 non-null   float64\n",
            " 11  smkever             1856 non-null   float64\n",
            " 12  alcdays             799 non-null    float64\n",
            " 13  marijuse            1855 non-null   float64\n",
            " 14  druguse             1849 non-null   float64\n",
            " 15  fvcurrht_foot       1800 non-null   float64\n",
            " 16  fvcurrht_inch       1789 non-null   float64\n",
            " 17  wtprepreg           1847 non-null   float64\n",
            " 18  prembirthnum        1426 non-null   float64\n",
            " 19  pregnum             1853 non-null   float64\n",
            " 20  prevpreeclmp        1010 non-null   float64\n",
            " 21  preveclmp           1009 non-null   float64\n",
            " 22  currpreeclmp        1831 non-null   float64\n",
            " 23  curreclmp           1836 non-null   float64\n",
            " 24  currhd              1832 non-null   float64\n",
            " 25  currgd              1835 non-null   float64\n",
            " 26  prevhyp             1624 non-null   float64\n",
            " 27  preghyp_durante     1622 non-null   float64\n",
            " 28  prevdiab            1624 non-null   float64\n",
            " 29  pregdiab_durante    1623 non-null   float64\n",
            " 30  preglup_durante     1624 non-null   float64\n",
            " 31  prevlup             1626 non-null   float64\n",
            " 32  tvcurrpreeclmp      1703 non-null   float64\n",
            " 33  tvcurreclmp         1706 non-null   float64\n",
            " 34  tvcurrgd            1704 non-null   float64\n",
            " 35  ivf                 1858 non-null   float64\n",
            " 36  MULTIFETUS          1859 non-null   int64  \n",
            " 37  pptypelabor         943 non-null    float64\n",
            " 38  ppinduct            82 non-null     float64\n",
            " 39  pppreeclampsia      105 non-null    float64\n",
            " 40  vitd                1762 non-null   float64\n",
            " 41  cal                 1761 non-null   float64\n",
            " 42  total_preeclampsia  1849 non-null   float64\n",
            "dtypes: float64(32), int64(11)\n",
            "memory usage: 624.6 KB\n"
          ]
        }
      ]
    },
    {
      "cell_type": "code",
      "metadata": {
        "id": "6WfgabDGqmfi"
      },
      "source": [
        "df = protect_new"
      ],
      "execution_count": 87,
      "outputs": []
    },
    {
      "cell_type": "code",
      "metadata": {
        "id": "oBlfOt3xqmhv"
      },
      "source": [
        "df = df.drop('SYS_LOC_CODE', axis=1)"
      ],
      "execution_count": 88,
      "outputs": []
    },
    {
      "cell_type": "code",
      "metadata": {
        "id": "E6z8IPQkrhPt"
      },
      "source": [
        "df = df.drop(['RACE__999','RACE__888'], axis =1)"
      ],
      "execution_count": 89,
      "outputs": []
    },
    {
      "cell_type": "code",
      "metadata": {
        "id": "YKEtATXUtiIK"
      },
      "source": [
        "df = df.drop(['pppreeclampsia', 'currpreeclmp','tvcurrpreeclmp'], axis=1)\n"
      ],
      "execution_count": 90,
      "outputs": []
    },
    {
      "cell_type": "code",
      "metadata": {
        "colab": {
          "base_uri": "https://localhost:8080/",
          "height": 223
        },
        "id": "VKbASSQ8sO5B",
        "outputId": "e011e070-a6bc-4875-c721-a1df03fbbe3c"
      },
      "source": [
        "df.head()"
      ],
      "execution_count": 91,
      "outputs": [
        {
          "output_type": "execute_result",
          "data": {
            "text/html": [
              "<div>\n",
              "<style scoped>\n",
              "    .dataframe tbody tr th:only-of-type {\n",
              "        vertical-align: middle;\n",
              "    }\n",
              "\n",
              "    .dataframe tbody tr th {\n",
              "        vertical-align: top;\n",
              "    }\n",
              "\n",
              "    .dataframe thead th {\n",
              "        text-align: right;\n",
              "    }\n",
              "</style>\n",
              "<table border=\"1\" class=\"dataframe\">\n",
              "  <thead>\n",
              "    <tr style=\"text-align: right;\">\n",
              "      <th></th>\n",
              "      <th>RACE__1</th>\n",
              "      <th>RACE__2</th>\n",
              "      <th>RACE__3</th>\n",
              "      <th>RACE__4</th>\n",
              "      <th>RACE__5</th>\n",
              "      <th>RACE__6</th>\n",
              "      <th>RACE__97</th>\n",
              "      <th>hisp</th>\n",
              "      <th>smkever</th>\n",
              "      <th>alcdays</th>\n",
              "      <th>marijuse</th>\n",
              "      <th>druguse</th>\n",
              "      <th>fvcurrht_foot</th>\n",
              "      <th>fvcurrht_inch</th>\n",
              "      <th>wtprepreg</th>\n",
              "      <th>prembirthnum</th>\n",
              "      <th>pregnum</th>\n",
              "      <th>prevpreeclmp</th>\n",
              "      <th>preveclmp</th>\n",
              "      <th>curreclmp</th>\n",
              "      <th>currhd</th>\n",
              "      <th>currgd</th>\n",
              "      <th>prevhyp</th>\n",
              "      <th>preghyp_durante</th>\n",
              "      <th>prevdiab</th>\n",
              "      <th>pregdiab_durante</th>\n",
              "      <th>preglup_durante</th>\n",
              "      <th>prevlup</th>\n",
              "      <th>tvcurreclmp</th>\n",
              "      <th>tvcurrgd</th>\n",
              "      <th>ivf</th>\n",
              "      <th>MULTIFETUS</th>\n",
              "      <th>pptypelabor</th>\n",
              "      <th>ppinduct</th>\n",
              "      <th>vitd</th>\n",
              "      <th>cal</th>\n",
              "      <th>total_preeclampsia</th>\n",
              "    </tr>\n",
              "  </thead>\n",
              "  <tbody>\n",
              "    <tr>\n",
              "      <th>0</th>\n",
              "      <td>1</td>\n",
              "      <td>0</td>\n",
              "      <td>0</td>\n",
              "      <td>0</td>\n",
              "      <td>0</td>\n",
              "      <td>0</td>\n",
              "      <td>0</td>\n",
              "      <td>1.0</td>\n",
              "      <td>0.0</td>\n",
              "      <td>1.0</td>\n",
              "      <td>0.0</td>\n",
              "      <td>0.0</td>\n",
              "      <td>5.0</td>\n",
              "      <td>1.0</td>\n",
              "      <td>85.0</td>\n",
              "      <td>0.0</td>\n",
              "      <td>1.0</td>\n",
              "      <td>NaN</td>\n",
              "      <td>NaN</td>\n",
              "      <td>0.0</td>\n",
              "      <td>0.0</td>\n",
              "      <td>0.0</td>\n",
              "      <td>0.0</td>\n",
              "      <td>0.0</td>\n",
              "      <td>0.0</td>\n",
              "      <td>0.0</td>\n",
              "      <td>0.0</td>\n",
              "      <td>0.0</td>\n",
              "      <td>0.0</td>\n",
              "      <td>0.0</td>\n",
              "      <td>0.0</td>\n",
              "      <td>0</td>\n",
              "      <td>1.0</td>\n",
              "      <td>NaN</td>\n",
              "      <td>0.0</td>\n",
              "      <td>0.0</td>\n",
              "      <td>0.0</td>\n",
              "    </tr>\n",
              "    <tr>\n",
              "      <th>1</th>\n",
              "      <td>1</td>\n",
              "      <td>1</td>\n",
              "      <td>0</td>\n",
              "      <td>0</td>\n",
              "      <td>0</td>\n",
              "      <td>0</td>\n",
              "      <td>1</td>\n",
              "      <td>1.0</td>\n",
              "      <td>0.0</td>\n",
              "      <td>NaN</td>\n",
              "      <td>0.0</td>\n",
              "      <td>0.0</td>\n",
              "      <td>5.0</td>\n",
              "      <td>5.0</td>\n",
              "      <td>155.0</td>\n",
              "      <td>0.0</td>\n",
              "      <td>1.0</td>\n",
              "      <td>NaN</td>\n",
              "      <td>NaN</td>\n",
              "      <td>0.0</td>\n",
              "      <td>0.0</td>\n",
              "      <td>0.0</td>\n",
              "      <td>0.0</td>\n",
              "      <td>0.0</td>\n",
              "      <td>0.0</td>\n",
              "      <td>0.0</td>\n",
              "      <td>0.0</td>\n",
              "      <td>0.0</td>\n",
              "      <td>0.0</td>\n",
              "      <td>0.0</td>\n",
              "      <td>0.0</td>\n",
              "      <td>0</td>\n",
              "      <td>1.0</td>\n",
              "      <td>NaN</td>\n",
              "      <td>0.0</td>\n",
              "      <td>0.0</td>\n",
              "      <td>0.0</td>\n",
              "    </tr>\n",
              "    <tr>\n",
              "      <th>2</th>\n",
              "      <td>0</td>\n",
              "      <td>0</td>\n",
              "      <td>1</td>\n",
              "      <td>0</td>\n",
              "      <td>0</td>\n",
              "      <td>0</td>\n",
              "      <td>0</td>\n",
              "      <td>1.0</td>\n",
              "      <td>1.0</td>\n",
              "      <td>1.0</td>\n",
              "      <td>0.0</td>\n",
              "      <td>0.0</td>\n",
              "      <td>5.0</td>\n",
              "      <td>3.0</td>\n",
              "      <td>200.0</td>\n",
              "      <td>1.0</td>\n",
              "      <td>2.0</td>\n",
              "      <td>1.0</td>\n",
              "      <td>1.0</td>\n",
              "      <td>0.0</td>\n",
              "      <td>0.0</td>\n",
              "      <td>0.0</td>\n",
              "      <td>NaN</td>\n",
              "      <td>NaN</td>\n",
              "      <td>NaN</td>\n",
              "      <td>NaN</td>\n",
              "      <td>NaN</td>\n",
              "      <td>NaN</td>\n",
              "      <td>NaN</td>\n",
              "      <td>NaN</td>\n",
              "      <td>0.0</td>\n",
              "      <td>0</td>\n",
              "      <td>1.0</td>\n",
              "      <td>NaN</td>\n",
              "      <td>NaN</td>\n",
              "      <td>NaN</td>\n",
              "      <td>0.0</td>\n",
              "    </tr>\n",
              "    <tr>\n",
              "      <th>3</th>\n",
              "      <td>1</td>\n",
              "      <td>0</td>\n",
              "      <td>0</td>\n",
              "      <td>0</td>\n",
              "      <td>0</td>\n",
              "      <td>0</td>\n",
              "      <td>0</td>\n",
              "      <td>1.0</td>\n",
              "      <td>1.0</td>\n",
              "      <td>1.0</td>\n",
              "      <td>0.0</td>\n",
              "      <td>0.0</td>\n",
              "      <td>5.0</td>\n",
              "      <td>2.0</td>\n",
              "      <td>152.0</td>\n",
              "      <td>1.0</td>\n",
              "      <td>2.0</td>\n",
              "      <td>0.0</td>\n",
              "      <td>0.0</td>\n",
              "      <td>0.0</td>\n",
              "      <td>0.0</td>\n",
              "      <td>0.0</td>\n",
              "      <td>0.0</td>\n",
              "      <td>0.0</td>\n",
              "      <td>0.0</td>\n",
              "      <td>0.0</td>\n",
              "      <td>0.0</td>\n",
              "      <td>0.0</td>\n",
              "      <td>0.0</td>\n",
              "      <td>0.0</td>\n",
              "      <td>0.0</td>\n",
              "      <td>0</td>\n",
              "      <td>1.0</td>\n",
              "      <td>NaN</td>\n",
              "      <td>0.0</td>\n",
              "      <td>0.0</td>\n",
              "      <td>0.0</td>\n",
              "    </tr>\n",
              "    <tr>\n",
              "      <th>4</th>\n",
              "      <td>1</td>\n",
              "      <td>0</td>\n",
              "      <td>0</td>\n",
              "      <td>0</td>\n",
              "      <td>0</td>\n",
              "      <td>0</td>\n",
              "      <td>0</td>\n",
              "      <td>1.0</td>\n",
              "      <td>0.0</td>\n",
              "      <td>1.0</td>\n",
              "      <td>0.0</td>\n",
              "      <td>0.0</td>\n",
              "      <td>5.0</td>\n",
              "      <td>5.0</td>\n",
              "      <td>130.0</td>\n",
              "      <td>0.0</td>\n",
              "      <td>2.0</td>\n",
              "      <td>0.0</td>\n",
              "      <td>0.0</td>\n",
              "      <td>0.0</td>\n",
              "      <td>0.0</td>\n",
              "      <td>0.0</td>\n",
              "      <td>0.0</td>\n",
              "      <td>0.0</td>\n",
              "      <td>0.0</td>\n",
              "      <td>0.0</td>\n",
              "      <td>0.0</td>\n",
              "      <td>0.0</td>\n",
              "      <td>0.0</td>\n",
              "      <td>0.0</td>\n",
              "      <td>0.0</td>\n",
              "      <td>0</td>\n",
              "      <td>1.0</td>\n",
              "      <td>NaN</td>\n",
              "      <td>0.0</td>\n",
              "      <td>0.0</td>\n",
              "      <td>0.0</td>\n",
              "    </tr>\n",
              "  </tbody>\n",
              "</table>\n",
              "</div>"
            ],
            "text/plain": [
              "   RACE__1  RACE__2  RACE__3  RACE__4  ...  ppinduct  vitd  cal  total_preeclampsia\n",
              "0        1        0        0        0  ...       NaN   0.0  0.0                 0.0\n",
              "1        1        1        0        0  ...       NaN   0.0  0.0                 0.0\n",
              "2        0        0        1        0  ...       NaN   NaN  NaN                 0.0\n",
              "3        1        0        0        0  ...       NaN   0.0  0.0                 0.0\n",
              "4        1        0        0        0  ...       NaN   0.0  0.0                 0.0\n",
              "\n",
              "[5 rows x 37 columns]"
            ]
          },
          "metadata": {},
          "execution_count": 91
        }
      ]
    },
    {
      "cell_type": "markdown",
      "metadata": {
        "id": "1W4xXSzlunFI"
      },
      "source": [
        "Impute missing data with the most frequently occuring points using sklearn categorical imputer"
      ]
    },
    {
      "cell_type": "code",
      "metadata": {
        "id": "yJlY_-1Zv8gS"
      },
      "source": [
        "from sklearn_pandas import CategoricalImputer\n",
        "imputer = CategoricalImputer()"
      ],
      "execution_count": 92,
      "outputs": []
    },
    {
      "cell_type": "code",
      "metadata": {
        "id": "9VW1NK78wA3F"
      },
      "source": [
        "df['marijuse'] = imputer.fit_transform(df['marijuse'])\n",
        "df['hisp'] = imputer.fit_transform(df['hisp'])\n",
        "df['smkever'] = imputer.fit_transform(df['smkever'])\n",
        "df['alcdays'] = imputer.fit_transform(df['alcdays'])\n",
        "df['druguse'] = imputer.fit_transform(df['druguse'])"
      ],
      "execution_count": 93,
      "outputs": []
    },
    {
      "cell_type": "code",
      "metadata": {
        "id": "7r91Yixm6EGb"
      },
      "source": [
        "# variables related to mother's height are not categorical, hence imputing missing values in this column by mean\n",
        "df['fvcurrht_foot'] = df['fvcurrht_foot'].fillna(df['fvcurrht_foot'].mean())\n",
        "df['fvcurrht_inch'] = df['fvcurrht_inch'].fillna(df['fvcurrht_inch'].mean())"
      ],
      "execution_count": 94,
      "outputs": []
    },
    {
      "cell_type": "code",
      "metadata": {
        "id": "HbaGPx3i5RlK"
      },
      "source": [
        "# combining height_foot and height_inches into a single column\n",
        "df['fvcurrht_inch'] = (df['fvcurrht_inch']-df['fvcurrht_inch'].min())/(df['fvcurrht_inch'].max()-df['fvcurrht_inch'].min())\n",
        "df['fvcurrht'] = df['fvcurrht_foot'] + df['fvcurrht_inch']"
      ],
      "execution_count": 95,
      "outputs": []
    },
    {
      "cell_type": "code",
      "metadata": {
        "id": "SwoYtovR7Pbk"
      },
      "source": [
        "df = df.drop(['fvcurrht_foot','fvcurrht_inch'], axis=1)"
      ],
      "execution_count": 96,
      "outputs": []
    },
    {
      "cell_type": "code",
      "metadata": {
        "id": "htb6WZE17uE2"
      },
      "source": [
        "df['wtprepreg'] = df['wtprepreg'].fillna(df['wtprepreg'].mean())"
      ],
      "execution_count": 97,
      "outputs": []
    },
    {
      "cell_type": "code",
      "metadata": {
        "id": "96YHFQwsC0o0"
      },
      "source": [
        "df['prembirthnum'] = imputer.fit_transform(df['prembirthnum'])\n",
        "df['pregnum'] = imputer.fit_transform(df['pregnum'])\n",
        "df['prevpreeclmp'] = imputer.fit_transform(df['prevpreeclmp'])\n",
        "df['preveclmp'] = imputer.fit_transform(df['preveclmp'])\n",
        "df['curreclmp'] = imputer.fit_transform(df['curreclmp'])\n",
        "df['currhd'] = imputer.fit_transform(df['currhd'])\n",
        "df['currgd'] = imputer.fit_transform(df['currgd'])\n",
        "df['prevhyp'] = imputer.fit_transform(df['prevhyp'])\n",
        "df['preghyp_durante'] = imputer.fit_transform(df['preghyp_durante'])\n",
        "df['prevdiab']\t= imputer.fit_transform(df['prevdiab'])\n",
        "df['pregdiab_durante']\t= imputer.fit_transform(df['pregdiab_durante'])\n",
        "df['preglup_durante']\t= imputer.fit_transform(df['preglup_durante'])\n",
        "df['prevlup'] = imputer.fit_transform(df['prevlup'])\n",
        "df['tvcurreclmp']\t= imputer.fit_transform(df['tvcurreclmp'])\n",
        "df['tvcurrgd'] = imputer.fit_transform(df['tvcurrgd'])\n",
        "df['ivf'] = imputer.fit_transform(df['ivf'])\n",
        "df['MULTIFETUS'] = imputer.fit_transform(df['MULTIFETUS'])\n",
        "df['vitd'] = imputer.fit_transform(df['vitd'])\n",
        "df['cal'] = imputer.fit_transform(df['cal'])\n",
        "df['pptypelabor'] = imputer.fit_transform(df['pptypelabor'])\n",
        "df['ppinduct'] =  imputer.fit_transform(df['ppinduct'])\n",
        "df['total_preeclampsia'] = imputer.fit_transform(df['total_preeclampsia'])"
      ],
      "execution_count": 98,
      "outputs": []
    },
    {
      "cell_type": "code",
      "metadata": {
        "colab": {
          "base_uri": "https://localhost:8080/"
        },
        "id": "IUShbuKSh4XM",
        "outputId": "24136762-e1f8-4ec4-acc0-c0f655a0bf0c"
      },
      "source": [
        "df['total_preeclampsia'].unique()"
      ],
      "execution_count": 99,
      "outputs": [
        {
          "output_type": "execute_result",
          "data": {
            "text/plain": [
              "array([0., 1.])"
            ]
          },
          "metadata": {},
          "execution_count": 99
        }
      ]
    },
    {
      "cell_type": "code",
      "metadata": {
        "colab": {
          "base_uri": "https://localhost:8080/"
        },
        "id": "4kwzYrm7n3HE",
        "outputId": "95c75f97-2ee5-4a45-e380-29f804bcd061"
      },
      "source": [
        "df.columns"
      ],
      "execution_count": 100,
      "outputs": [
        {
          "output_type": "execute_result",
          "data": {
            "text/plain": [
              "Index(['RACE__1', 'RACE__2', 'RACE__3', 'RACE__4', 'RACE__5', 'RACE__6',\n",
              "       'RACE__97', 'hisp', 'smkever', 'alcdays', 'marijuse', 'druguse',\n",
              "       'wtprepreg', 'prembirthnum', 'pregnum', 'prevpreeclmp', 'preveclmp',\n",
              "       'curreclmp', 'currhd', 'currgd', 'prevhyp', 'preghyp_durante',\n",
              "       'prevdiab', 'pregdiab_durante', 'preglup_durante', 'prevlup',\n",
              "       'tvcurreclmp', 'tvcurrgd', 'ivf', 'MULTIFETUS', 'pptypelabor',\n",
              "       'ppinduct', 'vitd', 'cal', 'total_preeclampsia', 'fvcurrht'],\n",
              "      dtype='object')"
            ]
          },
          "metadata": {},
          "execution_count": 100
        }
      ]
    },
    {
      "cell_type": "code",
      "metadata": {
        "id": "7FCDBQO8ons1"
      },
      "source": [
        "for i in df.columns:\n",
        "  if(df[i].isnull().values.any()):\n",
        "    print(i)"
      ],
      "execution_count": 101,
      "outputs": []
    },
    {
      "cell_type": "markdown",
      "metadata": {
        "id": "-Gc5B8rAwomZ"
      },
      "source": [
        "Splitting the data into test and train sets "
      ]
    },
    {
      "cell_type": "code",
      "metadata": {
        "id": "TBWmoNfHtO8d"
      },
      "source": [
        "train_df, test_df = train_test_split(df, test_size=0.2)"
      ],
      "execution_count": 102,
      "outputs": []
    },
    {
      "cell_type": "code",
      "metadata": {
        "id": "Wvtn05BRn6Rm"
      },
      "source": [
        "train_x = train_df[['RACE__1', 'RACE__2', 'RACE__3', 'RACE__4', 'RACE__5', 'RACE__6',\n",
        "       'RACE__97', 'hisp', 'smkever', 'alcdays', 'marijuse', 'druguse',\n",
        "       'wtprepreg', 'prembirthnum', 'pregnum', 'prevpreeclmp', 'preveclmp',\n",
        "        'curreclmp', 'currhd', 'currgd', 'prevhyp',\n",
        "       'preghyp_durante', 'prevdiab', 'pregdiab_durante', 'preglup_durante',\n",
        "       'prevlup', 'tvcurreclmp', 'tvcurrgd', 'ivf',\n",
        "       'MULTIFETUS', 'vitd', 'cal', 'fvcurrht','ppinduct','pptypelabor']]\n",
        "\n",
        "train_y = train_df[['total_preeclampsia']]"
      ],
      "execution_count": 103,
      "outputs": []
    },
    {
      "cell_type": "code",
      "metadata": {
        "id": "K7K1-rHttb5S"
      },
      "source": [
        "test_x = test_df[['RACE__1', 'RACE__2', 'RACE__3', 'RACE__4', 'RACE__5', 'RACE__6',\n",
        "       'RACE__97', 'hisp', 'smkever', 'alcdays', 'marijuse', 'druguse',\n",
        "       'wtprepreg', 'prembirthnum', 'pregnum', 'prevpreeclmp', 'preveclmp',\n",
        "        'curreclmp', 'currhd', 'currgd', 'prevhyp',\n",
        "       'preghyp_durante', 'prevdiab', 'pregdiab_durante', 'preglup_durante',\n",
        "       'prevlup', 'tvcurreclmp', 'tvcurrgd', 'ivf',\n",
        "       'MULTIFETUS', 'vitd', 'cal', 'fvcurrht','ppinduct','pptypelabor']]\n",
        "\n",
        "test_y = test_df[['total_preeclampsia']]"
      ],
      "execution_count": 104,
      "outputs": []
    },
    {
      "cell_type": "markdown",
      "metadata": {
        "id": "ztVnZsa4w0db"
      },
      "source": [
        "Fitting a Logistic Regression model with L1 penalty for feature selection on imbalanced dataset as baseline"
      ]
    },
    {
      "cell_type": "code",
      "metadata": {
        "colab": {
          "base_uri": "https://localhost:8080/"
        },
        "id": "Hcz2gEMonvds",
        "outputId": "c11f2b8e-dd35-4864-e7dd-b93737f1df3d"
      },
      "source": [
        "log = LogisticRegression(penalty='l1', solver='liblinear')\n",
        "log.fit(train_x, train_y)"
      ],
      "execution_count": 105,
      "outputs": [
        {
          "output_type": "stream",
          "name": "stderr",
          "text": [
            "/usr/local/lib/python3.7/dist-packages/sklearn/utils/validation.py:760: DataConversionWarning: A column-vector y was passed when a 1d array was expected. Please change the shape of y to (n_samples, ), for example using ravel().\n",
            "  y = column_or_1d(y, warn=True)\n"
          ]
        },
        {
          "output_type": "execute_result",
          "data": {
            "text/plain": [
              "LogisticRegression(C=1.0, class_weight=None, dual=False, fit_intercept=True,\n",
              "                   intercept_scaling=1, l1_ratio=None, max_iter=100,\n",
              "                   multi_class='auto', n_jobs=None, penalty='l1',\n",
              "                   random_state=None, solver='liblinear', tol=0.0001, verbose=0,\n",
              "                   warm_start=False)"
            ]
          },
          "metadata": {},
          "execution_count": 105
        }
      ]
    },
    {
      "cell_type": "code",
      "metadata": {
        "colab": {
          "base_uri": "https://localhost:8080/"
        },
        "id": "qwf5ARPeuc_m",
        "outputId": "065cd353-43a0-4468-a0ca-d14b3c1ff3c2"
      },
      "source": [
        "log.score(test_x, test_y)"
      ],
      "execution_count": 106,
      "outputs": [
        {
          "output_type": "execute_result",
          "data": {
            "text/plain": [
              "0.9865591397849462"
            ]
          },
          "metadata": {},
          "execution_count": 106
        }
      ]
    },
    {
      "cell_type": "code",
      "metadata": {
        "colab": {
          "base_uri": "https://localhost:8080/"
        },
        "id": "XpRIjhUnpNuz",
        "outputId": "7163260f-5a80-458d-d4d5-ab3d243a7799"
      },
      "source": [
        "log.coef_.ravel()"
      ],
      "execution_count": 107,
      "outputs": [
        {
          "output_type": "execute_result",
          "data": {
            "text/plain": [
              "array([ 6.97514995e-01,  0.00000000e+00,  0.00000000e+00,  0.00000000e+00,\n",
              "        0.00000000e+00,  1.13843857e+00,  0.00000000e+00,  0.00000000e+00,\n",
              "       -2.32796555e-03, -3.96837739e-03,  0.00000000e+00, -3.08794950e-03,\n",
              "        1.88172309e-02,  0.00000000e+00,  0.00000000e+00,  0.00000000e+00,\n",
              "       -3.16479708e-03,  0.00000000e+00,  0.00000000e+00, -5.30131262e-03,\n",
              "       -2.87561374e-03,  2.30984270e+00,  0.00000000e+00, -3.75094866e-03,\n",
              "       -2.63495235e-03, -6.33632922e-03,  0.00000000e+00, -4.03646475e-03,\n",
              "        0.00000000e+00,  0.00000000e+00, -2.18687148e-03, -1.51795299e-03,\n",
              "       -1.48195771e+00, -2.69582273e-01,  9.75083273e-01])"
            ]
          },
          "metadata": {},
          "execution_count": 107
        }
      ]
    },
    {
      "cell_type": "code",
      "metadata": {
        "id": "pMBg3WWIpsB7"
      },
      "source": [
        "colnames = train_x.columns"
      ],
      "execution_count": 108,
      "outputs": []
    },
    {
      "cell_type": "code",
      "metadata": {
        "colab": {
          "base_uri": "https://localhost:8080/"
        },
        "id": "qN_ofvOfu_Oc",
        "outputId": "5037e4c8-b832-4f70-a764-80ca6e2a6b25"
      },
      "source": [
        "colnames[[0,5,8,9,11,12,14,15,16,18,19,20,21,22,24,25,26,27,29,33,34]]"
      ],
      "execution_count": 109,
      "outputs": [
        {
          "output_type": "execute_result",
          "data": {
            "text/plain": [
              "Index(['RACE__1', 'RACE__6', 'smkever', 'alcdays', 'druguse', 'wtprepreg',\n",
              "       'pregnum', 'prevpreeclmp', 'preveclmp', 'currhd', 'currgd', 'prevhyp',\n",
              "       'preghyp_durante', 'prevdiab', 'preglup_durante', 'prevlup',\n",
              "       'tvcurreclmp', 'tvcurrgd', 'MULTIFETUS', 'ppinduct', 'pptypelabor'],\n",
              "      dtype='object')"
            ]
          },
          "metadata": {},
          "execution_count": 109
        }
      ]
    },
    {
      "cell_type": "code",
      "metadata": {
        "id": "255xKsK3vqj7"
      },
      "source": [
        "modified_train_x = train_x[['RACE__1', 'RACE__6', 'smkever', 'alcdays', 'druguse', 'wtprepreg',\n",
        "       'pregnum', 'prevpreeclmp', 'preveclmp', 'currhd', 'currgd', 'prevhyp',\n",
        "       'preghyp_durante', 'prevdiab', 'preglup_durante', 'prevlup',\n",
        "       'tvcurreclmp', 'tvcurrgd', 'MULTIFETUS', 'ppinduct', 'pptypelabor']]\n",
        "                            \n",
        "modified_train_y = train_y[['total_preeclampsia']]\n",
        "\n",
        "modified_test_x = test_x[['RACE__1', 'RACE__6', 'smkever', 'alcdays', 'druguse', 'wtprepreg',\n",
        "       'pregnum', 'prevpreeclmp', 'preveclmp', 'currhd', 'currgd', 'prevhyp',\n",
        "       'preghyp_durante', 'prevdiab', 'preglup_durante', 'prevlup',\n",
        "       'tvcurreclmp', 'tvcurrgd', 'MULTIFETUS', 'ppinduct', 'pptypelabor']]\n",
        "\n",
        "modified_test_y = test_y[['total_preeclampsia']]"
      ],
      "execution_count": 110,
      "outputs": []
    },
    {
      "cell_type": "code",
      "metadata": {
        "colab": {
          "base_uri": "https://localhost:8080/"
        },
        "id": "6bl9oaH8vqyv",
        "outputId": "c54cf642-3b67-476b-bbda-8bb14a2c5fcd"
      },
      "source": [
        "mdl2 = LogisticRegression(penalty='l1', solver='liblinear')\n",
        "mdl2.fit(modified_train_x, modified_train_y)"
      ],
      "execution_count": 111,
      "outputs": [
        {
          "output_type": "stream",
          "name": "stderr",
          "text": [
            "/usr/local/lib/python3.7/dist-packages/sklearn/utils/validation.py:760: DataConversionWarning: A column-vector y was passed when a 1d array was expected. Please change the shape of y to (n_samples, ), for example using ravel().\n",
            "  y = column_or_1d(y, warn=True)\n"
          ]
        },
        {
          "output_type": "execute_result",
          "data": {
            "text/plain": [
              "LogisticRegression(C=1.0, class_weight=None, dual=False, fit_intercept=True,\n",
              "                   intercept_scaling=1, l1_ratio=None, max_iter=100,\n",
              "                   multi_class='auto', n_jobs=None, penalty='l1',\n",
              "                   random_state=None, solver='liblinear', tol=0.0001, verbose=0,\n",
              "                   warm_start=False)"
            ]
          },
          "metadata": {},
          "execution_count": 111
        }
      ]
    },
    {
      "cell_type": "code",
      "metadata": {
        "colab": {
          "base_uri": "https://localhost:8080/"
        },
        "id": "mrMjtdEcwXzS",
        "outputId": "e6f6314c-fb32-4acf-9cf0-e84659e8c270"
      },
      "source": [
        "mdl2.score(modified_test_x, modified_test_y)"
      ],
      "execution_count": 112,
      "outputs": [
        {
          "output_type": "execute_result",
          "data": {
            "text/plain": [
              "0.9865591397849462"
            ]
          },
          "metadata": {},
          "execution_count": 112
        }
      ]
    },
    {
      "cell_type": "code",
      "metadata": {
        "colab": {
          "base_uri": "https://localhost:8080/",
          "height": 830
        },
        "id": "5j2FRsh9z5qE",
        "outputId": "f57f4d82-025d-4272-fefb-b19e496d1a3b"
      },
      "source": [
        "preds_before=mdl2.predict(modified_test_x)\n",
        "actual_y_before = modified_test_y\n",
        "from sklearn.metrics import confusion_matrix\n",
        "from sklearn.metrics import roc_curve,auc\n",
        "confusion_mat = confusion_matrix(actual_y_before,preds_before)\n",
        "print(\"Confusion Matrix :\\n\",confusion_mat)\n",
        "fig, ax = plt.subplots(figsize=(7.5, 7.5))\n",
        "ax.matshow(confusion_mat, cmap=plt.cm.Blues, alpha=0.3)\n",
        "for i in range(confusion_mat.shape[0]):\n",
        "    for j in range(confusion_mat.shape[1]):\n",
        "        ax.text(x=j, y=i,s=confusion_mat[i, j], va='center', ha='center', size='xx-large')\n",
        "plt.xlabel('Predictions', fontsize=18)\n",
        "plt.ylabel('Actuals', fontsize=18)\n",
        "plt.title('Confusion Matrix for Baseline Logistic Regression', fontsize=18)\n",
        "plt.show()\n",
        "\n",
        "\n",
        "false_positive_rate, true_positive_rate, _ = roc_curve(actual_y_before,preds_before)\n",
        "area_under_curve = auc(false_positive_rate,true_positive_rate)\n",
        "\n",
        "plt.plot(false_positive_rate, true_positive_rate, color='orange',lw=2, label='ROC curve (Area = %0.2f)' % area_under_curve)\n",
        "plt.plot([0, 1], [0, 1], color='darkblue', lw=2, linestyle='--')\n",
        "plt.title('ROC Curve before SMOTE')\n",
        "plt.xlabel('False Positive Rate')\n",
        "plt.ylabel('True Positive Rate')\n",
        "plt.xlim([0.0, 1.0])\n",
        "plt.ylim([0.0, 1.1])\n",
        "plt.legend(loc=\"lower right\")\n",
        "plt.show()"
      ],
      "execution_count": 113,
      "outputs": [
        {
          "output_type": "stream",
          "name": "stdout",
          "text": [
            "Confusion Matrix :\n",
            " [[367   0]\n",
            " [  5   0]]\n"
          ]
        },
        {
          "output_type": "display_data",
          "data": {
            "image/png": "[encoded data removed]",
            "text/plain": [
              "<Figure size 540x540 with 1 Axes>"
            ]
          },
          "metadata": {
            "needs_background": "light"
          }
        },
        {
          "output_type": "display_data",
          "data": {
            "image/png": "[encoded data removed]",
            "text/plain": [
              "<Figure size 432x288 with 1 Axes>"
            ]
          },
          "metadata": {
            "needs_background": "light"
          }
        }
      ]
    },
    {
      "cell_type": "markdown",
      "metadata": {
        "id": "cWWWV6NRxGIO"
      },
      "source": [
        "Before SMOTE"
      ]
    },
    {
      "cell_type": "code",
      "metadata": {
        "colab": {
          "base_uri": "https://localhost:8080/"
        },
        "id": "cWVCevg6wf2k",
        "outputId": "9f4ae52d-278a-4bf1-ad83-033f3d965561"
      },
      "source": [
        "modified_train_y.value_counts()"
      ],
      "execution_count": 114,
      "outputs": [
        {
          "output_type": "execute_result",
          "data": {
            "text/plain": [
              "total_preeclampsia\n",
              "0.0                   1457\n",
              "1.0                     30\n",
              "dtype: int64"
            ]
          },
          "metadata": {},
          "execution_count": 114
        }
      ]
    },
    {
      "cell_type": "code",
      "metadata": {
        "id": "6-tyYq6_izMf",
        "colab": {
          "base_uri": "https://localhost:8080/",
          "height": 318
        },
        "outputId": "d92da70c-0f31-4675-f3a3-5be97cc2314c"
      },
      "source": [
        "pd.value_counts(modified_train_y['total_preeclampsia']).plot.bar()\n",
        "plt.title(\"Class distribution for total preeclampsia cases before SMOTE\")\n",
        "plt.xlabel(\"Class - '0: No Current preeclampsia, 1: Diagnosed with preeclampsia\")\n",
        "plt.ylabel(\"Number of data points\")\n"
      ],
      "execution_count": 115,
      "outputs": [
        {
          "output_type": "execute_result",
          "data": {
            "text/plain": [
              "Text(0, 0.5, 'Number of data points')"
            ]
          },
          "metadata": {},
          "execution_count": 115
        },
        {
          "output_type": "display_data",
          "data": {
            "image/png": "[encoded data removed]",
            "text/plain": [
              "<Figure size 432x288 with 1 Axes>"
            ]
          },
          "metadata": {
            "needs_background": "light"
          }
        }
      ]
    },
    {
      "cell_type": "markdown",
      "metadata": {
        "id": "FQF0Wy6NxJuF"
      },
      "source": [
        "Synthetic minority oversampling technique (S.M.O.T.E)"
      ]
    },
    {
      "cell_type": "code",
      "metadata": {
        "colab": {
          "base_uri": "https://localhost:8080/"
        },
        "id": "mCfosdhXsgOH",
        "outputId": "fe1c955a-0559-4aac-c93a-2cb1bb5170c8"
      },
      "source": [
        "from imblearn.over_sampling import SMOTE\n",
        "\n",
        "sampling = SMOTE(random_state=10,ratio=1)\n",
        "smote_sampler=sampling.fit_sample(modified_train_x,modified_train_y)"
      ],
      "execution_count": 116,
      "outputs": [
        {
          "output_type": "stream",
          "name": "stderr",
          "text": [
            "/usr/local/lib/python3.7/dist-packages/sklearn/utils/validation.py:760: DataConversionWarning: A column-vector y was passed when a 1d array was expected. Please change the shape of y to (n_samples, ), for example using ravel().\n",
            "  y = column_or_1d(y, warn=True)\n",
            "/usr/local/lib/python3.7/dist-packages/sklearn/utils/deprecation.py:87: FutureWarning: Function safe_indexing is deprecated; safe_indexing is deprecated in version 0.22 and will be removed in version 0.24.\n",
            "  warnings.warn(msg, category=FutureWarning)\n"
          ]
        }
      ]
    },
    {
      "cell_type": "code",
      "metadata": {
        "id": "xFD0VFxWsgQr"
      },
      "source": [
        "smote_sampler_x=pd.DataFrame(smote_sampler[0],columns=modified_train_x.columns)\n",
        "smote_sampler_y=pd.DataFrame(smote_sampler[1],columns=modified_train_y.columns)\n",
        "smote_sampler_total = pd.concat([smote_sampler_x,smote_sampler_y],axis=1)"
      ],
      "execution_count": 117,
      "outputs": []
    },
    {
      "cell_type": "markdown",
      "metadata": {
        "id": "bZL-EmXo0a2V"
      },
      "source": [
        "After SMOTE -- Class imbalance issue resolved"
      ]
    },
    {
      "cell_type": "code",
      "metadata": {
        "colab": {
          "base_uri": "https://localhost:8080/"
        },
        "id": "aQhLghR6x0sT",
        "outputId": "41a12a21-aa73-4c3c-e0ec-410ca193e444"
      },
      "source": [
        "print(\"After smote balancing\\n 1.0 represents positive class and 0.0 represents negative class\\n\")\n",
        "smote_sampler_total['total_preeclampsia'].value_counts()"
      ],
      "execution_count": 118,
      "outputs": [
        {
          "output_type": "stream",
          "name": "stdout",
          "text": [
            "After smote balancing\n",
            " 1.0 represents positive class and 0.0 represents negative class\n",
            "\n"
          ]
        },
        {
          "output_type": "execute_result",
          "data": {
            "text/plain": [
              "1.0    1457\n",
              "0.0    1457\n",
              "Name: total_preeclampsia, dtype: int64"
            ]
          },
          "metadata": {},
          "execution_count": 118
        }
      ]
    },
    {
      "cell_type": "code",
      "metadata": {
        "colab": {
          "base_uri": "https://localhost:8080/",
          "height": 318
        },
        "id": "lCFCDwzraUoO",
        "outputId": "c0527d52-24e6-4f51-a0ae-f657e1c90532"
      },
      "source": [
        "pd.value_counts(smote_sampler_total['total_preeclampsia']).plot.bar()\n",
        "plt.title(\"Class distribution for total preeclampsia cases after SMOTE\")\n",
        "plt.xlabel(\"Class - 1: Diagnosed with preeclampsia, 0: No Current preeclampsia \")\n",
        "plt.ylabel(\"Number of data points\")"
      ],
      "execution_count": 119,
      "outputs": [
        {
          "output_type": "execute_result",
          "data": {
            "text/plain": [
              "Text(0, 0.5, 'Number of data points')"
            ]
          },
          "metadata": {},
          "execution_count": 119
        },
        {
          "output_type": "display_data",
          "data": {
            "image/png": "[encoded data removed]",
            "text/plain": [
              "<Figure size 432x288 with 1 Axes>"
            ]
          },
          "metadata": {
            "needs_background": "light"
          }
        }
      ]
    },
    {
      "cell_type": "code",
      "metadata": {
        "colab": {
          "base_uri": "https://localhost:8080/"
        },
        "id": "xanDTrihyO-l",
        "outputId": "eb46b142-5b18-45d8-99a7-6abaac23ce39"
      },
      "source": [
        "mdl_post_smote = LogisticRegression(penalty='l1', solver='liblinear', C = 10)\n",
        "mdl_post_smote.fit(smote_sampler_x, smote_sampler_y)"
      ],
      "execution_count": 120,
      "outputs": [
        {
          "output_type": "stream",
          "name": "stderr",
          "text": [
            "/usr/local/lib/python3.7/dist-packages/sklearn/utils/validation.py:760: DataConversionWarning: A column-vector y was passed when a 1d array was expected. Please change the shape of y to (n_samples, ), for example using ravel().\n",
            "  y = column_or_1d(y, warn=True)\n"
          ]
        },
        {
          "output_type": "execute_result",
          "data": {
            "text/plain": [
              "LogisticRegression(C=10, class_weight=None, dual=False, fit_intercept=True,\n",
              "                   intercept_scaling=1, l1_ratio=None, max_iter=100,\n",
              "                   multi_class='auto', n_jobs=None, penalty='l1',\n",
              "                   random_state=None, solver='liblinear', tol=0.0001, verbose=0,\n",
              "                   warm_start=False)"
            ]
          },
          "metadata": {},
          "execution_count": 120
        }
      ]
    },
    {
      "cell_type": "code",
      "metadata": {
        "colab": {
          "base_uri": "https://localhost:8080/"
        },
        "id": "AdPT4TDEydqk",
        "outputId": "be78ea80-31ad-41ec-d7ec-301ab6a3c644"
      },
      "source": [
        "mdl_post_smote.score(modified_test_x, modified_test_y)"
      ],
      "execution_count": 121,
      "outputs": [
        {
          "output_type": "execute_result",
          "data": {
            "text/plain": [
              "0.8064516129032258"
            ]
          },
          "metadata": {},
          "execution_count": 121
        }
      ]
    },
    {
      "cell_type": "code",
      "metadata": {
        "colab": {
          "base_uri": "https://localhost:8080/",
          "height": 830
        },
        "id": "OGLyyOekzS7Q",
        "outputId": "461bbe89-deee-4875-c4ac-8ec770a53859"
      },
      "source": [
        "preds=mdl_post_smote.predict(modified_test_x)\n",
        "actual_y = modified_test_y\n",
        "\n",
        "confusion_mat = confusion_matrix(actual_y,preds)\n",
        "print(\"Confusion Matrix :\\n\",confusion_mat)\n",
        "fig, ax = plt.subplots(figsize=(7.5, 7.5))\n",
        "ax.matshow(confusion_mat, cmap=plt.cm.Blues, alpha=0.3)\n",
        "for i in range(confusion_mat.shape[0]):\n",
        "    for j in range(confusion_mat.shape[1]):\n",
        "        ax.text(x=j, y=i,s=confusion_mat[i, j], va='center', ha='center', size='xx-large')\n",
        "plt.xlabel('Predictions', fontsize=18)\n",
        "plt.ylabel('Actuals', fontsize=18)\n",
        "plt.title('Confusion Matrix after SMOTE', fontsize=18)\n",
        "plt.show()\n",
        "\n",
        "false_positive_rate, true_positive_rate, _ = roc_curve(actual_y,preds)\n",
        "area_under_curve = auc(false_positive_rate,true_positive_rate)\n",
        "\n",
        "plt.plot(false_positive_rate, true_positive_rate, color='orange',lw=2, label='ROC curve (Area = %0.2f)' % area_under_curve)\n",
        "plt.plot([0, 1], [0, 1], color='darkblue', lw=2, linestyle='--')\n",
        "plt.title('ROC Curve after SMOTE')\n",
        "plt.xlabel('False Positive Rate')\n",
        "plt.ylabel('True Positive Rate')\n",
        "plt.xlim([0.0, 1.0])\n",
        "plt.ylim([0.0, 1.1])\n",
        "plt.legend(loc=\"lower right\")\n",
        "plt.show()"
      ],
      "execution_count": 122,
      "outputs": [
        {
          "output_type": "stream",
          "name": "stdout",
          "text": [
            "Confusion Matrix :\n",
            " [[296  71]\n",
            " [  1   4]]\n"
          ]
        },
        {
          "output_type": "display_data",
          "data": {
            "image/png": "[encoded data removed]",
            "text/plain": [
              "<Figure size 540x540 with 1 Axes>"
            ]
          },
          "metadata": {
            "needs_background": "light"
          }
        },
        {
          "output_type": "display_data",
          "data": {
            "image/png": "[encoded data removed]",
            "text/plain": [
              "<Figure size 432x288 with 1 Axes>"
            ]
          },
          "metadata": {
            "needs_background": "light"
          }
        }
      ]
    },
    {
      "cell_type": "markdown",
      "metadata": {
        "id": "Akr52buc0iim"
      },
      "source": [
        "Model performance boosts up after resolving class imbalance in the dataset. AUC score increases from 0.5 to 0.83 which is the best way to compare and judge the performance of the classifiers.\n",
        "\n",
        "Hence SMOTE resolves class imbalance issues which consequently improves the performance of the classifier."
      ]
    },
    {
      "cell_type": "markdown",
      "metadata": {
        "id": "6v-1JNCmhsH9"
      },
      "source": [
        "Other types of SMOTE"
      ]
    },
    {
      "cell_type": "markdown",
      "metadata": {
        "id": "Jl8LV7bRoEfh"
      },
      "source": [
        "SVM SMOTE"
      ]
    },
    {
      "cell_type": "code",
      "metadata": {
        "colab": {
          "base_uri": "https://localhost:8080/"
        },
        "id": "R_jnZiX-hl_f",
        "outputId": "091ed66d-4d3f-42d1-ad2e-dc3eafe7c97a"
      },
      "source": [
        "from imblearn.over_sampling import SVMSMOTE\n",
        "\n",
        "sampling = SVMSMOTE(random_state=10)\n",
        "smote_sampler=sampling.fit_sample(modified_train_x,modified_train_y)"
      ],
      "execution_count": 123,
      "outputs": [
        {
          "output_type": "stream",
          "name": "stderr",
          "text": [
            "/usr/local/lib/python3.7/dist-packages/sklearn/utils/validation.py:760: DataConversionWarning: A column-vector y was passed when a 1d array was expected. Please change the shape of y to (n_samples, ), for example using ravel().\n",
            "  y = column_or_1d(y, warn=True)\n",
            "/usr/local/lib/python3.7/dist-packages/sklearn/utils/deprecation.py:87: FutureWarning: Function safe_indexing is deprecated; safe_indexing is deprecated in version 0.22 and will be removed in version 0.24.\n",
            "  warnings.warn(msg, category=FutureWarning)\n",
            "/usr/local/lib/python3.7/dist-packages/sklearn/utils/deprecation.py:87: FutureWarning: Function safe_indexing is deprecated; safe_indexing is deprecated in version 0.22 and will be removed in version 0.24.\n",
            "  warnings.warn(msg, category=FutureWarning)\n",
            "/usr/local/lib/python3.7/dist-packages/sklearn/utils/deprecation.py:87: FutureWarning: Function safe_indexing is deprecated; safe_indexing is deprecated in version 0.22 and will be removed in version 0.24.\n",
            "  warnings.warn(msg, category=FutureWarning)\n",
            "/usr/local/lib/python3.7/dist-packages/sklearn/utils/deprecation.py:87: FutureWarning: Function safe_indexing is deprecated; safe_indexing is deprecated in version 0.22 and will be removed in version 0.24.\n",
            "  warnings.warn(msg, category=FutureWarning)\n",
            "/usr/local/lib/python3.7/dist-packages/sklearn/utils/deprecation.py:87: FutureWarning: Function safe_indexing is deprecated; safe_indexing is deprecated in version 0.22 and will be removed in version 0.24.\n",
            "  warnings.warn(msg, category=FutureWarning)\n"
          ]
        }
      ]
    },
    {
      "cell_type": "code",
      "metadata": {
        "id": "i7AEGgQ-hxn7"
      },
      "source": [
        "smote_sampler_x=pd.DataFrame(smote_sampler[0],columns=modified_train_x.columns)\n",
        "smote_sampler_y=pd.DataFrame(smote_sampler[1],columns=modified_train_y.columns)\n",
        "smote_sampler_total = pd.concat([smote_sampler_x,smote_sampler_y],axis=1)"
      ],
      "execution_count": 124,
      "outputs": []
    },
    {
      "cell_type": "code",
      "metadata": {
        "colab": {
          "base_uri": "https://localhost:8080/"
        },
        "id": "OEoHf6swh18P",
        "outputId": "5602b50c-ca4a-48f8-cfdd-9e3a4fdee2b5"
      },
      "source": [
        "print(\"After smote balancing\\n 1.0 represents positive class and 0.0 represents negative class\\n\")\n",
        "smote_sampler_total['total_preeclampsia'].value_counts()"
      ],
      "execution_count": 125,
      "outputs": [
        {
          "output_type": "stream",
          "name": "stdout",
          "text": [
            "After smote balancing\n",
            " 1.0 represents positive class and 0.0 represents negative class\n",
            "\n"
          ]
        },
        {
          "output_type": "execute_result",
          "data": {
            "text/plain": [
              "0.0    1457\n",
              "1.0     807\n",
              "Name: total_preeclampsia, dtype: int64"
            ]
          },
          "metadata": {},
          "execution_count": 125
        }
      ]
    },
    {
      "cell_type": "code",
      "metadata": {
        "colab": {
          "base_uri": "https://localhost:8080/",
          "height": 318
        },
        "id": "d-Yl0Mb-h7lJ",
        "outputId": "b2690617-21a0-4523-bbec-f9e20670807e"
      },
      "source": [
        "pd.value_counts(smote_sampler_total['total_preeclampsia']).plot.bar()\n",
        "plt.title(\"Class distribution for total preeclampsia cases after SVM-SMOTE\")\n",
        "plt.xlabel(\"Class - 1: Diagnosed with preeclampsia, 0: No Current preeclampsia \")\n",
        "plt.ylabel(\"Number of data points\")"
      ],
      "execution_count": 126,
      "outputs": [
        {
          "output_type": "execute_result",
          "data": {
            "text/plain": [
              "Text(0, 0.5, 'Number of data points')"
            ]
          },
          "metadata": {},
          "execution_count": 126
        },
        {
          "output_type": "display_data",
          "data": {
            "image/png": "[encoded data removed]",
            "text/plain": [
              "<Figure size 432x288 with 1 Axes>"
            ]
          },
          "metadata": {
            "needs_background": "light"
          }
        }
      ]
    },
    {
      "cell_type": "code",
      "metadata": {
        "colab": {
          "base_uri": "https://localhost:8080/"
        },
        "id": "yl3uc4a5iAPs",
        "outputId": "22abc462-d1b6-4ff4-e06d-f762088d31c3"
      },
      "source": [
        "mdl_post_smote = LogisticRegression(penalty='l1', solver='liblinear', C = 10)\n",
        "mdl_post_smote.fit(smote_sampler_x, smote_sampler_y)"
      ],
      "execution_count": 127,
      "outputs": [
        {
          "output_type": "stream",
          "name": "stderr",
          "text": [
            "/usr/local/lib/python3.7/dist-packages/sklearn/utils/validation.py:760: DataConversionWarning: A column-vector y was passed when a 1d array was expected. Please change the shape of y to (n_samples, ), for example using ravel().\n",
            "  y = column_or_1d(y, warn=True)\n"
          ]
        },
        {
          "output_type": "execute_result",
          "data": {
            "text/plain": [
              "LogisticRegression(C=10, class_weight=None, dual=False, fit_intercept=True,\n",
              "                   intercept_scaling=1, l1_ratio=None, max_iter=100,\n",
              "                   multi_class='auto', n_jobs=None, penalty='l1',\n",
              "                   random_state=None, solver='liblinear', tol=0.0001, verbose=0,\n",
              "                   warm_start=False)"
            ]
          },
          "metadata": {},
          "execution_count": 127
        }
      ]
    },
    {
      "cell_type": "code",
      "metadata": {
        "colab": {
          "base_uri": "https://localhost:8080/"
        },
        "id": "cvksjG18nzF9",
        "outputId": "f3938d98-1d7c-4ff8-9ff5-921de4a9e2f2"
      },
      "source": [
        "mdl_post_smote.score(modified_test_x, modified_test_y)"
      ],
      "execution_count": 128,
      "outputs": [
        {
          "output_type": "execute_result",
          "data": {
            "text/plain": [
              "0.9354838709677419"
            ]
          },
          "metadata": {},
          "execution_count": 128
        }
      ]
    },
    {
      "cell_type": "code",
      "metadata": {
        "colab": {
          "base_uri": "https://localhost:8080/",
          "height": 830
        },
        "id": "r-Mt5mexn4_M",
        "outputId": "881d7a2a-76e7-4d9b-dde6-2f88e469c6ae"
      },
      "source": [
        "preds=mdl_post_smote.predict(modified_test_x)\n",
        "actual_y = modified_test_y\n",
        "\n",
        "confusion_mat = confusion_matrix(actual_y,preds)\n",
        "print(\"Confusion Matrix :\\n\",confusion_mat)\n",
        "fig, ax = plt.subplots(figsize=(7.5, 7.5))\n",
        "ax.matshow(confusion_mat, cmap=plt.cm.Blues, alpha=0.3)\n",
        "for i in range(confusion_mat.shape[0]):\n",
        "    for j in range(confusion_mat.shape[1]):\n",
        "        ax.text(x=j, y=i,s=confusion_mat[i, j], va='center', ha='center', size='xx-large')\n",
        "plt.xlabel('Predictions', fontsize=18)\n",
        "plt.ylabel('Actuals', fontsize=18)\n",
        "plt.title('Confusion Matrix for SVM-SMOTE', fontsize=18)\n",
        "plt.show()\n",
        "\n",
        "false_positive_rate, true_positive_rate, _ = roc_curve(actual_y,preds)\n",
        "area_under_curve = auc(false_positive_rate,true_positive_rate)\n",
        "\n",
        "plt.plot(false_positive_rate, true_positive_rate, color='orange',lw=2, label='ROC curve (Area = %0.2f)' % area_under_curve)\n",
        "plt.plot([0, 1], [0, 1], color='darkblue', lw=2, linestyle='--')\n",
        "plt.title('ROC Curve for SVM-SMOTE')\n",
        "plt.xlabel('False Positive Rate')\n",
        "plt.ylabel('True Positive Rate')\n",
        "plt.xlim([0.0, 1.0])\n",
        "plt.ylim([0.0, 1.1])\n",
        "plt.legend(loc=\"lower right\")\n",
        "plt.show()"
      ],
      "execution_count": 130,
      "outputs": [
        {
          "output_type": "stream",
          "name": "stdout",
          "text": [
            "Confusion Matrix :\n",
            " [[345  22]\n",
            " [  2   3]]\n"
          ]
        },
        {
          "output_type": "display_data",
          "data": {
            "image/png": "[encoded data removed]",
            "text/plain": [
              "<Figure size 540x540 with 1 Axes>"
            ]
          },
          "metadata": {
            "needs_background": "light"
          }
        },
        {
          "output_type": "display_data",
          "data": {
            "image/png": "[encoded data removed]",
            "text/plain": [
              "<Figure size 432x288 with 1 Axes>"
            ]
          },
          "metadata": {
            "needs_background": "light"
          }
        }
      ]
    },
    {
      "cell_type": "markdown",
      "metadata": {
        "id": "iEg7ete5oQ4Q"
      },
      "source": [
        "ADASYN"
      ]
    },
    {
      "cell_type": "code",
      "metadata": {
        "colab": {
          "base_uri": "https://localhost:8080/"
        },
        "id": "sGOA0v69oTA3",
        "outputId": "2a772475-b6f6-4d97-fe4d-dec1b0bc7d07"
      },
      "source": [
        "from imblearn.over_sampling import ADASYN\n",
        "\n",
        "sampling = ADASYN(random_state=10)\n",
        "smote_sampler=sampling.fit_sample(modified_train_x,modified_train_y)"
      ],
      "execution_count": 131,
      "outputs": [
        {
          "output_type": "stream",
          "name": "stderr",
          "text": [
            "/usr/local/lib/python3.7/dist-packages/sklearn/utils/validation.py:760: DataConversionWarning: A column-vector y was passed when a 1d array was expected. Please change the shape of y to (n_samples, ), for example using ravel().\n",
            "  y = column_or_1d(y, warn=True)\n",
            "/usr/local/lib/python3.7/dist-packages/sklearn/utils/deprecation.py:87: FutureWarning: Function safe_indexing is deprecated; safe_indexing is deprecated in version 0.22 and will be removed in version 0.24.\n",
            "  warnings.warn(msg, category=FutureWarning)\n"
          ]
        }
      ]
    },
    {
      "cell_type": "code",
      "metadata": {
        "id": "14cpnfMgoZbv"
      },
      "source": [
        "smote_sampler_x=pd.DataFrame(smote_sampler[0],columns=modified_train_x.columns)\n",
        "smote_sampler_y=pd.DataFrame(smote_sampler[1],columns=modified_train_y.columns)\n",
        "smote_sampler_total = pd.concat([smote_sampler_x,smote_sampler_y],axis=1)"
      ],
      "execution_count": 132,
      "outputs": []
    },
    {
      "cell_type": "code",
      "metadata": {
        "colab": {
          "base_uri": "https://localhost:8080/"
        },
        "id": "DGAKO0pTonKK",
        "outputId": "145dac74-09ea-4033-e893-878f31e79014"
      },
      "source": [
        "print(\"After smote balancing\\n 1.0 represents positive class and 0.0 represents negative class\\n\")\n",
        "smote_sampler_total['total_preeclampsia'].value_counts()"
      ],
      "execution_count": 133,
      "outputs": [
        {
          "output_type": "stream",
          "name": "stdout",
          "text": [
            "After smote balancing\n",
            " 1.0 represents positive class and 0.0 represents negative class\n",
            "\n"
          ]
        },
        {
          "output_type": "execute_result",
          "data": {
            "text/plain": [
              "1.0    1460\n",
              "0.0    1457\n",
              "Name: total_preeclampsia, dtype: int64"
            ]
          },
          "metadata": {},
          "execution_count": 133
        }
      ]
    },
    {
      "cell_type": "code",
      "metadata": {
        "colab": {
          "base_uri": "https://localhost:8080/",
          "height": 318
        },
        "id": "SgRFvfckoqSG",
        "outputId": "0f09f808-900e-4990-cd27-7ba5626d4bfc"
      },
      "source": [
        "pd.value_counts(smote_sampler_total['total_preeclampsia']).plot.bar()\n",
        "plt.title(\"Class distribution for total preeclampsia cases after ADASYN\")\n",
        "plt.xlabel(\"Class - 1: Diagnosed with preeclampsia, 0: No Current preeclampsia \")\n",
        "plt.ylabel(\"Number of data points\")"
      ],
      "execution_count": 134,
      "outputs": [
        {
          "output_type": "execute_result",
          "data": {
            "text/plain": [
              "Text(0, 0.5, 'Number of data points')"
            ]
          },
          "metadata": {},
          "execution_count": 134
        },
        {
          "output_type": "display_data",
          "data": {
            "image/png": "[encoded data removed]",
            "text/plain": [
              "<Figure size 432x288 with 1 Axes>"
            ]
          },
          "metadata": {
            "needs_background": "light"
          }
        }
      ]
    },
    {
      "cell_type": "code",
      "metadata": {
        "colab": {
          "base_uri": "https://localhost:8080/"
        },
        "id": "6OeDOFKQotF-",
        "outputId": "9cbb32a0-0108-40ed-c936-f4f792243ae8"
      },
      "source": [
        "mdl_post_smote = LogisticRegression(penalty='l1', solver='liblinear', C = 10)\n",
        "mdl_post_smote.fit(smote_sampler_x, smote_sampler_y)"
      ],
      "execution_count": 135,
      "outputs": [
        {
          "output_type": "stream",
          "name": "stderr",
          "text": [
            "/usr/local/lib/python3.7/dist-packages/sklearn/utils/validation.py:760: DataConversionWarning: A column-vector y was passed when a 1d array was expected. Please change the shape of y to (n_samples, ), for example using ravel().\n",
            "  y = column_or_1d(y, warn=True)\n"
          ]
        },
        {
          "output_type": "execute_result",
          "data": {
            "text/plain": [
              "LogisticRegression(C=10, class_weight=None, dual=False, fit_intercept=True,\n",
              "                   intercept_scaling=1, l1_ratio=None, max_iter=100,\n",
              "                   multi_class='auto', n_jobs=None, penalty='l1',\n",
              "                   random_state=None, solver='liblinear', tol=0.0001, verbose=0,\n",
              "                   warm_start=False)"
            ]
          },
          "metadata": {},
          "execution_count": 135
        }
      ]
    },
    {
      "cell_type": "code",
      "metadata": {
        "colab": {
          "base_uri": "https://localhost:8080/"
        },
        "id": "32V84Hy0ow5p",
        "outputId": "2539169c-afce-44f9-8b23-66944cb7a173"
      },
      "source": [
        "mdl_post_smote.score(modified_test_x, modified_test_y)"
      ],
      "execution_count": 136,
      "outputs": [
        {
          "output_type": "execute_result",
          "data": {
            "text/plain": [
              "0.7876344086021505"
            ]
          },
          "metadata": {},
          "execution_count": 136
        }
      ]
    },
    {
      "cell_type": "code",
      "metadata": {
        "colab": {
          "base_uri": "https://localhost:8080/",
          "height": 830
        },
        "id": "Q2dbubZko0uK",
        "outputId": "01ff5e4f-dfd5-48fb-a2b1-8f9bddbcf04c"
      },
      "source": [
        "preds=mdl_post_smote.predict(modified_test_x)\n",
        "actual_y = modified_test_y\n",
        "\n",
        "confusion_mat = confusion_matrix(actual_y,preds)\n",
        "print(\"Confusion Matrix :\\n\",confusion_mat)\n",
        "fig, ax = plt.subplots(figsize=(7.5, 7.5))\n",
        "ax.matshow(confusion_mat, cmap=plt.cm.Blues, alpha=0.3)\n",
        "for i in range(confusion_mat.shape[0]):\n",
        "    for j in range(confusion_mat.shape[1]):\n",
        "        ax.text(x=j, y=i,s=confusion_mat[i, j], va='center', ha='center', size='xx-large')\n",
        "plt.xlabel('Predictions', fontsize=18)\n",
        "plt.ylabel('Actuals', fontsize=18)\n",
        "plt.title('Confusion Matrix after ADASYN', fontsize=18)\n",
        "plt.show()\n",
        "\n",
        "false_positive_rate, true_positive_rate, _ = roc_curve(actual_y,preds)\n",
        "area_under_curve = auc(false_positive_rate,true_positive_rate)\n",
        "\n",
        "plt.plot(false_positive_rate, true_positive_rate, color='orange',lw=2, label='ROC curve (Area = %0.2f)' % area_under_curve)\n",
        "plt.plot([0, 1], [0, 1], color='darkblue', lw=2, linestyle='--')\n",
        "plt.title('ROC Curve after ADASYN')\n",
        "plt.xlabel('False Positive Rate')\n",
        "plt.ylabel('True Positive Rate')\n",
        "plt.xlim([0.0, 1.0])\n",
        "plt.ylim([0.0, 1.1])\n",
        "plt.legend(loc=\"lower right\")\n",
        "plt.show()"
      ],
      "execution_count": 137,
      "outputs": [
        {
          "output_type": "stream",
          "name": "stdout",
          "text": [
            "Confusion Matrix :\n",
            " [[289  78]\n",
            " [  1   4]]\n"
          ]
        },
        {
          "output_type": "display_data",
          "data": {
            "image/png": "[encoded data removed]",
            "text/plain": [
              "<Figure size 540x540 with 1 Axes>"
            ]
          },
          "metadata": {
            "needs_background": "light"
          }
        },
        {
          "output_type": "display_data",
          "data": {
            "image/png": "[encoded data removed]",
            "text/plain": [
              "<Figure size 432x288 with 1 Axes>"
            ]
          },
          "metadata": {
            "needs_background": "light"
          }
        }
      ]
    },
    {
      "cell_type": "markdown",
      "metadata": {
        "id": "owPiweOv1QBi"
      },
      "source": [
        "******** End of Code *************"
      ]
    },
    {
      "cell_type": "markdown",
      "metadata": {
        "id": "T0x9fHQDyJvu"
      },
      "source": [
        "For later reference if needed .."
      ]
    },
    {
      "cell_type": "code",
      "metadata": {
        "id": "8DPCXRCwQJXp"
      },
      "source": [
        "#pregnum - categorical\n",
        "#prevpreeclmp - categorical\n",
        "#preveclmp - categorical\n",
        "#currpreeclmp - categorical\n",
        "#curreclmp - categorical\n",
        "#currhd - categorical\n",
        "#currgd - categorical\n",
        "#prevhyp - categorical\n",
        "#preghyp_durante - categorical\n",
        "#prevdiab\t- categorical\n",
        "#pregdiab_durante\t- categorical\n",
        "#preglup_durante\t- categorical\n",
        "#prevlup - categorical\n",
        "#tvcurrpreeclmp\t- categorical\n",
        "#tvcurreclmp\t- categorical\n",
        "#tvcurrgd - categorical\n",
        "#ivf - categorical\n",
        "#MULTIFETUS - categorical\n",
        "#vitd - categorical\n",
        "#cal - categorical\n",
        "#total_preeclampsia - categorical"
      ],
      "execution_count": null,
      "outputs": []
    }
  ]
}